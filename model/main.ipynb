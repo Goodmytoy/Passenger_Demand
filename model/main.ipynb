{
 "cells": [
  {
   "cell_type": "code",
   "execution_count": 1,
   "id": "critical-founder",
   "metadata": {},
   "outputs": [],
   "source": [
    "from preprocess import *"
   ]
  },
  {
   "cell_type": "code",
   "execution_count": 2,
   "id": "strange-karen",
   "metadata": {},
   "outputs": [],
   "source": [
    "import pandas as pd\n",
    "import numpy as np"
   ]
  },
  {
   "cell_type": "code",
   "execution_count": 3,
   "id": "bored-contribution",
   "metadata": {},
   "outputs": [],
   "source": [
    "holiday_data = pd.read_parquet(\"/home/seho/Passenger_Demand/data/holiday_data.parquet\")\n",
    "weather_data = pd.read_parquet(\"/home/seho/Passenger_Demand/data/weather_2018.parquet\")\n",
    "pm_data = pd.read_csv(\"/home/seho/Passenger_Demand/data/pm_data.csv\")\n",
    "\n",
    "trading_area_data = pd.read_csv(\"/home/seho/Passenger_Demand/data/울산광역시_상권정보_201231.csv\")\n",
    "hospital_data = pd.read_csv(\"/home/seho/Passenger_Demand/data/api_data/hospital_data.csv\")\n",
    "school_data = pd.read_csv(\"/home/seho/Passenger_Demand/data/school_data.csv\")\n",
    "\n",
    "event_data = pd.read_csv(\"~/Passenger_Demand/data/event_data.csv\")\n",
    "festival_data = pd.read_csv(\"~/Passenger_Demand/data/festival_data.csv\")"
   ]
  },
  {
   "cell_type": "code",
   "execution_count": 4,
   "id": "eight-soviet",
   "metadata": {},
   "outputs": [],
   "source": [
    "base_data = pd.read_pickle(\"/home/seho/Passenger_Demand/data/base_data.pkl\")"
   ]
  },
  {
   "cell_type": "code",
   "execution_count": null,
   "id": "native-mandate",
   "metadata": {},
   "outputs": [],
   "source": []
  },
  {
   "cell_type": "code",
   "execution_count": 7,
   "id": "chicken-delta",
   "metadata": {},
   "outputs": [],
   "source": [
    "preprocessing = preprocess(data = base_data,\n",
    "                           date_col = \"transdate\", \n",
    "                           target_cols = \"totalcnt\", \n",
    "                           stop_id_col = \"stop_id\", \n",
    "                           holiday_data = holiday_data,\n",
    "                           weather_data = weather_data,\n",
    "                           pm_data = pm_data,\n",
    "                           trading_area_data = trading_area_data,\n",
    "                           hospital_data = hospital_data,\n",
    "                           school_data = school_data,\n",
    "                           event_data = event_data,\n",
    "                           festival_data = festival_data,\n",
    "                           num_cores = 12)"
   ]
  },
  {
   "cell_type": "code",
   "execution_count": 8,
   "id": "conventional-dependence",
   "metadata": {},
   "outputs": [
    {
     "name": "stdout",
     "output_type": "stream",
     "text": [
      "1. 결측치 Impute ... Finished ((563300, 14))\n",
      "2. 시계열 변수 생성 : Finished ((563300, 66))\n",
      "3. 시간적 특성 변수 추가 (특일, 날씨, 미세먼지 경보) ... Finished ((563300, 74))\n",
      "4. 공간적 특성 정보 추가 (상권정보, 학교정보, 병원정보) ... Finished ((563300, 175))\n",
      "5. 시공간적 특성 정보 추가 (행사정보, 축제정보) ...    Unnamed: 0           eventNm opar  eventCo eventStartDate eventEndDate  \\\n",
      "0           0  Epidemic Episode  고운홀       댄스     2020-11-15   2020-11-15   \n",
      "1           1   부산우드윈드앙상블 정기연주회  고운홀  앙상블 연주회     2020-11-15   2020-11-15   \n",
      "2           2          한마당 음악세상  고운홀    대중 가요     2020-11-16   2020-11-16   \n",
      "3           3   열차는 밀라노를 막 지나쳤다  고운홀      뮤지컬     2020-11-20   2020-11-20   \n",
      "4           4   열차는 밀라노를 막 지나쳤다  고운홀      뮤지컬     2020-11-21   2020-11-21   \n",
      "\n",
      "  eventStartTime eventEndTime chrgeInfo mnnst  ...                    atpn  \\\n",
      "0          10:00        11:30        무료   김도형  ...  음식물 반입 및 공연 중 사진 촬영 금지   \n",
      "1          15:00        16:00        무료   원준연  ...  음식물 반입 및 공연 중 사진 촬영 금지   \n",
      "2          14:30        16:30        무료   김상호  ...  음식물 반입 및 공연 중 사진 촬영 금지   \n",
      "3          20:00        22:00        유료   이경진  ...  음식물 반입 및 공연 중 사진 촬영 금지   \n",
      "4          16:00        18:00        유료   이경진  ...  음식물 반입 및 공연 중 사진 촬영 금지   \n",
      "\n",
      "                 homepageUrl                advantkInfo  prkplceYn  \\\n",
      "0  http://hcc.haeundae.go.kr  http://hcc.haeundae.go.kr          Y   \n",
      "1  http://hcc.haeundae.go.kr  http://hcc.haeundae.go.kr          Y   \n",
      "2  http://hcc.haeundae.go.kr  http://hcc.haeundae.go.kr          Y   \n",
      "3  http://hcc.haeundae.go.kr  http://hcc.haeundae.go.kr          Y   \n",
      "4  http://hcc.haeundae.go.kr  http://hcc.haeundae.go.kr          Y   \n",
      "\n",
      "             rdnmadr                lnmadr   latitude   longitude  \\\n",
      "0  부산광역시 해운대구 양운로 97  부산광역시 해운대구 좌동 1458-1  35.171168  129.173972   \n",
      "1  부산광역시 해운대구 양운로 97  부산광역시 해운대구 좌동 1458-1  35.171168  129.173972   \n",
      "2  부산광역시 해운대구 양운로 97  부산광역시 해운대구 좌동 1458-1  35.171168  129.173972   \n",
      "3  부산광역시 해운대구 양운로 97  부산광역시 해운대구 좌동 1458-1  35.171168  129.173972   \n",
      "4  부산광역시 해운대구 양운로 97  부산광역시 해운대구 좌동 1458-1  35.171168  129.173972   \n",
      "\n",
      "  referenceDate insttCode  \n",
      "0    2020-12-02   3330000  \n",
      "1    2020-12-02   3330000  \n",
      "2    2020-12-02   3330000  \n",
      "3    2020-12-02   3330000  \n",
      "4    2020-12-02   3330000  \n",
      "\n",
      "[5 rows x 27 columns]\n",
      "   Unnamed: 0               fstvlNm              opar fstvlStartDate  \\\n",
      "0         355  감동과 즐거움을 선사하는 성악 앙상블  꽃바위문화관 3층 다목적공연장     2020-11-26   \n",
      "1         357           청소년 힐링 페스티벌  꽃바위문화관 3층 다목적공연장     2020-12-10   \n",
      "2         358     매직스크린아트 가족극〈오버코트〉  꽃바위문화관 3층 다목적공연장     2020-12-16   \n",
      "3         422                울산옹기축제   울주군 외고산 옹기마을 일원     2020-11-06   \n",
      "4         486          2020 선암호수가요제         울산mbc 공개홀     2020-10-24   \n",
      "\n",
      "  fstvlEndDate                                            fstvlCo      mnnst  \\\n",
      "0   2020-11-26                                                 성악  울산광역시 동구청   \n",
      "1   2020-12-10                                              크로스오버  울산광역시 동구청   \n",
      "2   2020-12-16                                                아동극  울산광역시 동구청   \n",
      "3   2020-11-15  찾아가는 옹기, 전국옹기가요제(온라인 및 드라이브 쓰루), 옹기TV방송국, 옹기축제...  울산광역시 울주군   \n",
      "4   2020-10-24                                                가요제      울산mbc   \n",
      "\n",
      "    auspcInstt                      suprtInstt   phoneNumber  \\\n",
      "0       꽃바위문화관                             NaN  052-209-4330   \n",
      "1       꽃바위문화관                             NaN  052-209-4330   \n",
      "2       꽃바위문화관                             NaN  052-209-4330   \n",
      "3  울산옹기축제추진위원회  문화체육관광부, 울산광역시, 울산광역시의회, 울주군의회  052-227-4961   \n",
      "4       울산 남구청                             NaN  052-226-5413   \n",
      "\n",
      "                                     homepageUrl relateInfo  \\\n",
      "0  http://www.donggu.ulsan.kr/edu/menu_06/03.jsp        NaN   \n",
      "1  http://www.donggu.ulsan.kr/edu/menu_06/03.jsp        NaN   \n",
      "2  http://www.donggu.ulsan.kr/edu/menu_06/03.jsp        NaN   \n",
      "3                    http://www.ulsanonggi.or.kr        NaN   \n",
      "4                                            NaN        가요제   \n",
      "\n",
      "                   rdnmadr                    lnmadr   latitude   longitude  \\\n",
      "0          울산광역시 동구 문현3길 6       울산광역시 동구 방어동 1120-1  35.487058  129.411263   \n",
      "1          울산광역시 동구 문현3길 6       울산광역시 동구 방어동 1120-1  35.487058  129.411263   \n",
      "2          울산광역시 동구 문현3길 6       울산광역시 동구 방어동 1120-1  35.487058  129.411263   \n",
      "3  울산광역시 울주군 온양읍 외고산 3길 36  울산광역시 울주군 온양읍 고산리 501-18  35.435069  129.279509   \n",
      "4         울산광역시 중구 서원3길 65                       NaN  35.560041  129.333773   \n",
      "\n",
      "  referenceDate  insttCode  \n",
      "0    2021-01-26    3710000  \n",
      "1    2021-01-26    3710000  \n",
      "2    2021-01-26    3710000  \n",
      "3    2020-12-15    3730000  \n",
      "4    2021-01-31    3700000  \n",
      "Finished ((563300, 177))\n"
     ]
    }
   ],
   "source": [
    "ml_data = preprocessing.run()"
   ]
  }
 ],
 "metadata": {
  "kernelspec": {
   "display_name": "Python 3",
   "language": "python",
   "name": "python3"
  },
  "language_info": {
   "codemirror_mode": {
    "name": "ipython",
    "version": 3
   },
   "file_extension": ".py",
   "mimetype": "text/x-python",
   "name": "python",
   "nbconvert_exporter": "python",
   "pygments_lexer": "ipython3",
   "version": "3.8.8"
  }
 },
 "nbformat": 4,
 "nbformat_minor": 5
}
