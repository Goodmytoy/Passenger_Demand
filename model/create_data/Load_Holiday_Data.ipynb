{
 "cells": [
  {
   "cell_type": "code",
   "execution_count": 12,
   "id": "alternate-helicopter",
   "metadata": {},
   "outputs": [],
   "source": [
    "from utils.Holiday_Data_by_API import *"
   ]
  },
  {
   "cell_type": "code",
   "execution_count": 13,
   "id": "progressive-administration",
   "metadata": {},
   "outputs": [],
   "source": [
    "serviceKey = \"eLWdQyzctRdtv8bEOuewsTtK6sNkoWp1bE74OUBk43jg4tU6AsI6yYt6Z%2B7sOeaqtB5pTH2yHuPRIuEHtu5amQ%3D%3D\""
   ]
  },
  {
   "cell_type": "code",
   "execution_count": 14,
   "id": "veterinary-twins",
   "metadata": {},
   "outputs": [],
   "source": [
    "params_dict = {\"serviceKey\" : serviceKey, \n",
    "               \"solYear\" : \"2020\"}"
   ]
  },
  {
   "cell_type": "code",
   "execution_count": 15,
   "id": "auburn-knowing",
   "metadata": {},
   "outputs": [],
   "source": [
    "# holiday : 국경일\n",
    "# restday : 휴일"
   ]
  },
  {
   "cell_type": "code",
   "execution_count": 16,
   "id": "august-bracelet",
   "metadata": {},
   "outputs": [],
   "source": [
    "holiday_api = Holiday_Data_by_API(params_dict = params_dict, \n",
    "                                  type = \"rest\")"
   ]
  },
  {
   "cell_type": "code",
   "execution_count": 17,
   "id": "explicit-producer",
   "metadata": {},
   "outputs": [
    {
     "name": "stdout",
     "output_type": "stream",
     "text": [
      "CPU times: user 41 ms, sys: 0 ns, total: 41 ms\n",
      "Wall time: 1.07 s\n"
     ]
    }
   ],
   "source": [
    "%%time\n",
    "holiday_data = holiday_api.get()"
   ]
  },
  {
   "cell_type": "code",
   "execution_count": 18,
   "id": "instant-courage",
   "metadata": {},
   "outputs": [
    {
     "data": {
      "text/html": [
       "<div>\n",
       "<style scoped>\n",
       "    .dataframe tbody tr th:only-of-type {\n",
       "        vertical-align: middle;\n",
       "    }\n",
       "\n",
       "    .dataframe tbody tr th {\n",
       "        vertical-align: top;\n",
       "    }\n",
       "\n",
       "    .dataframe thead th {\n",
       "        text-align: right;\n",
       "    }\n",
       "</style>\n",
       "<table border=\"1\" class=\"dataframe\">\n",
       "  <thead>\n",
       "    <tr style=\"text-align: right;\">\n",
       "      <th></th>\n",
       "      <th>locdate</th>\n",
       "      <th>dateName</th>\n",
       "    </tr>\n",
       "  </thead>\n",
       "  <tbody>\n",
       "    <tr>\n",
       "      <th>0</th>\n",
       "      <td>20200101</td>\n",
       "      <td>1월1일</td>\n",
       "    </tr>\n",
       "    <tr>\n",
       "      <th>1</th>\n",
       "      <td>20200124</td>\n",
       "      <td>설날</td>\n",
       "    </tr>\n",
       "    <tr>\n",
       "      <th>2</th>\n",
       "      <td>20200125</td>\n",
       "      <td>설날</td>\n",
       "    </tr>\n",
       "    <tr>\n",
       "      <th>3</th>\n",
       "      <td>20200126</td>\n",
       "      <td>설날</td>\n",
       "    </tr>\n",
       "    <tr>\n",
       "      <th>4</th>\n",
       "      <td>20200127</td>\n",
       "      <td>설날</td>\n",
       "    </tr>\n",
       "    <tr>\n",
       "      <th>5</th>\n",
       "      <td>20200301</td>\n",
       "      <td>삼일절</td>\n",
       "    </tr>\n",
       "    <tr>\n",
       "      <th>6</th>\n",
       "      <td>20200415</td>\n",
       "      <td>제21대 국회의원선거</td>\n",
       "    </tr>\n",
       "    <tr>\n",
       "      <th>7</th>\n",
       "      <td>20200430</td>\n",
       "      <td>부처님오신날</td>\n",
       "    </tr>\n",
       "    <tr>\n",
       "      <th>8</th>\n",
       "      <td>20200505</td>\n",
       "      <td>어린이날</td>\n",
       "    </tr>\n",
       "    <tr>\n",
       "      <th>9</th>\n",
       "      <td>20200606</td>\n",
       "      <td>현충일</td>\n",
       "    </tr>\n",
       "    <tr>\n",
       "      <th>10</th>\n",
       "      <td>20200815</td>\n",
       "      <td>광복절</td>\n",
       "    </tr>\n",
       "    <tr>\n",
       "      <th>11</th>\n",
       "      <td>20200817</td>\n",
       "      <td>임시공휴일</td>\n",
       "    </tr>\n",
       "    <tr>\n",
       "      <th>12</th>\n",
       "      <td>20200930</td>\n",
       "      <td>추석</td>\n",
       "    </tr>\n",
       "    <tr>\n",
       "      <th>13</th>\n",
       "      <td>20201001</td>\n",
       "      <td>추석</td>\n",
       "    </tr>\n",
       "    <tr>\n",
       "      <th>14</th>\n",
       "      <td>20201002</td>\n",
       "      <td>추석</td>\n",
       "    </tr>\n",
       "    <tr>\n",
       "      <th>15</th>\n",
       "      <td>20201003</td>\n",
       "      <td>개천절</td>\n",
       "    </tr>\n",
       "    <tr>\n",
       "      <th>16</th>\n",
       "      <td>20201009</td>\n",
       "      <td>한글날</td>\n",
       "    </tr>\n",
       "    <tr>\n",
       "      <th>17</th>\n",
       "      <td>20201225</td>\n",
       "      <td>기독탄신일</td>\n",
       "    </tr>\n",
       "  </tbody>\n",
       "</table>\n",
       "</div>"
      ],
      "text/plain": [
       "     locdate     dateName\n",
       "0   20200101         1월1일\n",
       "1   20200124           설날\n",
       "2   20200125           설날\n",
       "3   20200126           설날\n",
       "4   20200127           설날\n",
       "5   20200301          삼일절\n",
       "6   20200415  제21대 국회의원선거\n",
       "7   20200430       부처님오신날\n",
       "8   20200505         어린이날\n",
       "9   20200606          현충일\n",
       "10  20200815          광복절\n",
       "11  20200817        임시공휴일\n",
       "12  20200930           추석\n",
       "13  20201001           추석\n",
       "14  20201002           추석\n",
       "15  20201003          개천절\n",
       "16  20201009          한글날\n",
       "17  20201225        기독탄신일"
      ]
     },
     "execution_count": 18,
     "metadata": {},
     "output_type": "execute_result"
    }
   ],
   "source": [
    "holiday_data"
   ]
  },
  {
   "cell_type": "code",
   "execution_count": 20,
   "id": "apparent-giving",
   "metadata": {},
   "outputs": [],
   "source": [
    "holiday_data.to_parquet(\"/home/seho/Passenger_Demand/data/holiday_data.parquet\")"
   ]
  },
  {
   "cell_type": "code",
   "execution_count": null,
   "id": "technological-newark",
   "metadata": {},
   "outputs": [],
   "source": []
  }
 ],
 "metadata": {
  "kernelspec": {
   "display_name": "Python 3",
   "language": "python",
   "name": "python3"
  },
  "language_info": {
   "codemirror_mode": {
    "name": "ipython",
    "version": 3
   },
   "file_extension": ".py",
   "mimetype": "text/x-python",
   "name": "python",
   "nbconvert_exporter": "python",
   "pygments_lexer": "ipython3",
   "version": "3.8.6"
  }
 },
 "nbformat": 4,
 "nbformat_minor": 5
}
