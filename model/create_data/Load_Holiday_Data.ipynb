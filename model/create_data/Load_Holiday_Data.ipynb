{
 "cells": [
  {
   "cell_type": "code",
   "execution_count": 1,
   "id": "directed-music",
   "metadata": {},
   "outputs": [],
   "source": [
    "from utils.Holiday_Data_by_API import *"
   ]
  },
  {
   "cell_type": "code",
   "execution_count": 2,
   "id": "assumed-custody",
   "metadata": {},
   "outputs": [],
   "source": [
    "serviceKey = \"eLWdQyzctRdtv8bEOuewsTtK6sNkoWp1bE74OUBk43jg4tU6AsI6yYt6Z%2B7sOeaqtB5pTH2yHuPRIuEHtu5amQ%3D%3D\""
   ]
  },
  {
   "cell_type": "code",
   "execution_count": 3,
   "id": "above-slovakia",
   "metadata": {},
   "outputs": [],
   "source": [
    "params_dict = {\"serviceKey\" : serviceKey, \n",
    "               \"solYear\" : \"2020\"}"
   ]
  },
  {
   "cell_type": "code",
   "execution_count": 4,
   "id": "subsequent-development",
   "metadata": {},
   "outputs": [],
   "source": [
    "holiday_api = Holiday_Data_by_API(params_dict = params_dict, \n",
    "                                  type = \"holi\")"
   ]
  },
  {
   "cell_type": "code",
   "execution_count": 5,
   "id": "institutional-glass",
   "metadata": {},
   "outputs": [
    {
     "name": "stdout",
     "output_type": "stream",
     "text": [
      "CPU times: user 53.1 ms, sys: 5.19 ms, total: 58.3 ms\n",
      "Wall time: 1.74 s\n"
     ]
    }
   ],
   "source": [
    "%%time\n",
    "holiday_data = holiday_api.get()"
   ]
  },
  {
   "cell_type": "code",
   "execution_count": 8,
   "id": "rapid-lighter",
   "metadata": {},
   "outputs": [],
   "source": [
    "holiday_data.to_csv(\"/home/seho/Passenger_Demand/data/holiday_data.csv\")"
   ]
  }
 ],
 "metadata": {
  "kernelspec": {
   "display_name": "Python 3",
   "language": "python",
   "name": "python3"
  },
  "language_info": {
   "codemirror_mode": {
    "name": "ipython",
    "version": 3
   },
   "file_extension": ".py",
   "mimetype": "text/x-python",
   "name": "python",
   "nbconvert_exporter": "python",
   "pygments_lexer": "ipython3",
   "version": "3.8.6"
  }
 },
 "nbformat": 4,
 "nbformat_minor": 5
}
