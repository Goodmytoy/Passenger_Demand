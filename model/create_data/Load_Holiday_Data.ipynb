{
 "cells": [
  {
   "cell_type": "code",
   "execution_count": 12,
   "id": "quick-surveillance",
   "metadata": {},
   "outputs": [],
   "source": [
    "from utils.Holiday_Data_by_API import *"
   ]
  },
  {
   "cell_type": "code",
   "execution_count": 13,
   "id": "touched-omaha",
   "metadata": {},
   "outputs": [],
   "source": [
    "serviceKey = \"eLWdQyzctRdtv8bEOuewsTtK6sNkoWp1bE74OUBk43jg4tU6AsI6yYt6Z%2B7sOeaqtB5pTH2yHuPRIuEHtu5amQ%3D%3D\""
   ]
  },
  {
   "cell_type": "code",
   "execution_count": 14,
   "id": "naval-glenn",
   "metadata": {},
   "outputs": [],
   "source": [
    "params_dict = {\"serviceKey\" : serviceKey, \n",
    "               \"solYear\" : \"2020\"}"
   ]
  },
  {
   "cell_type": "code",
   "execution_count": 15,
   "id": "maritime-exhibition",
   "metadata": {},
   "outputs": [],
   "source": [
    "# holiday : 국경일\n",
    "# restday : 휴일"
   ]
  },
  {
   "cell_type": "code",
   "execution_count": 16,
   "id": "revised-blend",
   "metadata": {},
   "outputs": [],
   "source": [
    "holiday_api = Holiday_Data_by_API(params_dict = params_dict, \n",
    "                                  type = \"rest\")"
   ]
  },
  {
   "cell_type": "code",
   "execution_count": 17,
   "id": "signal-bidder",
   "metadata": {},
   "outputs": [
    {
     "name": "stdout",
     "output_type": "stream",
     "text": [
      "CPU times: user 41 ms, sys: 0 ns, total: 41 ms\n",
      "Wall time: 1.07 s\n"
     ]
    }
   ],
   "source": [
    "%%time\n",
    "holiday_data = holiday_api.get()"
   ]
  },
  {
   "cell_type": "code",
   "execution_count": 20,
   "id": "virgin-visitor",
   "metadata": {},
   "outputs": [],
   "source": [
    "holiday_data.to_parquet(\"/home/seho/Passenger_Demand/data/holiday_data.parquet\")"
   ]
  },
  {
   "cell_type": "code",
   "execution_count": null,
   "id": "available-accordance",
   "metadata": {},
   "outputs": [],
   "source": []
  }
 ],
 "metadata": {
  "kernelspec": {
   "display_name": "Python 3",
   "language": "python",
   "name": "python3"
  },
  "language_info": {
   "codemirror_mode": {
    "name": "ipython",
    "version": 3
   },
   "file_extension": ".py",
   "mimetype": "text/x-python",
   "name": "python",
   "nbconvert_exporter": "python",
   "pygments_lexer": "ipython3",
   "version": "3.8.8"
  }
 },
 "nbformat": 4,
 "nbformat_minor": 5
}
