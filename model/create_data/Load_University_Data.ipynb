{
 "cells": [
  {
   "cell_type": "code",
   "execution_count": 1,
   "id": "finnish-seller",
   "metadata": {},
   "outputs": [],
   "source": [
    "from utils.School_Data_by_API import * "
   ]
  },
  {
   "cell_type": "code",
   "execution_count": 1,
   "id": "intensive-explanation",
   "metadata": {},
   "outputs": [],
   "source": [
    "import pandas as pd\n",
    "import numpy as np\n",
    "from collections import defaultdict\n",
    "from utils.Data_by_API import *\n",
    "\n",
    "\n",
    "class Store_Data_by_API(Data_by_API):\n",
    "    \n",
    "    base_url = \"http://apis.data.go.kr/B553077/api/open/sdsc/storeOne?\"\n",
    "    \n",
    "    def __init__(self, params_dict):\n",
    "        \"\"\"\n",
    "            School_Data_by_API Class의 생성자\n",
    "\n",
    "            Args: \n",
    "                params_dict : API Request Parameters (Dictionary)\n",
    "                \n",
    "            Returns:\n",
    "                \n",
    "            Exception: \n",
    "        \"\"\"\n",
    "        \n",
    "        super().__init__(url = self.base_url)\n",
    "        self.request_url = super().create_request_url(params_dict = params_dict)\n",
    "        self.params_dict = params_dict\n",
    "        self.type = params_dict[\"type\"]\n",
    "  \n",
    "    \n",
    "    def get(self):\n",
    "        \"\"\"\n",
    "            API로 데이터를 받아서 Pandas DataFrame 형태로 반환하는 Method\n",
    "\n",
    "            Args: \n",
    "                \n",
    "            Returns:\n",
    "                (Pandas DataFrame)\n",
    "                \n",
    "            Exception: \n",
    "        \"\"\"\n",
    "        \n",
    "        self.request_urls = self.create_request_urls()\n",
    "        \n",
    "        data_dict = defaultdict(list)\n",
    "        for request_url in self.request_urls:\n",
    "            rq = self.request(request_url = request_url)\n",
    "#             temp_dict = self.parse_json(request = rq, features = None)\n",
    "            temp_dict = self.parse(request = rq, features = None, type = self.type)\n",
    "            \n",
    "            for k, v in temp_dict.items():\n",
    "                data_dict[k].extend(v)\n",
    "        \n",
    "    \n",
    "        return pd.DataFrame(data_dict)"
   ]
  },
  {
   "cell_type": "code",
   "execution_count": 2,
   "id": "distributed-scotland",
   "metadata": {},
   "outputs": [],
   "source": [
    "serviceKey = \"eLWdQyzctRdtv8bEOuewsTtK6sNkoWp1bE74OUBk43jg4tU6AsI6yYt6Z%2B7sOeaqtB5pTH2yHuPRIuEHtu5amQ%3D%3D\""
   ]
  },
  {
   "cell_type": "code",
   "execution_count": 3,
   "id": "indie-champion",
   "metadata": {},
   "outputs": [],
   "source": [
    "params_dict= {\"serviceKey\" : serviceKey}"
   ]
  },
  {
   "cell_type": "code",
   "execution_count": 4,
   "id": "wicked-collector",
   "metadata": {},
   "outputs": [],
   "source": [
    "school_api = School_Data_by_API(params_dict = params_dict)"
   ]
  },
  {
   "cell_type": "code",
   "execution_count": 5,
   "id": "extreme-canadian",
   "metadata": {},
   "outputs": [
    {
     "name": "stdout",
     "output_type": "stream",
     "text": [
      "n_rows : 1000, total_count : 500, max_page = 1\n",
      "CPU times: user 106 ms, sys: 0 ns, total: 106 ms\n",
      "Wall time: 2.53 s\n"
     ]
    }
   ],
   "source": [
    "%%time\n",
    "school_data = school_api.get()"
   ]
  },
  {
   "cell_type": "code",
   "execution_count": 6,
   "id": "strategic-lending",
   "metadata": {},
   "outputs": [],
   "source": [
    "school_data.to_csv(\"/home/seho/Passenger_Demand/data/school_data.csv\")"
   ]
  }
 ],
 "metadata": {
  "kernelspec": {
   "display_name": "Python 3",
   "language": "python",
   "name": "python3"
  },
  "language_info": {
   "codemirror_mode": {
    "name": "ipython",
    "version": 3
   },
   "file_extension": ".py",
   "mimetype": "text/x-python",
   "name": "python",
   "nbconvert_exporter": "python",
   "pygments_lexer": "ipython3",
   "version": "3.8.8"
  }
 },
 "nbformat": 4,
 "nbformat_minor": 5
}
