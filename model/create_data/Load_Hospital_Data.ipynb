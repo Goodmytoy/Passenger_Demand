{
 "cells": [
  {
   "cell_type": "code",
   "execution_count": 1,
   "id": "sporting-lincoln",
   "metadata": {},
   "outputs": [],
   "source": [
    "# from utils.School_Data_by_API import * "
   ]
  },
  {
   "cell_type": "code",
   "execution_count": 52,
   "id": "friendly-lawsuit",
   "metadata": {
    "jupyter": {
     "source_hidden": true
    },
    "tags": []
   },
   "outputs": [],
   "source": [
    "import pandas as pd\n",
    "import numpy as np\n",
    "from collections import defaultdict\n",
    "from utils.Data_by_API import *\n",
    "\n",
    "\n",
    "class Hospital_Data_by_API(Data_by_API):\n",
    "    \n",
    "    base_url = \"http://apis.data.go.kr/B551182/hospInfoService/getHospBasisList?\"\n",
    "    \n",
    "    def __init__(self, params_dict):\n",
    "        \"\"\"\n",
    "            School_Data_by_API Class의 생성자\n",
    "\n",
    "            Args: \n",
    "                params_dict : API Request Parameters (Dictionary)\n",
    "                \n",
    "            Returns:\n",
    "                \n",
    "            Exception: \n",
    "        \"\"\"\n",
    "        \n",
    "        super().__init__(url = self.base_url)\n",
    "        self.request_url = super().create_request_url(params_dict = params_dict)\n",
    "        self.params_dict = params_dict\n",
    "        self.type = params_dict[\"type\"].lower()\n",
    "  \n",
    "    \n",
    "    def get(self):\n",
    "        \"\"\"\n",
    "            API로 데이터를 받아서 Pandas DataFrame 형태로 반환하는 Method\n",
    "\n",
    "            Args: \n",
    "                \n",
    "            Returns:\n",
    "                (Pandas DataFrame)\n",
    "                \n",
    "            Exception: \n",
    "        \"\"\"\n",
    "        \n",
    "        self.request_urls = self.create_request_urls()\n",
    "        \n",
    "        data_dict = defaultdict(list)\n",
    "        for request_url in self.request_urls:\n",
    "            rq = self.request(request_url = request_url)\n",
    "#             temp_dict = self.parse_json(request = rq, features = None)\n",
    "            temp_dict = self.parse(request = rq, features = None, type = self.type)\n",
    "            self.temp_dict = temp_dict\n",
    "            for k, v in temp_dict.items():\n",
    "                data_dict[k].extend(v)\n",
    "                self.data_dict = data_dict\n",
    "        \n",
    "        self.data_dict = data_dict\n",
    "        return pd.DataFrame(data_dict)"
   ]
  },
  {
   "cell_type": "code",
   "execution_count": 53,
   "id": "american-ultimate",
   "metadata": {},
   "outputs": [],
   "source": [
    "serviceKey = \"eLWdQyzctRdtv8bEOuewsTtK6sNkoWp1bE74OUBk43jg4tU6AsI6yYt6Z%2B7sOeaqtB5pTH2yHuPRIuEHtu5amQ%3D%3D\""
   ]
  },
  {
   "cell_type": "code",
   "execution_count": 59,
   "id": "civil-utility",
   "metadata": {},
   "outputs": [],
   "source": [
    "params_dict= {\"ServiceKey\" : serviceKey,\n",
    "              \"pageNo\" : 1,\n",
    "              \"type\" : \"JSON\"\n",
    "              \"numOfRows\" : 1000,\n",
    "              \"sidoCd\" : 110000,\n",
    "              \"sgguCd\" : 110019}"
   ]
  },
  {
   "cell_type": "code",
   "execution_count": 60,
   "id": "applicable-patch",
   "metadata": {},
   "outputs": [],
   "source": [
    "hospital_api = Hospital_Data_by_API(params_dict = params_dict)"
   ]
  },
  {
   "cell_type": "code",
   "execution_count": 61,
   "id": "friendly-removal",
   "metadata": {
    "tags": []
   },
   "outputs": [
    {
     "name": "stdout",
     "output_type": "stream",
     "text": [
      "n_rows : 100000, total_count : 73958, max_page = 1\n",
      "CPU times: user 1min 24s, sys: 178 ms, total: 1min 25s\n",
      "Wall time: 4min 35s\n"
     ]
    }
   ],
   "source": [
    "%%time\n",
    "hospital_data = hospital_api.get()"
   ]
  },
  {
   "cell_type": "code",
   "execution_count": 65,
   "id": "sound-synthetic",
   "metadata": {},
   "outputs": [],
   "source": [
    "hospital_data.to_csv(\"/home/seho/Passenger_Demand/data/api_data/hospital_data.csv\")"
   ]
  }
 ],
 "metadata": {
  "kernelspec": {
   "display_name": "Python 3",
   "language": "python",
   "name": "python3"
  },
  "language_info": {
   "codemirror_mode": {
    "name": "ipython",
    "version": 3
   },
   "file_extension": ".py",
   "mimetype": "text/x-python",
   "name": "python",
   "nbconvert_exporter": "python",
   "pygments_lexer": "ipython3",
   "version": "3.8.8"
  }
 },
 "nbformat": 4,
 "nbformat_minor": 5
}
