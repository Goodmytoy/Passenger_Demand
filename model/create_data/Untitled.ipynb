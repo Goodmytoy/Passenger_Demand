{
 "cells": [
  {
   "cell_type": "code",
   "execution_count": 1,
   "id": "rolled-latest",
   "metadata": {},
   "outputs": [],
   "source": [
    "from utils.Data_by_API import *"
   ]
  },
  {
   "cell_type": "code",
   "execution_count": 17,
   "id": "political-generator",
   "metadata": {},
   "outputs": [],
   "source": [
    "import urllib.request\n",
    "from bs4 import BeautifulSoup"
   ]
  },
  {
   "cell_type": "code",
   "execution_count": 27,
   "id": "german-petite",
   "metadata": {},
   "outputs": [],
   "source": [
    "import xml.etree.ElementTree as ET"
   ]
  },
  {
   "cell_type": "code",
   "execution_count": 26,
   "id": "straight-banner",
   "metadata": {},
   "outputs": [],
   "source": [
    "from xml.etree.ElementTree import parse"
   ]
  },
  {
   "cell_type": "code",
   "execution_count": 39,
   "id": "earlier-knight",
   "metadata": {},
   "outputs": [],
   "source": [
    "xtree  = ET.fromstring(rq.text)"
   ]
  },
  {
   "cell_type": "code",
   "execution_count": 40,
   "id": "guided-helping",
   "metadata": {},
   "outputs": [],
   "source": [
    "xmlsoup = BeautifulSoup(rq.text,'html.parser')\n",
    "items = xmlsoup.find_all('item')"
   ]
  },
  {
   "cell_type": "code",
   "execution_count": null,
   "id": "upset-router",
   "metadata": {},
   "outputs": [],
   "source": [
    "item.title.get_text()\n",
    "item.description.get_text()"
   ]
  },
  {
   "cell_type": "code",
   "execution_count": 46,
   "id": "essential-alarm",
   "metadata": {},
   "outputs": [
    {
     "data": {
      "text/plain": [
       "'추석'"
      ]
     },
     "execution_count": 46,
     "metadata": {},
     "output_type": "execute_result"
    }
   ],
   "source": [
    "items[0].datename.get_text()"
   ]
  },
  {
   "cell_type": "code",
   "execution_count": 43,
   "id": "guided-price",
   "metadata": {},
   "outputs": [
    {
     "ename": "AttributeError",
     "evalue": "'NoneType' object has no attribute 'get_text'",
     "output_type": "error",
     "traceback": [
      "\u001b[0;31m---------------------------------------------------------------------------\u001b[0m",
      "\u001b[0;31mAttributeError\u001b[0m                            Traceback (most recent call last)",
      "\u001b[0;32m<ipython-input-43-b35ed090e302>\u001b[0m in \u001b[0;36m<module>\u001b[0;34m\u001b[0m\n\u001b[0;32m----> 1\u001b[0;31m \u001b[0mitems\u001b[0m\u001b[0;34m[\u001b[0m\u001b[0;36m0\u001b[0m\u001b[0;34m]\u001b[0m\u001b[0;34m.\u001b[0m\u001b[0mtitle\u001b[0m\u001b[0;34m.\u001b[0m\u001b[0mget_text\u001b[0m\u001b[0;34m(\u001b[0m\u001b[0;34m)\u001b[0m\u001b[0;34m\u001b[0m\u001b[0;34m\u001b[0m\u001b[0m\n\u001b[0m",
      "\u001b[0;31mAttributeError\u001b[0m: 'NoneType' object has no attribute 'get_text'"
     ]
    }
   ],
   "source": [
    "items[0].title.get_text()"
   ]
  },
  {
   "cell_type": "code",
   "execution_count": 22,
   "id": "constant-republican",
   "metadata": {},
   "outputs": [],
   "source": [
    "response  = urllib.request.urlopen(url)\n",
    "rescode = response.getcode()"
   ]
  },
  {
   "cell_type": "code",
   "execution_count": 25,
   "id": "multiple-nigeria",
   "metadata": {},
   "outputs": [
    {
     "data": {
      "text/plain": [
       "'<?xml version=\"1.0\" encoding=\"UTF-8\" standalone=\"yes\"?><response><header><resultCode>00</resultCode><resultMsg>NORMAL SERVICE.</resultMsg></header><body><items><item><dateKind>01</dateKind><dateName>추석</dateName><isHoliday>Y</isHoliday><locdate>20150926</locdate><seq>1</seq></item><item><dateKind>01</dateKind><dateName>추석</dateName><isHoliday>Y</isHoliday><locdate>20150927</locdate><seq>1</seq></item><item><dateKind>01</dateKind><dateName>추석</dateName><isHoliday>Y</isHoliday><locdate>20150928</locdate><seq>1</seq></item><item><dateKind>01</dateKind><dateName>대체공휴일</dateName><isHoliday>Y</isHoliday><locdate>20150929</locdate><seq>1</seq></item></items><numOfRows>10</numOfRows><pageNo>1</pageNo><totalCount>4</totalCount></body></response>'"
      ]
     },
     "execution_count": 25,
     "metadata": {},
     "output_type": "execute_result"
    }
   ],
   "source": [
    "response.read().decode('utf-8')"
   ]
  },
  {
   "cell_type": "code",
   "execution_count": 2,
   "id": "unknown-consistency",
   "metadata": {},
   "outputs": [],
   "source": [
    "url = \"http://apis.data.go.kr/B090041/openapi/service/SpcdeInfoService/getHoliDeInfo?serviceKey=eLWdQyzctRdtv8bEOuewsTtK6sNkoWp1bE74OUBk43jg4tU6AsI6yYt6Z%2B7sOeaqtB5pTH2yHuPRIuEHtu5amQ%3D%3D&solYear=2015&solMonth=09\""
   ]
  },
  {
   "cell_type": "code",
   "execution_count": 6,
   "id": "cordless-protocol",
   "metadata": {},
   "outputs": [],
   "source": [
    "api = Data_by_API(url, params_dict = {})"
   ]
  },
  {
   "cell_type": "code",
   "execution_count": 7,
   "id": "dimensional-alcohol",
   "metadata": {},
   "outputs": [],
   "source": [
    "api.create_request_url()"
   ]
  },
  {
   "cell_type": "code",
   "execution_count": 10,
   "id": "integrated-scanning",
   "metadata": {},
   "outputs": [
    {
     "data": {
      "text/plain": [
       "'http://apis.data.go.kr/B090041/openapi/service/SpcdeInfoService/getHoliDeInfo?serviceKey=eLWdQyzctRdtv8bEOuewsTtK6sNkoWp1bE74OUBk43jg4tU6AsI6yYt6Z%2B7sOeaqtB5pTH2yHuPRIuEHtu5amQ%3D%3D&solYear=2015&solMonth=09'"
      ]
     },
     "execution_count": 10,
     "metadata": {},
     "output_type": "execute_result"
    }
   ],
   "source": [
    "api.request_url"
   ]
  },
  {
   "cell_type": "code",
   "execution_count": 12,
   "id": "intended-contract",
   "metadata": {},
   "outputs": [],
   "source": [
    "rq = api.request()"
   ]
  },
  {
   "cell_type": "code",
   "execution_count": 29,
   "id": "cardiovascular-neutral",
   "metadata": {},
   "outputs": [
    {
     "data": {
      "text/plain": [
       "'<?xml version=\"1.0\" encoding=\"UTF-8\" standalone=\"yes\"?><response><header><resultCode>00</resultCode><resultMsg>NORMAL SERVICE.</resultMsg></header><body><items><item><dateKind>01</dateKind><dateName>추석</dateName><isHoliday>Y</isHoliday><locdate>20150926</locdate><seq>1</seq></item><item><dateKind>01</dateKind><dateName>추석</dateName><isHoliday>Y</isHoliday><locdate>20150927</locdate><seq>1</seq></item><item><dateKind>01</dateKind><dateName>추석</dateName><isHoliday>Y</isHoliday><locdate>20150928</locdate><seq>1</seq></item><item><dateKind>01</dateKind><dateName>대체공휴일</dateName><isHoliday>Y</isHoliday><locdate>20150929</locdate><seq>1</seq></item></items><numOfRows>10</numOfRows><pageNo>1</pageNo><totalCount>4</totalCount></body></response>'"
      ]
     },
     "execution_count": 29,
     "metadata": {},
     "output_type": "execute_result"
    }
   ],
   "source": [
    "rq.text"
   ]
  },
  {
   "cell_type": "code",
   "execution_count": null,
   "id": "attended-heavy",
   "metadata": {},
   "outputs": [],
   "source": [
    "rq = request()"
   ]
  },
  {
   "cell_type": "code",
   "execution_count": 178,
   "id": "transsexual-enemy",
   "metadata": {},
   "outputs": [],
   "source": [
    "import requests\n",
    "\n",
    "class Data_by_API(object):\n",
    "    \n",
    "    def __init__(self, url):\n",
    "        self.url = url\n",
    "#         self.serviceKey = serviceKey\n",
    "        \n",
    "    def create_request_url(self, params_dict):\n",
    "#         params_dict[\"service_key\"] = self.serviceKey\n",
    "        params_list = [f\"{k}={v}\" for k, v in params_dict.items()]\n",
    "        params_str = \"&\".join(params_list)\n",
    "#         print(params_str)\n",
    "        \n",
    "        self.request_url = self.url + params_str\n",
    "        \n",
    "        return self.request_url\n",
    "    \n",
    "    \n",
    "    def request(self, request_url = None):\n",
    "        \n",
    "        if request_url == None:\n",
    "            request_url = self.request_url\n",
    "            \n",
    "        rq = requests.get(request_url)\n",
    "        \n",
    "        return rq\n",
    "        "
   ]
  },
  {
   "cell_type": "code",
   "execution_count": 259,
   "id": "backed-gardening",
   "metadata": {},
   "outputs": [],
   "source": [
    "import pandas as pd\n",
    "from collections import defaultdict\n",
    "\n",
    "class Holiday_Data_by_API(Data_by_API):\n",
    "    \n",
    "    holiday_url = \"http://apis.data.go.kr/B090041/openapi/service/SpcdeInfoService/getHoliDeInfo?\"\n",
    "    restday_url = \"http://apis.data.go.kr/B090041/openapi/service/SpcdeInfoService/getRestDeInfo?\"\n",
    "    \n",
    "    def __init__(self, params_dict, type):\n",
    "        if type == \"holi\":\n",
    "            base_url = self.holiday_url\n",
    "        elif type == \"rest\":\n",
    "            base_url = self.restday_url\n",
    "            \n",
    "        super().__init__(url = base_url)\n",
    "#         self.year = year\n",
    "        self.params_dict = params_dict\n",
    "    \n",
    "    def create_request_urls(self, params_dict):\n",
    "        params_dict = params_dict.copy()\n",
    "        request_urls = []\n",
    "        for x in range(1, 13):\n",
    "            if x < 10:\n",
    "                params_dict[\"solMonth\"] =  f\"0{str(x)}\"\n",
    "\n",
    "            else:\n",
    "                params_dict[\"solMonth\"] =  str(x)\n",
    "                \n",
    "            request_urls.append(self.create_request_url(params_dict = params_dict))\n",
    "    \n",
    "        return request_urls\n",
    "    \n",
    "    \n",
    "    def get(self):\n",
    "        \n",
    "        if \"solMonth\" in self.params_dict.keys():\n",
    "            self.request_urls = [self.create_request_url(params_dict = self.params_dict)]\n",
    "        else:             \n",
    "            self.request_urls = self.create_request_urls(params_dict = self.params_dict)\n",
    "        \n",
    "        data_dict = defaultdict(list)\n",
    "        for request_url in self.request_urls:\n",
    "            rq = super().request(request_url = request_url)\n",
    "#             print(rq.text)\n",
    "            xmlsoup = BeautifulSoup(rq.text,'html.parser')\n",
    "            items = xmlsoup.find_all('item')\n",
    "#             print(items)\n",
    "            \n",
    "            for item in items:\n",
    "                data_dict[\"locdate\"].append(item.locdate.get_text())\n",
    "                data_dict[\"datename\"].append(item.datename.get_text())\n",
    "                    \n",
    "        return pd.DataFrame(data_dict)"
   ]
  },
  {
   "cell_type": "code",
   "execution_count": 261,
   "id": "several-cancer",
   "metadata": {},
   "outputs": [],
   "source": [
    "temp = Holiday_Data_by_API(params_dict = {\"serviceKey\" : \"eLWdQyzctRdtv8bEOuewsTtK6sNkoWp1bE74OUBk43jg4tU6AsI6yYt6Z%2B7sOeaqtB5pTH2yHuPRIuEHtu5amQ%3D%3D\",\n",
    "                                          \"solYear\" : \"2020\"},\n",
    "                           type = \"holi\")"
   ]
  },
  {
   "cell_type": "code",
   "execution_count": 263,
   "id": "happy-hydrogen",
   "metadata": {},
   "outputs": [],
   "source": [
    "temp = Holiday_Data_by_API(params_dict = {\"serviceKey\" : \"eLWdQyzctRdtv8bEOuewsTtK6sNkoWp1bE74OUBk43jg4tU6AsI6yYt6Z%2B7sOeaqtB5pTH2yHuPRIuEHtu5amQ%3D%3D\",\n",
    "                                          \"solYear\" : \"2020\"},\n",
    "                           type = \"rest\")"
   ]
  },
  {
   "cell_type": "code",
   "execution_count": 262,
   "id": "handed-strength",
   "metadata": {},
   "outputs": [
    {
     "data": {
      "text/html": [
       "<div>\n",
       "<style scoped>\n",
       "    .dataframe tbody tr th:only-of-type {\n",
       "        vertical-align: middle;\n",
       "    }\n",
       "\n",
       "    .dataframe tbody tr th {\n",
       "        vertical-align: top;\n",
       "    }\n",
       "\n",
       "    .dataframe thead th {\n",
       "        text-align: right;\n",
       "    }\n",
       "</style>\n",
       "<table border=\"1\" class=\"dataframe\">\n",
       "  <thead>\n",
       "    <tr style=\"text-align: right;\">\n",
       "      <th></th>\n",
       "      <th>locdate</th>\n",
       "      <th>datename</th>\n",
       "    </tr>\n",
       "  </thead>\n",
       "  <tbody>\n",
       "    <tr>\n",
       "      <th>0</th>\n",
       "      <td>20200101</td>\n",
       "      <td>1월1일</td>\n",
       "    </tr>\n",
       "    <tr>\n",
       "      <th>1</th>\n",
       "      <td>20200124</td>\n",
       "      <td>설날</td>\n",
       "    </tr>\n",
       "    <tr>\n",
       "      <th>2</th>\n",
       "      <td>20200125</td>\n",
       "      <td>설날</td>\n",
       "    </tr>\n",
       "    <tr>\n",
       "      <th>3</th>\n",
       "      <td>20200126</td>\n",
       "      <td>설날</td>\n",
       "    </tr>\n",
       "    <tr>\n",
       "      <th>4</th>\n",
       "      <td>20200127</td>\n",
       "      <td>설날</td>\n",
       "    </tr>\n",
       "    <tr>\n",
       "      <th>5</th>\n",
       "      <td>20200301</td>\n",
       "      <td>삼일절</td>\n",
       "    </tr>\n",
       "    <tr>\n",
       "      <th>6</th>\n",
       "      <td>20200415</td>\n",
       "      <td>제21대 국회의원선거</td>\n",
       "    </tr>\n",
       "    <tr>\n",
       "      <th>7</th>\n",
       "      <td>20200430</td>\n",
       "      <td>부처님오신날</td>\n",
       "    </tr>\n",
       "    <tr>\n",
       "      <th>8</th>\n",
       "      <td>20200505</td>\n",
       "      <td>어린이날</td>\n",
       "    </tr>\n",
       "    <tr>\n",
       "      <th>9</th>\n",
       "      <td>20200606</td>\n",
       "      <td>현충일</td>\n",
       "    </tr>\n",
       "    <tr>\n",
       "      <th>10</th>\n",
       "      <td>20200717</td>\n",
       "      <td>제헌절</td>\n",
       "    </tr>\n",
       "    <tr>\n",
       "      <th>11</th>\n",
       "      <td>20200815</td>\n",
       "      <td>광복절</td>\n",
       "    </tr>\n",
       "    <tr>\n",
       "      <th>12</th>\n",
       "      <td>20200817</td>\n",
       "      <td>임시공휴일</td>\n",
       "    </tr>\n",
       "    <tr>\n",
       "      <th>13</th>\n",
       "      <td>20200930</td>\n",
       "      <td>추석</td>\n",
       "    </tr>\n",
       "    <tr>\n",
       "      <th>14</th>\n",
       "      <td>20201001</td>\n",
       "      <td>추석</td>\n",
       "    </tr>\n",
       "    <tr>\n",
       "      <th>15</th>\n",
       "      <td>20201002</td>\n",
       "      <td>추석</td>\n",
       "    </tr>\n",
       "    <tr>\n",
       "      <th>16</th>\n",
       "      <td>20201003</td>\n",
       "      <td>개천절</td>\n",
       "    </tr>\n",
       "    <tr>\n",
       "      <th>17</th>\n",
       "      <td>20201009</td>\n",
       "      <td>한글날</td>\n",
       "    </tr>\n",
       "    <tr>\n",
       "      <th>18</th>\n",
       "      <td>20201225</td>\n",
       "      <td>기독탄신일</td>\n",
       "    </tr>\n",
       "  </tbody>\n",
       "</table>\n",
       "</div>"
      ],
      "text/plain": [
       "     locdate     datename\n",
       "0   20200101         1월1일\n",
       "1   20200124           설날\n",
       "2   20200125           설날\n",
       "3   20200126           설날\n",
       "4   20200127           설날\n",
       "5   20200301          삼일절\n",
       "6   20200415  제21대 국회의원선거\n",
       "7   20200430       부처님오신날\n",
       "8   20200505         어린이날\n",
       "9   20200606          현충일\n",
       "10  20200717          제헌절\n",
       "11  20200815          광복절\n",
       "12  20200817        임시공휴일\n",
       "13  20200930           추석\n",
       "14  20201001           추석\n",
       "15  20201002           추석\n",
       "16  20201003          개천절\n",
       "17  20201009          한글날\n",
       "18  20201225        기독탄신일"
      ]
     },
     "execution_count": 262,
     "metadata": {},
     "output_type": "execute_result"
    }
   ],
   "source": [
    "temp.get()"
   ]
  },
  {
   "cell_type": "code",
   "execution_count": 238,
   "id": "acceptable-transaction",
   "metadata": {},
   "outputs": [],
   "source": [
    "params_dict = {\"serviceKey\" : \"eLWdQyzctRdtv8bEOuewsTtK6sNkoWp1bE74OUBk43jg4tU6AsI6yYt6Z%2B7sOeaqtB5pTH2yHuPRIuEHtu5amQ%3D%3D\",\n",
    "                                          \"solYear\" : \"2020\"}"
   ]
  },
  {
   "cell_type": "code",
   "execution_count": 240,
   "id": "initial-contract",
   "metadata": {},
   "outputs": [],
   "source": [
    "aa = params_dict.copy()"
   ]
  },
  {
   "cell_type": "code",
   "execution_count": 241,
   "id": "abroad-defeat",
   "metadata": {},
   "outputs": [],
   "source": [
    "aa[\"asdfs\"] = \"123123321\""
   ]
  }
 ],
 "metadata": {
  "kernelspec": {
   "display_name": "Python 3",
   "language": "python",
   "name": "python3"
  },
  "language_info": {
   "codemirror_mode": {
    "name": "ipython",
    "version": 3
   },
   "file_extension": ".py",
   "mimetype": "text/x-python",
   "name": "python",
   "nbconvert_exporter": "python",
   "pygments_lexer": "ipython3",
   "version": "3.8.6"
  }
 },
 "nbformat": 4,
 "nbformat_minor": 5
}
