{
 "cells": [
  {
   "cell_type": "code",
   "execution_count": 5,
   "id": "vocational-effectiveness",
   "metadata": {},
   "outputs": [],
   "source": [
    "import pandas as pd\n",
    "import numpy as np\n",
    "from datetime import datetime\n",
    "import seaborn as sns"
   ]
  },
  {
   "cell_type": "code",
   "execution_count": 144,
   "id": "hazardous-formula",
   "metadata": {},
   "outputs": [],
   "source": [
    "from datetime import datetime, timedelta"
   ]
  },
  {
   "cell_type": "markdown",
   "id": "interesting-force",
   "metadata": {},
   "source": [
    "### 마이비 카드 데이터"
   ]
  },
  {
   "cell_type": "code",
   "execution_count": 6,
   "id": "closed-negotiation",
   "metadata": {},
   "outputs": [
    {
     "name": "stdout",
     "output_type": "stream",
     "text": [
      "CPU times: user 22.4 s, sys: 8.42 s, total: 30.8 s\n",
      "Wall time: 14.3 s\n"
     ]
    }
   ],
   "source": [
    "%%time\n",
    "mybicard = pd.read_parquet('/home/seho/Passenger_Demand/data/mybicard.parquet', engine='pyarrow')"
   ]
  },
  {
   "cell_type": "code",
   "execution_count": 7,
   "id": "related-settle",
   "metadata": {},
   "outputs": [
    {
     "name": "stdout",
     "output_type": "stream",
     "text": [
      "CPU times: user 43.4 s, sys: 5.05 s, total: 48.4 s\n",
      "Wall time: 48.3 s\n"
     ]
    }
   ],
   "source": [
    "%%time\n",
    "mybicard = mybicard.drop_duplicates()"
   ]
  },
  {
   "cell_type": "code",
   "execution_count": 8,
   "id": "prescribed-welcome",
   "metadata": {},
   "outputs": [],
   "source": [
    "# 수집일자 데이트 포맷으로 변환\n",
    "mybicard[\"collectdate\"] = pd.to_datetime(mybicard[\"collectdate\"], format = \"%Y%m%d\")"
   ]
  },
  {
   "cell_type": "code",
   "execution_count": 9,
   "id": "common-intersection",
   "metadata": {},
   "outputs": [],
   "source": [
    "# 전송일자 데이트 포맷으로 변환\n",
    "mybicard[\"transdate\"] = pd.to_datetime(mybicard[\"transdate\"], format = \"%Y%m%d %H:%M:%S\")"
   ]
  },
  {
   "cell_type": "code",
   "execution_count": 10,
   "id": "tender-colombia",
   "metadata": {},
   "outputs": [],
   "source": [
    "# 요일, 날짜, 월 변수 생성\n",
    "mybicard[\"dayofweek\"] = mybicard[\"transdate\"].dt.dayofweek\n",
    "dow_dict = {0:\"월\", 1:\"화\", 2:\"수\", 3:\"목\", 4:\"금\", 5:\"토\", 6:\"일\"}\n",
    "mybicard[\"dayofweek\"] = mybicard[\"dayofweek\"].replace(dow_dict)\n",
    "mybicard[\"day\"] = mybicard[\"transdate\"].dt.day\n",
    "mybicard[\"month\"] = mybicard[\"transdate\"].dt.month\n",
    "mybicard[\"hour\"] = mybicard[\"transdate\"].dt.hour"
   ]
  },
  {
   "cell_type": "code",
   "execution_count": 11,
   "id": "drawn-quilt",
   "metadata": {},
   "outputs": [],
   "source": [
    "# 전체 승객 수 변수 생성(일반 + 학생 + 아동)\n",
    "mybicard[\"totalcnt\"] = mybicard[[\"normalcnt\", \"studentcnt\", \"childcnt\"]].sum(axis = 1)"
   ]
  },
  {
   "cell_type": "code",
   "execution_count": 12,
   "id": "found-karaoke",
   "metadata": {},
   "outputs": [],
   "source": [
    "# route_nm에 공백이 포함되어 있어 공백 제거\n",
    "mybicard[\"route_nm\"] = mybicard[\"route_nm\"].replace(\"\\s\", \"\", regex = True)"
   ]
  },
  {
   "cell_type": "code",
   "execution_count": 13,
   "id": "bridal-niagara",
   "metadata": {},
   "outputs": [],
   "source": [
    "mybicard = mybicard.sort_values([\"transdate\", \"seq\"]).reset_index(drop=True)"
   ]
  },
  {
   "cell_type": "code",
   "execution_count": 14,
   "id": "entire-white",
   "metadata": {},
   "outputs": [],
   "source": [
    "mybicard = mybicard.rename(columns = {\"stop_id\" : \"mybi_stop_id\"})"
   ]
  },
  {
   "cell_type": "markdown",
   "id": "specific-links",
   "metadata": {},
   "source": [
    "### 정류장 X,Y 좌표 추가"
   ]
  },
  {
   "cell_type": "code",
   "execution_count": 32,
   "id": "latin-masters",
   "metadata": {},
   "outputs": [],
   "source": [
    "# 경주시, 양산시, 울산광역시, 부산광역시\n",
    "bus_stop = pd.read_csv(\"/home/seho/Passenger_Demand/data/울산광역시_버스 정류소 위치 정보_20200531.csv\", encoding = \"euc-kr\")\n",
    "bus_stop = bus_stop.loc[bus_stop[\"권역\"] == \"울산광역시\"]\n",
    "bus_stop.columns = [\"stop_nm\", \"stop_id\", \"longitude\", \"latitude\", \"city\"]"
   ]
  },
  {
   "cell_type": "code",
   "execution_count": 33,
   "id": "offensive-discharge",
   "metadata": {},
   "outputs": [],
   "source": [
    "bus_stop_401_1 = pd.read_csv(\"/home/seho/Passenger_Demand/data/401_율리_꽃바위.csv\", encoding = \"euc_kr\")\n",
    "bus_stop_401_2 = pd.read_csv(\"/home/seho/Passenger_Demand/data/401_꽃바위_율리.csv\", encoding = \"euc_kr\")\n",
    "bus_stop_401 = pd.concat([bus_stop_401_1, bus_stop_401_2])\n",
    "bus_stop_401.columns = [\"mybi_stop_id\", \"stop_id\"]"
   ]
  },
  {
   "cell_type": "code",
   "execution_count": 34,
   "id": "medical-newspaper",
   "metadata": {},
   "outputs": [],
   "source": [
    "# 마이비 정류장 ID -> 공공 데이터 정류쟝 ID로 매핑\n",
    "mybicard_401 = pd.merge(mybicard_401, bus_stop_401, on = \"mybi_stop_id\", how = \"inner\")"
   ]
  },
  {
   "cell_type": "code",
   "execution_count": 35,
   "id": "above-inspector",
   "metadata": {},
   "outputs": [],
   "source": [
    "mybicard_401 = pd.merge(mybicard_401, bus_stop[[\"stop_id\", \"longitude\", \"latitude\"]], on = \"stop_id\")"
   ]
  },
  {
   "cell_type": "code",
   "execution_count": null,
   "id": "municipal-novel",
   "metadata": {},
   "outputs": [],
   "source": []
  },
  {
   "cell_type": "markdown",
   "id": "legendary-hudson",
   "metadata": {},
   "source": [
    "### 날씨 데이터 추가"
   ]
  },
  {
   "cell_type": "code",
   "execution_count": 382,
   "id": "authentic-extent",
   "metadata": {},
   "outputs": [],
   "source": [
    "weather_data = pd.read_parquet(\"/home/seho/Passenger_Demand/data/weather_2018.parquet\")"
   ]
  },
  {
   "cell_type": "code",
   "execution_count": 383,
   "id": "satellite-illinois",
   "metadata": {},
   "outputs": [],
   "source": [
    "weather_data = weather_data.loc[:, [\"tm\", \"ta\", \"hm\", \"rn\", \"dc10Tca\",  \"dsnw\", \"wd\", \"ws\"]]\n",
    "weather_data = weather_data.rename(columns = {\"tm\" : \"시간\",\n",
    "                                              \"ta\" : \"기온\",\n",
    "                                              \"hm\" : \"습도\",\n",
    "                                              \"rn\" : \"강수량\",\n",
    "                                              \"dc10Tca\" : \"전운량\",\n",
    "                                              \"dsnw\" : \"적설량\",\n",
    "                                              \"wd\" : \"풍향\",\n",
    "                                              \"ws\" : \"풍속\"})\n",
    "weather_data[\"시간\"] = pd.to_datetime(weather_data[\"시간\"], format = \"%Y-%m-%d %H:%M\")"
   ]
  },
  {
   "cell_type": "code",
   "execution_count": 384,
   "id": "dated-companion",
   "metadata": {},
   "outputs": [
    {
     "name": "stdout",
     "output_type": "stream",
     "text": [
      "기온\n",
      "습도\n",
      "강수량\n",
      "전운량\n",
      "적설량\n",
      "풍향\n",
      "풍속\n"
     ]
    }
   ],
   "source": [
    "for col in weather_data.columns:\n",
    "    if col == \"시간\":\n",
    "        continue\n",
    "    print(col)\n",
    "    weather_data[col] = weather_data[col].replace(\"\", \"0.0\").astype(float)\n",
    "    weather_data[col] = weather_data[col].astype(float)"
   ]
  },
  {
   "cell_type": "code",
   "execution_count": 385,
   "id": "surprised-romantic",
   "metadata": {},
   "outputs": [],
   "source": [
    "weather_data[\"time_hours\"] = weather_data[\"시간\"].dt.strftime(\"%Y-%m-%d %H\")"
   ]
  },
  {
   "cell_type": "code",
   "execution_count": 386,
   "id": "built-allergy",
   "metadata": {},
   "outputs": [],
   "source": [
    "mybicard_401[\"transdate_hours\"] = mybicard_401[\"transdate\"].dt.strftime(\"%Y-%m-%d %H\")"
   ]
  },
  {
   "cell_type": "code",
   "execution_count": 387,
   "id": "agricultural-combine",
   "metadata": {},
   "outputs": [],
   "source": [
    "mybicard_401_wt = pd.merge(mybicard_401, weather_data, left_on = \"transdate_hours\", right_on = \"time_hours\")\n",
    "mybicard_401_wt = mybicard_401_wt.drop([\"transdate_hours\", \"time_hours\", \"시간\"], 1)"
   ]
  },
  {
   "cell_type": "markdown",
   "id": "sustained-evanescence",
   "metadata": {},
   "source": []
  },
  {
   "cell_type": "markdown",
   "id": "above-jimmy",
   "metadata": {},
   "source": [
    "### 사고 데이터"
   ]
  },
  {
   "cell_type": "code",
   "execution_count": null,
   "id": "active-formation",
   "metadata": {},
   "outputs": [],
   "source": [
    "accident_data = pd.read_parquet(\"/home/seho/Passenger_Demand/data/accident_data.parquet\")"
   ]
  },
  {
   "cell_type": "code",
   "execution_count": null,
   "id": "flying-finnish",
   "metadata": {},
   "outputs": [],
   "source": [
    "accident_data"
   ]
  }
 ],
 "metadata": {
  "kernelspec": {
   "display_name": "Python 3",
   "language": "python",
   "name": "python3"
  },
  "language_info": {
   "codemirror_mode": {
    "name": "ipython",
    "version": 3
   },
   "file_extension": ".py",
   "mimetype": "text/x-python",
   "name": "python",
   "nbconvert_exporter": "python",
   "pygments_lexer": "ipython3",
   "version": "3.8.6"
  }
 },
 "nbformat": 4,
 "nbformat_minor": 5
}
