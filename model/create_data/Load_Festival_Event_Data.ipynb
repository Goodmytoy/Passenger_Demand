{
 "cells": [
  {
   "cell_type": "code",
   "execution_count": 7,
   "id": "gorgeous-platform",
   "metadata": {},
   "outputs": [],
   "source": [
    "from utils.Ulsan_Event_Data_by_API import * \n",
    "from utils.Event_Data_by_API import * \n",
    "from utils.Festival_Data_by_API import * "
   ]
  },
  {
   "cell_type": "markdown",
   "id": "continuous-jenny",
   "metadata": {},
   "source": [
    "### 울산시 행사 데이터"
   ]
  },
  {
   "cell_type": "code",
   "execution_count": 18,
   "id": "solid-father",
   "metadata": {},
   "outputs": [],
   "source": [
    "serviceKey = \"eLWdQyzctRdtv8bEOuewsTtK6sNkoWp1bE74OUBk43jg4tU6AsI6yYt6Z%2B7sOeaqtB5pTH2yHuPRIuEHtu5amQ%3D%3D\""
   ]
  },
  {
   "cell_type": "code",
   "execution_count": 19,
   "id": "waiting-intersection",
   "metadata": {},
   "outputs": [],
   "source": [
    "params_dict1 = {\"serviceKey\" : serviceKey,\n",
    "                \"pageNo\" : 1,\n",
    "                \"numOfRows\" : 1000}"
   ]
  },
  {
   "cell_type": "code",
   "execution_count": 4,
   "id": "right-volleyball",
   "metadata": {},
   "outputs": [],
   "source": [
    "ulsan_event_api = Ulsan_Event_Data_by_API(params_dict = params_dict1)"
   ]
  },
  {
   "cell_type": "code",
   "execution_count": 5,
   "id": "afraid-steps",
   "metadata": {},
   "outputs": [
    {
     "name": "stdout",
     "output_type": "stream",
     "text": [
      "n_rows : 1000, total_count : 312, max_page = 1\n"
     ]
    }
   ],
   "source": [
    "ulsan_event_data = ulsan_event_api.get()"
   ]
  },
  {
   "cell_type": "code",
   "execution_count": 6,
   "id": "super-professional",
   "metadata": {},
   "outputs": [],
   "source": [
    "ulsan_event_data.to_csv(\"/home/seho/Passenger_Demand/data/ulsan_event_data.csv\")"
   ]
  },
  {
   "cell_type": "code",
   "execution_count": null,
   "id": "radical-effectiveness",
   "metadata": {},
   "outputs": [],
   "source": []
  },
  {
   "cell_type": "markdown",
   "id": "worse-imagination",
   "metadata": {},
   "source": [
    "### 전국 행사 데이터"
   ]
  },
  {
   "cell_type": "code",
   "execution_count": 8,
   "id": "dynamic-yeast",
   "metadata": {},
   "outputs": [],
   "source": [
    "serviceKey = \"eLWdQyzctRdtv8bEOuewsTtK6sNkoWp1bE74OUBk43jg4tU6AsI6yYt6Z%2B7sOeaqtB5pTH2yHuPRIuEHtu5amQ%3D%3D\""
   ]
  },
  {
   "cell_type": "code",
   "execution_count": 9,
   "id": "forward-fellowship",
   "metadata": {},
   "outputs": [],
   "source": [
    "params_dict1 = {\"serviceKey\" : serviceKey,\n",
    "                \"pageNo\" : 1,\n",
    "                \"numOfRows\" : 1000,\n",
    "                \"type\" : \"json\"}"
   ]
  },
  {
   "cell_type": "code",
   "execution_count": 10,
   "id": "elect-anniversary",
   "metadata": {},
   "outputs": [],
   "source": [
    "event_api = Event_Data_by_API(params_dict = params_dict1)"
   ]
  },
  {
   "cell_type": "code",
   "execution_count": 12,
   "id": "negative-needle",
   "metadata": {},
   "outputs": [
    {
     "name": "stdout",
     "output_type": "stream",
     "text": [
      "n_rows : 1000, total_count : 6396, max_page = 7\n",
      "CPU times: user 862 ms, sys: 72.5 ms, total: 934 ms\n",
      "Wall time: 2min 26s\n"
     ]
    }
   ],
   "source": [
    "%%time\n",
    "event_data = event_api.get() "
   ]
  },
  {
   "cell_type": "code",
   "execution_count": 14,
   "id": "innocent-easter",
   "metadata": {},
   "outputs": [
    {
     "ename": "FileNotFoundError",
     "evalue": "[Errno 2] No such file or directory: '/home/seho/Passenger_Damand/data/event_data.csv'",
     "output_type": "error",
     "traceback": [
      "\u001b[0;31m---------------------------------------------------------------------------\u001b[0m",
      "\u001b[0;31mFileNotFoundError\u001b[0m                         Traceback (most recent call last)",
      "\u001b[0;32m<ipython-input-14-7197ade23415>\u001b[0m in \u001b[0;36m<module>\u001b[0;34m\u001b[0m\n\u001b[0;32m----> 1\u001b[0;31m \u001b[0mevent_data\u001b[0m\u001b[0;34m.\u001b[0m\u001b[0mto_csv\u001b[0m\u001b[0;34m(\u001b[0m\u001b[0;34m\"/home/seho/Passenger_Damand/data/event_data.csv\"\u001b[0m\u001b[0;34m)\u001b[0m\u001b[0;34m\u001b[0m\u001b[0;34m\u001b[0m\u001b[0m\n\u001b[0m",
      "\u001b[0;32m/opt/conda/lib/python3.8/site-packages/pandas/core/generic.py\u001b[0m in \u001b[0;36mto_csv\u001b[0;34m(self, path_or_buf, sep, na_rep, float_format, columns, header, index, index_label, mode, encoding, compression, quoting, quotechar, line_terminator, chunksize, date_format, doublequote, escapechar, decimal, errors, storage_options)\u001b[0m\n\u001b[1;32m   3385\u001b[0m         )\n\u001b[1;32m   3386\u001b[0m \u001b[0;34m\u001b[0m\u001b[0m\n\u001b[0;32m-> 3387\u001b[0;31m         return DataFrameRenderer(formatter).to_csv(\n\u001b[0m\u001b[1;32m   3388\u001b[0m             \u001b[0mpath_or_buf\u001b[0m\u001b[0;34m,\u001b[0m\u001b[0;34m\u001b[0m\u001b[0;34m\u001b[0m\u001b[0m\n\u001b[1;32m   3389\u001b[0m             \u001b[0mline_terminator\u001b[0m\u001b[0;34m=\u001b[0m\u001b[0mline_terminator\u001b[0m\u001b[0;34m,\u001b[0m\u001b[0;34m\u001b[0m\u001b[0;34m\u001b[0m\u001b[0m\n",
      "\u001b[0;32m/opt/conda/lib/python3.8/site-packages/pandas/io/formats/format.py\u001b[0m in \u001b[0;36mto_csv\u001b[0;34m(self, path_or_buf, encoding, sep, columns, index_label, mode, compression, quoting, quotechar, line_terminator, chunksize, date_format, doublequote, escapechar, errors, storage_options)\u001b[0m\n\u001b[1;32m   1081\u001b[0m             \u001b[0mformatter\u001b[0m\u001b[0;34m=\u001b[0m\u001b[0mself\u001b[0m\u001b[0;34m.\u001b[0m\u001b[0mfmt\u001b[0m\u001b[0;34m,\u001b[0m\u001b[0;34m\u001b[0m\u001b[0;34m\u001b[0m\u001b[0m\n\u001b[1;32m   1082\u001b[0m         )\n\u001b[0;32m-> 1083\u001b[0;31m         \u001b[0mcsv_formatter\u001b[0m\u001b[0;34m.\u001b[0m\u001b[0msave\u001b[0m\u001b[0;34m(\u001b[0m\u001b[0;34m)\u001b[0m\u001b[0;34m\u001b[0m\u001b[0;34m\u001b[0m\u001b[0m\n\u001b[0m\u001b[1;32m   1084\u001b[0m \u001b[0;34m\u001b[0m\u001b[0m\n\u001b[1;32m   1085\u001b[0m         \u001b[0;32mif\u001b[0m \u001b[0mcreated_buffer\u001b[0m\u001b[0;34m:\u001b[0m\u001b[0;34m\u001b[0m\u001b[0;34m\u001b[0m\u001b[0m\n",
      "\u001b[0;32m/opt/conda/lib/python3.8/site-packages/pandas/io/formats/csvs.py\u001b[0m in \u001b[0;36msave\u001b[0;34m(self)\u001b[0m\n\u001b[1;32m    226\u001b[0m         \"\"\"\n\u001b[1;32m    227\u001b[0m         \u001b[0;31m# apply compression and byte/text conversion\u001b[0m\u001b[0;34m\u001b[0m\u001b[0;34m\u001b[0m\u001b[0;34m\u001b[0m\u001b[0m\n\u001b[0;32m--> 228\u001b[0;31m         with get_handle(\n\u001b[0m\u001b[1;32m    229\u001b[0m             \u001b[0mself\u001b[0m\u001b[0;34m.\u001b[0m\u001b[0mfilepath_or_buffer\u001b[0m\u001b[0;34m,\u001b[0m\u001b[0;34m\u001b[0m\u001b[0;34m\u001b[0m\u001b[0m\n\u001b[1;32m    230\u001b[0m             \u001b[0mself\u001b[0m\u001b[0;34m.\u001b[0m\u001b[0mmode\u001b[0m\u001b[0;34m,\u001b[0m\u001b[0;34m\u001b[0m\u001b[0;34m\u001b[0m\u001b[0m\n",
      "\u001b[0;32m/opt/conda/lib/python3.8/site-packages/pandas/io/common.py\u001b[0m in \u001b[0;36mget_handle\u001b[0;34m(path_or_buf, mode, encoding, compression, memory_map, is_text, errors, storage_options)\u001b[0m\n\u001b[1;32m    640\u001b[0m                 \u001b[0merrors\u001b[0m \u001b[0;34m=\u001b[0m \u001b[0;34m\"replace\"\u001b[0m\u001b[0;34m\u001b[0m\u001b[0;34m\u001b[0m\u001b[0m\n\u001b[1;32m    641\u001b[0m             \u001b[0;31m# Encoding\u001b[0m\u001b[0;34m\u001b[0m\u001b[0;34m\u001b[0m\u001b[0;34m\u001b[0m\u001b[0m\n\u001b[0;32m--> 642\u001b[0;31m             handle = open(\n\u001b[0m\u001b[1;32m    643\u001b[0m                 \u001b[0mhandle\u001b[0m\u001b[0;34m,\u001b[0m\u001b[0;34m\u001b[0m\u001b[0;34m\u001b[0m\u001b[0m\n\u001b[1;32m    644\u001b[0m                 \u001b[0mioargs\u001b[0m\u001b[0;34m.\u001b[0m\u001b[0mmode\u001b[0m\u001b[0;34m,\u001b[0m\u001b[0;34m\u001b[0m\u001b[0;34m\u001b[0m\u001b[0m\n",
      "\u001b[0;31mFileNotFoundError\u001b[0m: [Errno 2] No such file or directory: '/home/seho/Passenger_Damand/data/event_data.csv'"
     ]
    }
   ],
   "source": [
    "event_data.to_csv(\"/home/seho/Passenger_Damand/data/event_data.csv\")"
   ]
  },
  {
   "cell_type": "code",
   "execution_count": 13,
   "id": "minus-ethiopia",
   "metadata": {},
   "outputs": [
    {
     "data": {
      "text/html": [
       "<div>\n",
       "<style scoped>\n",
       "    .dataframe tbody tr th:only-of-type {\n",
       "        vertical-align: middle;\n",
       "    }\n",
       "\n",
       "    .dataframe tbody tr th {\n",
       "        vertical-align: top;\n",
       "    }\n",
       "\n",
       "    .dataframe thead th {\n",
       "        text-align: right;\n",
       "    }\n",
       "</style>\n",
       "<table border=\"1\" class=\"dataframe\">\n",
       "  <thead>\n",
       "    <tr style=\"text-align: right;\">\n",
       "      <th></th>\n",
       "      <th>eventNm</th>\n",
       "      <th>opar</th>\n",
       "      <th>eventCo</th>\n",
       "      <th>eventStartDate</th>\n",
       "      <th>eventEndDate</th>\n",
       "      <th>eventStartTime</th>\n",
       "      <th>eventEndTime</th>\n",
       "      <th>chrgeInfo</th>\n",
       "      <th>mnnst</th>\n",
       "      <th>auspcInstt</th>\n",
       "      <th>...</th>\n",
       "      <th>atpn</th>\n",
       "      <th>homepageUrl</th>\n",
       "      <th>advantkInfo</th>\n",
       "      <th>prkplceYn</th>\n",
       "      <th>rdnmadr</th>\n",
       "      <th>lnmadr</th>\n",
       "      <th>latitude</th>\n",
       "      <th>longitude</th>\n",
       "      <th>referenceDate</th>\n",
       "      <th>insttCode</th>\n",
       "    </tr>\n",
       "  </thead>\n",
       "  <tbody>\n",
       "    <tr>\n",
       "      <th>0</th>\n",
       "      <td>Epidemic Episode</td>\n",
       "      <td>고운홀</td>\n",
       "      <td>댄스</td>\n",
       "      <td>2020-11-15</td>\n",
       "      <td>2020-11-15</td>\n",
       "      <td>10:00</td>\n",
       "      <td>11:30</td>\n",
       "      <td>무료</td>\n",
       "      <td>김도형</td>\n",
       "      <td>Epidemic Episode</td>\n",
       "      <td>...</td>\n",
       "      <td>음식물 반입 및 공연 중 사진 촬영 금지</td>\n",
       "      <td>http://hcc.haeundae.go.kr</td>\n",
       "      <td>http://hcc.haeundae.go.kr</td>\n",
       "      <td>Y</td>\n",
       "      <td>부산광역시 해운대구 양운로 97</td>\n",
       "      <td>부산광역시 해운대구 좌동 1458-1</td>\n",
       "      <td>35.1711677</td>\n",
       "      <td>129.1739716</td>\n",
       "      <td>2020-12-02</td>\n",
       "      <td>3330000</td>\n",
       "    </tr>\n",
       "    <tr>\n",
       "      <th>1</th>\n",
       "      <td>부산우드윈드앙상블 정기연주회</td>\n",
       "      <td>고운홀</td>\n",
       "      <td>앙상블 연주회</td>\n",
       "      <td>2020-11-15</td>\n",
       "      <td>2020-11-15</td>\n",
       "      <td>15:00</td>\n",
       "      <td>16:00</td>\n",
       "      <td>무료</td>\n",
       "      <td>원준연</td>\n",
       "      <td>부산 우드 윈드 앙상블</td>\n",
       "      <td>...</td>\n",
       "      <td>음식물 반입 및 공연 중 사진 촬영 금지</td>\n",
       "      <td>http://hcc.haeundae.go.kr</td>\n",
       "      <td>http://hcc.haeundae.go.kr</td>\n",
       "      <td>Y</td>\n",
       "      <td>부산광역시 해운대구 양운로 97</td>\n",
       "      <td>부산광역시 해운대구 좌동 1458-1</td>\n",
       "      <td>35.1711677</td>\n",
       "      <td>129.1739716</td>\n",
       "      <td>2020-12-02</td>\n",
       "      <td>3330000</td>\n",
       "    </tr>\n",
       "    <tr>\n",
       "      <th>2</th>\n",
       "      <td>한마당 음악세상</td>\n",
       "      <td>고운홀</td>\n",
       "      <td>대중 가요</td>\n",
       "      <td>2020-11-16</td>\n",
       "      <td>2020-11-16</td>\n",
       "      <td>14:30</td>\n",
       "      <td>16:30</td>\n",
       "      <td>무료</td>\n",
       "      <td>김상호</td>\n",
       "      <td>한마당 동아리</td>\n",
       "      <td>...</td>\n",
       "      <td>음식물 반입 및 공연 중 사진 촬영 금지</td>\n",
       "      <td>http://hcc.haeundae.go.kr</td>\n",
       "      <td>http://hcc.haeundae.go.kr</td>\n",
       "      <td>Y</td>\n",
       "      <td>부산광역시 해운대구 양운로 97</td>\n",
       "      <td>부산광역시 해운대구 좌동 1458-1</td>\n",
       "      <td>35.1711677</td>\n",
       "      <td>129.1739716</td>\n",
       "      <td>2020-12-02</td>\n",
       "      <td>3330000</td>\n",
       "    </tr>\n",
       "    <tr>\n",
       "      <th>3</th>\n",
       "      <td>열차는 밀라노를 막 지나쳤다</td>\n",
       "      <td>고운홀</td>\n",
       "      <td>뮤지컬</td>\n",
       "      <td>2020-11-20</td>\n",
       "      <td>2020-11-20</td>\n",
       "      <td>20:00</td>\n",
       "      <td>22:00</td>\n",
       "      <td>유료</td>\n",
       "      <td>이경진</td>\n",
       "      <td>콘텐츠 윈</td>\n",
       "      <td>...</td>\n",
       "      <td>음식물 반입 및 공연 중 사진 촬영 금지</td>\n",
       "      <td>http://hcc.haeundae.go.kr</td>\n",
       "      <td>http://hcc.haeundae.go.kr</td>\n",
       "      <td>Y</td>\n",
       "      <td>부산광역시 해운대구 양운로 97</td>\n",
       "      <td>부산광역시 해운대구 좌동 1458-1</td>\n",
       "      <td>35.1711677</td>\n",
       "      <td>129.1739716</td>\n",
       "      <td>2020-12-02</td>\n",
       "      <td>3330000</td>\n",
       "    </tr>\n",
       "    <tr>\n",
       "      <th>4</th>\n",
       "      <td>열차는 밀라노를 막 지나쳤다</td>\n",
       "      <td>고운홀</td>\n",
       "      <td>뮤지컬</td>\n",
       "      <td>2020-11-21</td>\n",
       "      <td>2020-11-21</td>\n",
       "      <td>16:00</td>\n",
       "      <td>18:00</td>\n",
       "      <td>유료</td>\n",
       "      <td>이경진</td>\n",
       "      <td>콘텐츠 윈</td>\n",
       "      <td>...</td>\n",
       "      <td>음식물 반입 및 공연 중 사진 촬영 금지</td>\n",
       "      <td>http://hcc.haeundae.go.kr</td>\n",
       "      <td>http://hcc.haeundae.go.kr</td>\n",
       "      <td>Y</td>\n",
       "      <td>부산광역시 해운대구 양운로 97</td>\n",
       "      <td>부산광역시 해운대구 좌동 1458-1</td>\n",
       "      <td>35.1711677</td>\n",
       "      <td>129.1739716</td>\n",
       "      <td>2020-12-02</td>\n",
       "      <td>3330000</td>\n",
       "    </tr>\n",
       "  </tbody>\n",
       "</table>\n",
       "<p>5 rows × 26 columns</p>\n",
       "</div>"
      ],
      "text/plain": [
       "            eventNm opar  eventCo eventStartDate eventEndDate eventStartTime  \\\n",
       "0  Epidemic Episode  고운홀       댄스     2020-11-15   2020-11-15          10:00   \n",
       "1   부산우드윈드앙상블 정기연주회  고운홀  앙상블 연주회     2020-11-15   2020-11-15          15:00   \n",
       "2          한마당 음악세상  고운홀    대중 가요     2020-11-16   2020-11-16          14:30   \n",
       "3   열차는 밀라노를 막 지나쳤다  고운홀      뮤지컬     2020-11-20   2020-11-20          20:00   \n",
       "4   열차는 밀라노를 막 지나쳤다  고운홀      뮤지컬     2020-11-21   2020-11-21          16:00   \n",
       "\n",
       "  eventEndTime chrgeInfo mnnst        auspcInstt  ...                    atpn  \\\n",
       "0        11:30        무료   김도형  Epidemic Episode  ...  음식물 반입 및 공연 중 사진 촬영 금지   \n",
       "1        16:00        무료   원준연      부산 우드 윈드 앙상블  ...  음식물 반입 및 공연 중 사진 촬영 금지   \n",
       "2        16:30        무료   김상호           한마당 동아리  ...  음식물 반입 및 공연 중 사진 촬영 금지   \n",
       "3        22:00        유료   이경진             콘텐츠 윈  ...  음식물 반입 및 공연 중 사진 촬영 금지   \n",
       "4        18:00        유료   이경진             콘텐츠 윈  ...  음식물 반입 및 공연 중 사진 촬영 금지   \n",
       "\n",
       "                 homepageUrl                advantkInfo prkplceYn  \\\n",
       "0  http://hcc.haeundae.go.kr  http://hcc.haeundae.go.kr         Y   \n",
       "1  http://hcc.haeundae.go.kr  http://hcc.haeundae.go.kr         Y   \n",
       "2  http://hcc.haeundae.go.kr  http://hcc.haeundae.go.kr         Y   \n",
       "3  http://hcc.haeundae.go.kr  http://hcc.haeundae.go.kr         Y   \n",
       "4  http://hcc.haeundae.go.kr  http://hcc.haeundae.go.kr         Y   \n",
       "\n",
       "             rdnmadr                lnmadr    latitude    longitude  \\\n",
       "0  부산광역시 해운대구 양운로 97  부산광역시 해운대구 좌동 1458-1  35.1711677  129.1739716   \n",
       "1  부산광역시 해운대구 양운로 97  부산광역시 해운대구 좌동 1458-1  35.1711677  129.1739716   \n",
       "2  부산광역시 해운대구 양운로 97  부산광역시 해운대구 좌동 1458-1  35.1711677  129.1739716   \n",
       "3  부산광역시 해운대구 양운로 97  부산광역시 해운대구 좌동 1458-1  35.1711677  129.1739716   \n",
       "4  부산광역시 해운대구 양운로 97  부산광역시 해운대구 좌동 1458-1  35.1711677  129.1739716   \n",
       "\n",
       "  referenceDate insttCode  \n",
       "0    2020-12-02   3330000  \n",
       "1    2020-12-02   3330000  \n",
       "2    2020-12-02   3330000  \n",
       "3    2020-12-02   3330000  \n",
       "4    2020-12-02   3330000  \n",
       "\n",
       "[5 rows x 26 columns]"
      ]
     },
     "execution_count": 13,
     "metadata": {},
     "output_type": "execute_result"
    }
   ],
   "source": [
    "event_data.head()"
   ]
  },
  {
   "cell_type": "code",
   "execution_count": null,
   "id": "wicked-columbus",
   "metadata": {},
   "outputs": [],
   "source": []
  },
  {
   "cell_type": "code",
   "execution_count": null,
   "id": "interested-sample",
   "metadata": {},
   "outputs": [],
   "source": []
  },
  {
   "cell_type": "markdown",
   "id": "valued-florence",
   "metadata": {},
   "source": [
    "### 전국 축제 데이터"
   ]
  },
  {
   "cell_type": "code",
   "execution_count": 7,
   "id": "acceptable-multimedia",
   "metadata": {},
   "outputs": [],
   "source": [
    "params_dict2 = {\"serviceKey\" : serviceKey,\n",
    "                \"pageNo\" : 1,\n",
    "                \"numOfRows\" : 1000,\n",
    "                \"type\" : \"json\"}"
   ]
  },
  {
   "cell_type": "code",
   "execution_count": 8,
   "id": "radio-howard",
   "metadata": {},
   "outputs": [],
   "source": [
    "festival_api = Festival_Data_by_API(params_dict = params_dict2)"
   ]
  },
  {
   "cell_type": "code",
   "execution_count": 9,
   "id": "skilled-abraham",
   "metadata": {},
   "outputs": [
    {
     "name": "stdout",
     "output_type": "stream",
     "text": [
      "n_rows : 1000, total_count : 1027, max_page = 2\n"
     ]
    }
   ],
   "source": [
    "festival_data = festival_api.get()"
   ]
  },
  {
   "cell_type": "code",
   "execution_count": 16,
   "id": "polished-english",
   "metadata": {},
   "outputs": [],
   "source": [
    "festival_data[\"fstvlStartDate\"] = pd.to_datetime(festival_data[\"fstvlStartDate\"], format = \"%Y-%m-%d\")\n",
    "festival_data[\"fstvlEndDate\"] = pd.to_datetime(festival_data[\"fstvlEndDate\"], format = \"%Y-%m-%d\")\n",
    "festival_data[\"referenceDate\"] = pd.to_datetime(festival_data[\"referenceDate\"], format = \"%Y-%m-%d\")"
   ]
  },
  {
   "cell_type": "code",
   "execution_count": 32,
   "id": "frequent-korea",
   "metadata": {},
   "outputs": [],
   "source": [
    "festival_data = festival_data.loc[(festival_data[\"fstvlStartDate\"].dt.year == 2020) & (festival_data[\"rdnmadr\"].str.contains(\"울산\"))]"
   ]
  },
  {
   "cell_type": "code",
   "execution_count": 33,
   "id": "lonely-place",
   "metadata": {},
   "outputs": [],
   "source": [
    "festival_data.to_csv(\"/home/seho/Passenger_Demand/data/festival_data.csv\")"
   ]
  }
 ],
 "metadata": {
  "kernelspec": {
   "display_name": "Python 3",
   "language": "python",
   "name": "python3"
  },
  "language_info": {
   "codemirror_mode": {
    "name": "ipython",
    "version": 3
   },
   "file_extension": ".py",
   "mimetype": "text/x-python",
   "name": "python",
   "nbconvert_exporter": "python",
   "pygments_lexer": "ipython3",
   "version": "3.8.8"
  }
 },
 "nbformat": 4,
 "nbformat_minor": 5
}
