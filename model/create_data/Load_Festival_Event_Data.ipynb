{
 "cells": [
  {
   "cell_type": "code",
   "execution_count": 1,
   "id": "unlikely-granny",
   "metadata": {},
   "outputs": [],
   "source": [
    "from utils.Ulsan_Event_Data_by_API import * \n",
    "from utils.Festival_Data_by_API import * "
   ]
  },
  {
   "cell_type": "markdown",
   "id": "underlying-scheduling",
   "metadata": {},
   "source": [
    "### 울산시 행사 데이터"
   ]
  },
  {
   "cell_type": "code",
   "execution_count": 2,
   "id": "genetic-zealand",
   "metadata": {},
   "outputs": [],
   "source": [
    "serviceKey = \"eLWdQyzctRdtv8bEOuewsTtK6sNkoWp1bE74OUBk43jg4tU6AsI6yYt6Z%2B7sOeaqtB5pTH2yHuPRIuEHtu5amQ%3D%3D\""
   ]
  },
  {
   "cell_type": "code",
   "execution_count": 3,
   "id": "weird-cleaning",
   "metadata": {},
   "outputs": [],
   "source": [
    "params_dict1 = {\"serviceKey\" : serviceKey,\n",
    "                \"pageNo\" : 1,\n",
    "                \"numOfRows\" : 1000}"
   ]
  },
  {
   "cell_type": "code",
   "execution_count": 4,
   "id": "furnished-ghana",
   "metadata": {},
   "outputs": [],
   "source": [
    "ulsan_event_api = Ulsan_Event_Data_by_API(params_dict = params_dict1)"
   ]
  },
  {
   "cell_type": "code",
   "execution_count": 5,
   "id": "least-series",
   "metadata": {},
   "outputs": [
    {
     "name": "stdout",
     "output_type": "stream",
     "text": [
      "n_rows : 1000, total_count : 312, max_page = 1\n"
     ]
    }
   ],
   "source": [
    "ulsan_event_data = ulsan_event_api.get()"
   ]
  },
  {
   "cell_type": "code",
   "execution_count": 6,
   "id": "large-staff",
   "metadata": {},
   "outputs": [],
   "source": [
    "ulsan_event_data.to_csv(\"/home/seho/Passenger_Demand/data/ulsan_event_data.csv\")"
   ]
  },
  {
   "cell_type": "markdown",
   "id": "falling-angel",
   "metadata": {},
   "source": [
    "### 전국 축제 데이터"
   ]
  },
  {
   "cell_type": "code",
   "execution_count": 7,
   "id": "global-sport",
   "metadata": {},
   "outputs": [],
   "source": [
    "params_dict2 = {\"serviceKey\" : serviceKey,\n",
    "                \"pageNo\" : 1,\n",
    "                \"numOfRows\" : 1000,\n",
    "                \"type\" : \"json\"}"
   ]
  },
  {
   "cell_type": "code",
   "execution_count": 8,
   "id": "public-brazil",
   "metadata": {},
   "outputs": [],
   "source": [
    "festival_api = Festival_Data_by_API(params_dict = params_dict2)"
   ]
  },
  {
   "cell_type": "code",
   "execution_count": 9,
   "id": "working-louis",
   "metadata": {},
   "outputs": [
    {
     "name": "stdout",
     "output_type": "stream",
     "text": [
      "n_rows : 1000, total_count : 1027, max_page = 2\n"
     ]
    }
   ],
   "source": [
    "festival_data = festival_api.get()"
   ]
  },
  {
   "cell_type": "code",
   "execution_count": 16,
   "id": "yellow-removal",
   "metadata": {},
   "outputs": [],
   "source": [
    "festival_data[\"fstvlStartDate\"] = pd.to_datetime(festival_data[\"fstvlStartDate\"], format = \"%Y-%m-%d\")\n",
    "festival_data[\"fstvlEndDate\"] = pd.to_datetime(festival_data[\"fstvlEndDate\"], format = \"%Y-%m-%d\")\n",
    "festival_data[\"referenceDate\"] = pd.to_datetime(festival_data[\"referenceDate\"], format = \"%Y-%m-%d\")"
   ]
  },
  {
   "cell_type": "code",
   "execution_count": 29,
   "id": "diverse-month",
   "metadata": {},
   "outputs": [
    {
     "data": {
      "text/html": [
       "<div>\n",
       "<style scoped>\n",
       "    .dataframe tbody tr th:only-of-type {\n",
       "        vertical-align: middle;\n",
       "    }\n",
       "\n",
       "    .dataframe tbody tr th {\n",
       "        vertical-align: top;\n",
       "    }\n",
       "\n",
       "    .dataframe thead th {\n",
       "        text-align: right;\n",
       "    }\n",
       "</style>\n",
       "<table border=\"1\" class=\"dataframe\">\n",
       "  <thead>\n",
       "    <tr style=\"text-align: right;\">\n",
       "      <th></th>\n",
       "      <th>fstvlNm</th>\n",
       "      <th>opar</th>\n",
       "      <th>fstvlStartDate</th>\n",
       "      <th>fstvlEndDate</th>\n",
       "      <th>fstvlCo</th>\n",
       "      <th>mnnst</th>\n",
       "      <th>auspcInstt</th>\n",
       "      <th>suprtInstt</th>\n",
       "      <th>phoneNumber</th>\n",
       "      <th>homepageUrl</th>\n",
       "      <th>relateInfo</th>\n",
       "      <th>rdnmadr</th>\n",
       "      <th>lnmadr</th>\n",
       "      <th>latitude</th>\n",
       "      <th>longitude</th>\n",
       "      <th>referenceDate</th>\n",
       "      <th>insttCode</th>\n",
       "    </tr>\n",
       "  </thead>\n",
       "  <tbody>\n",
       "    <tr>\n",
       "      <th>201</th>\n",
       "      <td>2021 태화강 국제 재즈페스티벌</td>\n",
       "      <td>태화강국가정원 야외공연장</td>\n",
       "      <td>2021-05-15</td>\n",
       "      <td>2021-05-16</td>\n",
       "      <td>국·내외 재즈가수 공연, 부대행사 등</td>\n",
       "      <td>울산매일신문사</td>\n",
       "      <td>울산매일신문사</td>\n",
       "      <td>울산광역시,울산광역시 중구</td>\n",
       "      <td>052-290-3663</td>\n",
       "      <td></td>\n",
       "      <td></td>\n",
       "      <td>울산광역시 중구 태화동 107</td>\n",
       "      <td>울산광역시 중구 태화동 107</td>\n",
       "      <td></td>\n",
       "      <td></td>\n",
       "      <td>2021-02-19</td>\n",
       "      <td>3690000</td>\n",
       "    </tr>\n",
       "    <tr>\n",
       "      <th>256</th>\n",
       "      <td>2021년 외솔한글한마당</td>\n",
       "      <td>외솔기념관 및 중구 원도심 일원</td>\n",
       "      <td>2021-10-09</td>\n",
       "      <td>2021-10-11</td>\n",
       "      <td>한글을 주제로 한 전시, 체험, 경연, 공연 등</td>\n",
       "      <td>UBC 울산방송</td>\n",
       "      <td>울산광역시</td>\n",
       "      <td>울산광역시 중구, 외솔회</td>\n",
       "      <td>052-290-3654</td>\n",
       "      <td></td>\n",
       "      <td></td>\n",
       "      <td>울산광역시 중구 병영12길 15</td>\n",
       "      <td></td>\n",
       "      <td>35.5747558283</td>\n",
       "      <td>129.3474679059</td>\n",
       "      <td>2021-02-19</td>\n",
       "      <td>3690000</td>\n",
       "    </tr>\n",
       "    <tr>\n",
       "      <th>257</th>\n",
       "      <td>2021 문화의거리 현대미술제</td>\n",
       "      <td>울산 중구 문화의거리</td>\n",
       "      <td>2021-04-24</td>\n",
       "      <td>2021-05-02</td>\n",
       "      <td>갤러리 및 거리 미술작품 전시</td>\n",
       "      <td>문화의거리 현대미술제 울산운영위원회</td>\n",
       "      <td>경상일보</td>\n",
       "      <td>울산광역시,울산광역시 중구</td>\n",
       "      <td>052-290-3666</td>\n",
       "      <td></td>\n",
       "      <td></td>\n",
       "      <td>울산광역시 중구 옥교동 277-1</td>\n",
       "      <td>울산광역시 중구 옥교동 277-1</td>\n",
       "      <td></td>\n",
       "      <td></td>\n",
       "      <td>2021-02-19</td>\n",
       "      <td>3690000</td>\n",
       "    </tr>\n",
       "    <tr>\n",
       "      <th>258</th>\n",
       "      <td>2021년 울산병영3.1만세운동 제22회 재현행사</td>\n",
       "      <td>울산 중구 병영 일원</td>\n",
       "      <td>2021-04-04</td>\n",
       "      <td>2021-04-05</td>\n",
       "      <td>위령제, 삼일만세운동재현행사 및 부대행사, 축구대회(21.04.11.) 등</td>\n",
       "      <td>중구문화원</td>\n",
       "      <td>중구문화원</td>\n",
       "      <td>울산광역시 중구,보훈지청</td>\n",
       "      <td>052-290-3664</td>\n",
       "      <td></td>\n",
       "      <td></td>\n",
       "      <td>울산광역시 중구 남외동 488-5</td>\n",
       "      <td>울산광역시 중구 남외동 488-5</td>\n",
       "      <td></td>\n",
       "      <td></td>\n",
       "      <td>2021-02-19</td>\n",
       "      <td>3690000</td>\n",
       "    </tr>\n",
       "    <tr>\n",
       "      <th>448</th>\n",
       "      <td>울주세계산악영화제</td>\n",
       "      <td>영남알프스 복합웰컴센터 일원</td>\n",
       "      <td>2021-04-02</td>\n",
       "      <td>2021-04-06</td>\n",
       "      <td>클라이밍, 모험과 탐험 등 7개 섹션으로 구성한 40개국 150편의 영화상영과 힐링...</td>\n",
       "      <td>사단법인 울주세계산악영화제</td>\n",
       "      <td>사단법인 울주세계산악영화제</td>\n",
       "      <td>울산광역시 울주군</td>\n",
       "      <td>052-248-6451</td>\n",
       "      <td>http://www.umff.kr</td>\n",
       "      <td></td>\n",
       "      <td>울산광역시 울주군 상북면 알프스온천5길 103-8</td>\n",
       "      <td>울산광역시 울주군 상북면 등억알프스리 515-2</td>\n",
       "      <td>35.5564542</td>\n",
       "      <td>129.0679842</td>\n",
       "      <td>2020-12-15</td>\n",
       "      <td>3730000</td>\n",
       "    </tr>\n",
       "    <tr>\n",
       "      <th>449</th>\n",
       "      <td>간절곶해맞이</td>\n",
       "      <td>간절곶공원</td>\n",
       "      <td>2021-12-31</td>\n",
       "      <td>2022-01-01</td>\n",
       "      <td>해넘이 전야제, 해맞이행사</td>\n",
       "      <td>울주문화재단,울산문화방송</td>\n",
       "      <td>울주군</td>\n",
       "      <td>울산광역시</td>\n",
       "      <td>052-204-0315</td>\n",
       "      <td>http://www.ulju.ulsan.kr/ulju</td>\n",
       "      <td></td>\n",
       "      <td>울산광역시 울주군 서생면 간절곶1길 39-2</td>\n",
       "      <td>울산광역시 울주군 서생면 대송리 28-1</td>\n",
       "      <td>35.3589731</td>\n",
       "      <td>129.3602963</td>\n",
       "      <td>2020-12-15</td>\n",
       "      <td>3730000</td>\n",
       "    </tr>\n",
       "    <tr>\n",
       "      <th>755</th>\n",
       "      <td>2021 울산 마두희 축제</td>\n",
       "      <td>울산 중구 성남동 일원</td>\n",
       "      <td>2021-06-11</td>\n",
       "      <td>2021-06-13</td>\n",
       "      <td>큰줄다리기 및 부대행사</td>\n",
       "      <td>울산마두희축제추진위원회</td>\n",
       "      <td>울산마두희축제추진위원회</td>\n",
       "      <td>울산광역시 중구</td>\n",
       "      <td>052-290-3662</td>\n",
       "      <td>http://www.ulsanmaduhee.co.kr/2013/main/main.html</td>\n",
       "      <td></td>\n",
       "      <td>울산광역시 중구 학성로</td>\n",
       "      <td>울산광역시 중구 성남동</td>\n",
       "      <td></td>\n",
       "      <td></td>\n",
       "      <td>2021-02-19</td>\n",
       "      <td>3690000</td>\n",
       "    </tr>\n",
       "  </tbody>\n",
       "</table>\n",
       "</div>"
      ],
      "text/plain": [
       "                         fstvlNm               opar fstvlStartDate  \\\n",
       "201           2021 태화강 국제 재즈페스티벌      태화강국가정원 야외공연장     2021-05-15   \n",
       "256                2021년 외솔한글한마당  외솔기념관 및 중구 원도심 일원     2021-10-09   \n",
       "257             2021 문화의거리 현대미술제        울산 중구 문화의거리     2021-04-24   \n",
       "258  2021년 울산병영3.1만세운동 제22회 재현행사        울산 중구 병영 일원     2021-04-04   \n",
       "448                    울주세계산악영화제    영남알프스 복합웰컴센터 일원     2021-04-02   \n",
       "449                       간절곶해맞이              간절곶공원     2021-12-31   \n",
       "755               2021 울산 마두희 축제       울산 중구 성남동 일원     2021-06-11   \n",
       "\n",
       "    fstvlEndDate                                            fstvlCo  \\\n",
       "201   2021-05-16                               국·내외 재즈가수 공연, 부대행사 등   \n",
       "256   2021-10-11                         한글을 주제로 한 전시, 체험, 경연, 공연 등   \n",
       "257   2021-05-02                                   갤러리 및 거리 미술작품 전시   \n",
       "258   2021-04-05          위령제, 삼일만세운동재현행사 및 부대행사, 축구대회(21.04.11.) 등   \n",
       "448   2021-04-06  클라이밍, 모험과 탐험 등 7개 섹션으로 구성한 40개국 150편의 영화상영과 힐링...   \n",
       "449   2022-01-01                                     해넘이 전야제, 해맞이행사   \n",
       "755   2021-06-13                                       큰줄다리기 및 부대행사   \n",
       "\n",
       "                   mnnst      auspcInstt      suprtInstt   phoneNumber  \\\n",
       "201              울산매일신문사         울산매일신문사  울산광역시,울산광역시 중구  052-290-3663   \n",
       "256             UBC 울산방송           울산광역시   울산광역시 중구, 외솔회  052-290-3654   \n",
       "257  문화의거리 현대미술제 울산운영위원회            경상일보  울산광역시,울산광역시 중구  052-290-3666   \n",
       "258                중구문화원           중구문화원   울산광역시 중구,보훈지청  052-290-3664   \n",
       "448       사단법인 울주세계산악영화제  사단법인 울주세계산악영화제       울산광역시 울주군  052-248-6451   \n",
       "449        울주문화재단,울산문화방송             울주군           울산광역시  052-204-0315   \n",
       "755         울산마두희축제추진위원회    울산마두희축제추진위원회        울산광역시 중구  052-290-3662   \n",
       "\n",
       "                                           homepageUrl relateInfo  \\\n",
       "201                                                                 \n",
       "256                                                                 \n",
       "257                                                                 \n",
       "258                                                                 \n",
       "448                                 http://www.umff.kr              \n",
       "449                      http://www.ulju.ulsan.kr/ulju              \n",
       "755  http://www.ulsanmaduhee.co.kr/2013/main/main.html              \n",
       "\n",
       "                         rdnmadr                      lnmadr       latitude  \\\n",
       "201             울산광역시 중구 태화동 107            울산광역시 중구 태화동 107                  \n",
       "256            울산광역시 중구 병영12길 15                              35.5747558283   \n",
       "257           울산광역시 중구 옥교동 277-1          울산광역시 중구 옥교동 277-1                  \n",
       "258           울산광역시 중구 남외동 488-5          울산광역시 중구 남외동 488-5                  \n",
       "448  울산광역시 울주군 상북면 알프스온천5길 103-8  울산광역시 울주군 상북면 등억알프스리 515-2     35.5564542   \n",
       "449     울산광역시 울주군 서생면 간절곶1길 39-2      울산광역시 울주군 서생면 대송리 28-1     35.3589731   \n",
       "755                 울산광역시 중구 학성로                울산광역시 중구 성남동                  \n",
       "\n",
       "          longitude referenceDate insttCode  \n",
       "201                    2021-02-19   3690000  \n",
       "256  129.3474679059    2021-02-19   3690000  \n",
       "257                    2021-02-19   3690000  \n",
       "258                    2021-02-19   3690000  \n",
       "448     129.0679842    2020-12-15   3730000  \n",
       "449     129.3602963    2020-12-15   3730000  \n",
       "755                    2021-02-19   3690000  "
      ]
     },
     "execution_count": 29,
     "metadata": {},
     "output_type": "execute_result"
    }
   ],
   "source": [
    "festival_data.loc[(festival_data[\"fstvlStartDate\"].dt.year == 2021) & (festival_data[\"rdnmadr\"].str.contains(\"울산\"))]"
   ]
  },
  {
   "cell_type": "code",
   "execution_count": 17,
   "id": "absolute-string",
   "metadata": {},
   "outputs": [
    {
     "data": {
      "text/html": [
       "<div>\n",
       "<style scoped>\n",
       "    .dataframe tbody tr th:only-of-type {\n",
       "        vertical-align: middle;\n",
       "    }\n",
       "\n",
       "    .dataframe tbody tr th {\n",
       "        vertical-align: top;\n",
       "    }\n",
       "\n",
       "    .dataframe thead th {\n",
       "        text-align: right;\n",
       "    }\n",
       "</style>\n",
       "<table border=\"1\" class=\"dataframe\">\n",
       "  <thead>\n",
       "    <tr style=\"text-align: right;\">\n",
       "      <th></th>\n",
       "    </tr>\n",
       "  </thead>\n",
       "  <tbody>\n",
       "  </tbody>\n",
       "</table>\n",
       "</div>"
      ],
      "text/plain": [
       "Empty DataFrame\n",
       "Columns: []\n",
       "Index: []"
      ]
     },
     "execution_count": 17,
     "metadata": {},
     "output_type": "execute_result"
    }
   ],
   "source": [
    "festival_data.to_csv(\"/home/seho/Passenger_Demand/data/festival_data.csv\")"
   ]
  }
 ],
 "metadata": {
  "kernelspec": {
   "display_name": "Python 3",
   "language": "python",
   "name": "python3"
  },
  "language_info": {
   "codemirror_mode": {
    "name": "ipython",
    "version": 3
   },
   "file_extension": ".py",
   "mimetype": "text/x-python",
   "name": "python",
   "nbconvert_exporter": "python",
   "pygments_lexer": "ipython3",
   "version": "3.8.6"
  }
 },
 "nbformat": 4,
 "nbformat_minor": 5
}
