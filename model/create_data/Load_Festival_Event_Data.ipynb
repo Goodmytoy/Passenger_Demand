{
 "cells": [
  {
   "cell_type": "code",
   "execution_count": 1,
   "id": "chicken-factor",
   "metadata": {},
   "outputs": [],
   "source": [
    "from utils.Ulsan_Event_Data_by_API import * \n",
    "from utils.Festival_Data_by_API import * "
   ]
  },
  {
   "cell_type": "markdown",
   "id": "composite-exhibit",
   "metadata": {},
   "source": [
    "### 울산시 행사 데이터"
   ]
  },
  {
   "cell_type": "code",
   "execution_count": 2,
   "id": "acknowledged-breast",
   "metadata": {},
   "outputs": [],
   "source": [
    "serviceKey = \"eLWdQyzctRdtv8bEOuewsTtK6sNkoWp1bE74OUBk43jg4tU6AsI6yYt6Z%2B7sOeaqtB5pTH2yHuPRIuEHtu5amQ%3D%3D\""
   ]
  },
  {
   "cell_type": "code",
   "execution_count": 3,
   "id": "valuable-blast",
   "metadata": {},
   "outputs": [],
   "source": [
    "params_dict1 = {\"serviceKey\" : serviceKey,\n",
    "                \"pageNo\" : 1,\n",
    "                \"numOfRows\" : 1000}"
   ]
  },
  {
   "cell_type": "code",
   "execution_count": 4,
   "id": "frank-borough",
   "metadata": {},
   "outputs": [],
   "source": [
    "ulsan_event_api = Ulsan_Event_Data_by_API(params_dict = params_dict1)"
   ]
  },
  {
   "cell_type": "code",
   "execution_count": 5,
   "id": "confidential-green",
   "metadata": {},
   "outputs": [
    {
     "name": "stdout",
     "output_type": "stream",
     "text": [
      "n_rows : 1000, total_count : 312, max_page = 1\n"
     ]
    }
   ],
   "source": [
    "ulsan_event_data = ulsan_event_api.get()"
   ]
  },
  {
   "cell_type": "code",
   "execution_count": 6,
   "id": "fifth-installation",
   "metadata": {},
   "outputs": [],
   "source": [
    "ulsan_event_data.to_csv(\"/home/seho/Passenger_Demand/data/ulsan_event_data.csv\")"
   ]
  },
  {
   "cell_type": "markdown",
   "id": "third-speed",
   "metadata": {},
   "source": [
    "### 전국 축제 데이터"
   ]
  },
  {
   "cell_type": "code",
   "execution_count": 7,
   "id": "seven-house",
   "metadata": {},
   "outputs": [],
   "source": [
    "params_dict2 = {\"serviceKey\" : serviceKey,\n",
    "                \"pageNo\" : 1,\n",
    "                \"numOfRows\" : 1000,\n",
    "                \"type\" : \"json\"}"
   ]
  },
  {
   "cell_type": "code",
   "execution_count": 8,
   "id": "protecting-stick",
   "metadata": {},
   "outputs": [],
   "source": [
    "festival_api = Festival_Data_by_API(params_dict = params_dict2)"
   ]
  },
  {
   "cell_type": "code",
   "execution_count": 9,
   "id": "tutorial-circumstances",
   "metadata": {},
   "outputs": [
    {
     "name": "stdout",
     "output_type": "stream",
     "text": [
      "n_rows : 1000, total_count : 1027, max_page = 2\n"
     ]
    }
   ],
   "source": [
    "festival_data = festival_api.get()"
   ]
  },
  {
   "cell_type": "code",
   "execution_count": 16,
   "id": "essential-reservation",
   "metadata": {},
   "outputs": [],
   "source": [
    "festival_data[\"fstvlStartDate\"] = pd.to_datetime(festival_data[\"fstvlStartDate\"], format = \"%Y-%m-%d\")\n",
    "festival_data[\"fstvlEndDate\"] = pd.to_datetime(festival_data[\"fstvlEndDate\"], format = \"%Y-%m-%d\")\n",
    "festival_data[\"referenceDate\"] = pd.to_datetime(festival_data[\"referenceDate\"], format = \"%Y-%m-%d\")"
   ]
  },
  {
   "cell_type": "code",
   "execution_count": 32,
   "id": "cloudy-distribution",
   "metadata": {},
   "outputs": [],
   "source": [
    "festival_data = festival_data.loc[(festival_data[\"fstvlStartDate\"].dt.year == 2020) & (festival_data[\"rdnmadr\"].str.contains(\"울산\"))]"
   ]
  },
  {
   "cell_type": "code",
   "execution_count": 33,
   "id": "suspected-ordering",
   "metadata": {},
   "outputs": [],
   "source": [
    "festival_data.to_csv(\"/home/seho/Passenger_Demand/data/festival_data.csv\")"
   ]
  }
 ],
 "metadata": {
  "kernelspec": {
   "display_name": "Python 3",
   "language": "python",
   "name": "python3"
  },
  "language_info": {
   "codemirror_mode": {
    "name": "ipython",
    "version": 3
   },
   "file_extension": ".py",
   "mimetype": "text/x-python",
   "name": "python",
   "nbconvert_exporter": "python",
   "pygments_lexer": "ipython3",
   "version": "3.8.8"
  }
 },
 "nbformat": 4,
 "nbformat_minor": 5
}
