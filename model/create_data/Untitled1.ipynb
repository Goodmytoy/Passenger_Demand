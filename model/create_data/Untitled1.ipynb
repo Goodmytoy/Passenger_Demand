{
 "cells": [
  {
   "cell_type": "code",
   "execution_count": 1,
   "id": "defined-glass",
   "metadata": {},
   "outputs": [],
   "source": [
    "from utils.Data_by_API import * "
   ]
  },
  {
   "cell_type": "code",
   "execution_count": 26,
   "id": "appreciated-fence",
   "metadata": {},
   "outputs": [],
   "source": [
    "import pandas as pd\n",
    "import numpy as np\n",
    "from collections import defaultdict\n",
    "from utils.Data_by_API import *\n",
    "\n",
    "\n",
    "class Festival_Data_by_API(Data_by_API):\n",
    "    \n",
    "    # base_url = \"http://data.ulsan.go.kr/rest/ulsanperformanceeventinfo/getUls/anperformanceeventinfoList?\"\n",
    "    base_url = \"http://api.data.go.kr/openapi/tn_pubr_public_cltur_fstvl_api?\"\n",
    "    \n",
    "    def __init__(self, params_dict):\n",
    "        super().__init__(url = self.base_url)\n",
    "        self.request_url = super().create_request_url(params_dict = params_dict)\n",
    "        self.params_dict = params_dict\n",
    "        self.type = \"json\"\n",
    "        \n",
    "    \n",
    "    def extract_values_from_dict(self, dct):\n",
    "        dict_list = dct[\"rfcOpenApi\"][\"body\"][\"data\"][\"list\"]\n",
    "            \n",
    "        return dict_list\n",
    "    \n",
    "    \n",
    "    def create_request_urls(self):\n",
    "        max_page = self.calculate_max_page(type = self.type)\n",
    "        \n",
    "        params_dict = self.params_dict.copy()\n",
    "        \n",
    "        request_urls= []\n",
    "        for i in range(max_page):\n",
    "            params_dict[\"pageNo\"] = i + 1\n",
    "            request_urls.append(super().create_request_url(params_dict = params_dict))\n",
    "            \n",
    "        return request_urls\n",
    "  \n",
    "    \n",
    "    def get(self):\n",
    "        \n",
    "        self.request_urls = self.create_request_urls()\n",
    "        \n",
    "        data_dict = defaultdict(list)\n",
    "        for request_url in self.request_urls:\n",
    "            rq = self.request(request_url = request_url)\n",
    "#             temp_dict = self.parse_json(request = rq, features = None)\n",
    "            temp_dict = self.parse(request = rq, features = None, type = self.type)\n",
    "            \n",
    "            for k, v in temp_dict.items():\n",
    "                data_dict[k].extend(v)\n",
    "            \n",
    "        return pd.DataFrame(data_dict)"
   ]
  },
  {
   "cell_type": "code",
   "execution_count": 27,
   "id": "french-thumbnail",
   "metadata": {},
   "outputs": [],
   "source": [
    "serviceKey = \"eLWdQyzctRdtv8bEOuewsTtK6sNkoWp1bE74OUBk43jg4tU6AsI6yYt6Z%2B7sOeaqtB5pTH2yHuPRIuEHtu5amQ%3D%3D\""
   ]
  },
  {
   "cell_type": "code",
   "execution_count": 28,
   "id": "velvet-central",
   "metadata": {},
   "outputs": [],
   "source": [
    "params_dict = {\"serviceKey\" : serviceKey,\n",
    "               \"pageNo\" : 1,\n",
    "               \"numOfRows\" : 1000,\n",
    "               \"type\" : \"json\"}\n",
    "#                \"fstvlStartDate\" : \"2020-01-01\",\n",
    "#                \"fstvlEndDate\" : \"2020-12-31\", \n",
    "#                \"type\" : \"json\"}"
   ]
  },
  {
   "cell_type": "code",
   "execution_count": 29,
   "id": "protected-carrier",
   "metadata": {},
   "outputs": [],
   "source": [
    "festival_api = Festival_Data_by_API(params_dict = params_dict)"
   ]
  },
  {
   "cell_type": "code",
   "execution_count": 30,
   "id": "prompt-latex",
   "metadata": {},
   "outputs": [
    {
     "data": {
      "text/plain": [
       "'http://api.data.go.kr/openapi/tn_pubr_public_cltur_fstvl_api?serviceKey=eLWdQyzctRdtv8bEOuewsTtK6sNkoWp1bE74OUBk43jg4tU6AsI6yYt6Z%2B7sOeaqtB5pTH2yHuPRIuEHtu5amQ%3D%3D&pageNo=1&numOfRows=1000&type=json'"
      ]
     },
     "execution_count": 30,
     "metadata": {},
     "output_type": "execute_result"
    }
   ],
   "source": [
    "festival_api.request_url"
   ]
  },
  {
   "cell_type": "code",
   "execution_count": 31,
   "id": "viral-specific",
   "metadata": {},
   "outputs": [
    {
     "name": "stdout",
     "output_type": "stream",
     "text": [
      "n_rows : 1000, total_count : 1027, max_page = 2\n"
     ]
    },
    {
     "ename": "KeyError",
     "evalue": "'rfcOpenApi'",
     "output_type": "error",
     "traceback": [
      "\u001b[0;31m---------------------------------------------------------------------------\u001b[0m",
      "\u001b[0;31mKeyError\u001b[0m                                  Traceback (most recent call last)",
      "\u001b[0;32m<ipython-input-31-a97a24b2fe3b>\u001b[0m in \u001b[0;36m<module>\u001b[0;34m\u001b[0m\n\u001b[0;32m----> 1\u001b[0;31m \u001b[0mtemp\u001b[0m \u001b[0;34m=\u001b[0m \u001b[0mfestival_api\u001b[0m\u001b[0;34m.\u001b[0m\u001b[0mget\u001b[0m\u001b[0;34m(\u001b[0m\u001b[0;34m)\u001b[0m\u001b[0;34m\u001b[0m\u001b[0;34m\u001b[0m\u001b[0m\n\u001b[0m",
      "\u001b[0;32m<ipython-input-26-f912eca4e815>\u001b[0m in \u001b[0;36mget\u001b[0;34m(self)\u001b[0m\n\u001b[1;32m     44\u001b[0m             \u001b[0mrq\u001b[0m \u001b[0;34m=\u001b[0m \u001b[0mself\u001b[0m\u001b[0;34m.\u001b[0m\u001b[0mrequest\u001b[0m\u001b[0;34m(\u001b[0m\u001b[0mrequest_url\u001b[0m \u001b[0;34m=\u001b[0m \u001b[0mrequest_url\u001b[0m\u001b[0;34m)\u001b[0m\u001b[0;34m\u001b[0m\u001b[0;34m\u001b[0m\u001b[0m\n\u001b[1;32m     45\u001b[0m \u001b[0;31m#             temp_dict = self.parse_json(request = rq, features = None)\u001b[0m\u001b[0;34m\u001b[0m\u001b[0;34m\u001b[0m\u001b[0;34m\u001b[0m\u001b[0m\n\u001b[0;32m---> 46\u001b[0;31m             \u001b[0mtemp_dict\u001b[0m \u001b[0;34m=\u001b[0m \u001b[0mself\u001b[0m\u001b[0;34m.\u001b[0m\u001b[0mparse\u001b[0m\u001b[0;34m(\u001b[0m\u001b[0mrequest\u001b[0m \u001b[0;34m=\u001b[0m \u001b[0mrq\u001b[0m\u001b[0;34m,\u001b[0m \u001b[0mfeatures\u001b[0m \u001b[0;34m=\u001b[0m \u001b[0;32mNone\u001b[0m\u001b[0;34m,\u001b[0m \u001b[0mtype\u001b[0m \u001b[0;34m=\u001b[0m \u001b[0mself\u001b[0m\u001b[0;34m.\u001b[0m\u001b[0mtype\u001b[0m\u001b[0;34m)\u001b[0m\u001b[0;34m\u001b[0m\u001b[0;34m\u001b[0m\u001b[0m\n\u001b[0m\u001b[1;32m     47\u001b[0m \u001b[0;34m\u001b[0m\u001b[0m\n\u001b[1;32m     48\u001b[0m             \u001b[0;32mfor\u001b[0m \u001b[0mk\u001b[0m\u001b[0;34m,\u001b[0m \u001b[0mv\u001b[0m \u001b[0;32min\u001b[0m \u001b[0mtemp_dict\u001b[0m\u001b[0;34m.\u001b[0m\u001b[0mitems\u001b[0m\u001b[0;34m(\u001b[0m\u001b[0;34m)\u001b[0m\u001b[0;34m:\u001b[0m\u001b[0;34m\u001b[0m\u001b[0;34m\u001b[0m\u001b[0m\n",
      "\u001b[0;32m~/Passenger_Demand/utils/Data_by_API.py\u001b[0m in \u001b[0;36mparse\u001b[0;34m(self, request, features, type)\u001b[0m\n\u001b[1;32m    107\u001b[0m \u001b[0;34m\u001b[0m\u001b[0m\n\u001b[1;32m    108\u001b[0m         \u001b[0;31m# 일부 url의 경우는 item이 아닌 items에 값이 존재\u001b[0m\u001b[0;34m\u001b[0m\u001b[0;34m\u001b[0m\u001b[0;34m\u001b[0m\u001b[0m\n\u001b[0;32m--> 109\u001b[0;31m         \u001b[0mdict_list\u001b[0m \u001b[0;34m=\u001b[0m \u001b[0mself\u001b[0m\u001b[0;34m.\u001b[0m\u001b[0mextract_values_from_dict\u001b[0m\u001b[0;34m(\u001b[0m\u001b[0mdct\u001b[0m \u001b[0;34m=\u001b[0m \u001b[0mrq_dict\u001b[0m\u001b[0;34m)\u001b[0m\u001b[0;34m\u001b[0m\u001b[0;34m\u001b[0m\u001b[0m\n\u001b[0m\u001b[1;32m    110\u001b[0m \u001b[0;31m#        try:\u001b[0m\u001b[0;34m\u001b[0m\u001b[0;34m\u001b[0m\u001b[0;34m\u001b[0m\u001b[0m\n\u001b[1;32m    111\u001b[0m \u001b[0;31m#            dict_list = rq_dict[\"response\"][\"body\"][\"items\"][\"item\"]\u001b[0m\u001b[0;34m\u001b[0m\u001b[0;34m\u001b[0m\u001b[0;34m\u001b[0m\u001b[0m\n",
      "\u001b[0;32m<ipython-input-26-f912eca4e815>\u001b[0m in \u001b[0;36mextract_values_from_dict\u001b[0;34m(self, dct)\u001b[0m\n\u001b[1;32m     18\u001b[0m \u001b[0;34m\u001b[0m\u001b[0m\n\u001b[1;32m     19\u001b[0m     \u001b[0;32mdef\u001b[0m \u001b[0mextract_values_from_dict\u001b[0m\u001b[0;34m(\u001b[0m\u001b[0mself\u001b[0m\u001b[0;34m,\u001b[0m \u001b[0mdct\u001b[0m\u001b[0;34m)\u001b[0m\u001b[0;34m:\u001b[0m\u001b[0;34m\u001b[0m\u001b[0;34m\u001b[0m\u001b[0m\n\u001b[0;32m---> 20\u001b[0;31m         \u001b[0mdict_list\u001b[0m \u001b[0;34m=\u001b[0m \u001b[0mdct\u001b[0m\u001b[0;34m[\u001b[0m\u001b[0;34m\"rfcOpenApi\"\u001b[0m\u001b[0;34m]\u001b[0m\u001b[0;34m[\u001b[0m\u001b[0;34m\"body\"\u001b[0m\u001b[0;34m]\u001b[0m\u001b[0;34m[\u001b[0m\u001b[0;34m\"data\"\u001b[0m\u001b[0;34m]\u001b[0m\u001b[0;34m[\u001b[0m\u001b[0;34m\"list\"\u001b[0m\u001b[0;34m]\u001b[0m\u001b[0;34m\u001b[0m\u001b[0;34m\u001b[0m\u001b[0m\n\u001b[0m\u001b[1;32m     21\u001b[0m \u001b[0;34m\u001b[0m\u001b[0m\n\u001b[1;32m     22\u001b[0m         \u001b[0;32mreturn\u001b[0m \u001b[0mdict_list\u001b[0m\u001b[0;34m\u001b[0m\u001b[0;34m\u001b[0m\u001b[0m\n",
      "\u001b[0;31mKeyError\u001b[0m: 'rfcOpenApi'"
     ]
    }
   ],
   "source": [
    "temp = festival_api.get()"
   ]
  },
  {
   "cell_type": "code",
   "execution_count": null,
   "id": "front-textbook",
   "metadata": {},
   "outputs": [],
   "source": []
  }
 ],
 "metadata": {
  "kernelspec": {
   "display_name": "Python 3",
   "language": "python",
   "name": "python3"
  },
  "language_info": {
   "codemirror_mode": {
    "name": "ipython",
    "version": 3
   },
   "file_extension": ".py",
   "mimetype": "text/x-python",
   "name": "python",
   "nbconvert_exporter": "python",
   "pygments_lexer": "ipython3",
   "version": "3.8.6"
  }
 },
 "nbformat": 4,
 "nbformat_minor": 5
}
