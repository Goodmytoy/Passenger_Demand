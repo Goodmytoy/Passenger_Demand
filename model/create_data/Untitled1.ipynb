{
 "cells": [
  {
   "cell_type": "code",
   "execution_count": null,
   "metadata": {},
   "outputs": [],
   "source": [
    "from multiprocessing_on_dill import Pool, cpu_count\n",
    "from functools import partial\n",
    "from tqdm import tqdm\n",
    "import pandas as pd\n",
    "import numpy as np\n",
    "\n",
    "\n",
    "def parallelize_dataframe(df, \n",
    "                          func, \n",
    "                          group_keys = None, \n",
    "                          num_cores = None,\n",
    "                          **params):\n",
    "    \"\"\"\n",
    "        Pandas DataFrame의 apply함수를 병렬처리 하는 함수\n",
    "\n",
    "        Args: \n",
    "            df: 적용 대상 데이터프레임 (Pandas.DataFrame)\n",
    "            group_keys: apply를 적용할 때 기준이되는 group by key\n",
    "\n",
    "        Returns:\n",
    "            df: (Pandas.DataFrame)\n",
    "            \n",
    "        Exception: \n",
    "    \"\"\"\n",
    "\n",
    "    if num_cores is None:\n",
    "        num_cores = cpu_count()\n",
    "\n",
    "    if group_keys is None:\n",
    "        df_list = np.array_split(df, num_cores)\n",
    "    elif group_keys is not None:\n",
    "        gr_df = df.groupby(group_keys)\n",
    "        df_list = [group for name, group in gr_df]\n",
    "    \n",
    "    #func = partial(func, **params)\n",
    "    \n",
    "    def map_func(data):\n",
    "        return data.apply(func, axis = 1, group_data= data.copy() ,**params)\n",
    "        \n",
    "        \n",
    "    with Pool(num_cores) as p:\n",
    "\n",
    "        pd_result = pd.concat(p.map(map_func, df_list))\n",
    "#         pd_result = p.starmap(func, **params)\n",
    "        \n",
    "    return pd_result"
   ]
  },
  {
   "cell_type": "code",
   "execution_count": null,
   "metadata": {},
   "outputs": [],
   "source": [
    "def period_before_cnt(data, group_data):\n",
    "    data_copy = data.copy()\n",
    "    col_names = ['totalcnt','normalcnt','studentcnt','childcnt']\n",
    "    \n",
    "    subset_df = group_data.sort_values(['transdate']).reset_index(drop=True).copy()\n",
    "    before_1day = subset_df[(subset_df['transdate'] == data_copy['transdate'] - datetime.timedelta(days=1))][col_names].copy()\n",
    "    before_1week = subset_df[(subset_df['transdate'] == data_copy['transdate'] - datetime.timedelta(weeks=1))][col_names].copy()\n",
    "    \n",
    "    j = 0\n",
    "    while len(before_1day) == 0:\n",
    "        j += 1\n",
    "        if subset_df['transdate'].min() >= data_copy['transdate'] - datetime.timedelta(days=j):\n",
    "            before_1day = subset_df[(subset_df['transdate'] == data_copy['transdate'])][col_names].copy()\n",
    "            j = -1\n",
    "            break\n",
    "        before_1day = subset_df[(subset_df['transdate'] == data_copy['transdate'] - datetime.timedelta(days=j))][col_names].copy()\n",
    "    before_1day['check'] = j\n",
    "    \n",
    "    k = 0\n",
    "    while len(before_1week) == 0:\n",
    "        k += 1\n",
    "        if subset_df['transdate'].min() >= data_copy['transdate'] - datetime.timedelta(weeks=k):\n",
    "            before_1week = subset_df[(subset_df['transdate'] == data_copy['transdate'])][col_names].copy()\n",
    "            k = -1\n",
    "            break\n",
    "        before_1week = subset_df[(subset_df['transdate'] == data_copy['transdate'] - datetime.timedelta(weeks=k))][col_names].copy()\n",
    "    before_1week['check'] = k\n",
    "    \n",
    "    for name in col_names + ['check']:\n",
    "        data_copy[name + 'D-1'] = before_1day.reset_index(drop=True).loc[0][name]\n",
    "        data_copy[name + 'W-1'] = before_1week.reset_index(drop=True).loc[0][name]\n",
    "    return data_copy"
   ]
  },
  {
   "cell_type": "code",
   "execution_count": null,
   "metadata": {},
   "outputs": [],
   "source": []
  },
  {
   "cell_type": "code",
   "execution_count": null,
   "metadata": {},
   "outputs": [],
   "source": [
    "%%time\n",
    "aa = parallelize_dataframe(df = bus_demand_401_10m[:1000][['stop_id', 'transdate', 'totalcnt', 'normalcnt', 'studentcnt', 'childcnt']]\n",
    "                                          , func = period_before_cnt, group_keys = 'stop_id', num_cores = 10, entire_df = bus_demand_401_10m[:1000][['stop_id', 'transdate', 'totalcnt', 'normalcnt', 'studentcnt', 'childcnt']])"
   ]
  }
 ],
 "metadata": {
  "kernelspec": {
   "display_name": "Python 3",
   "language": "python",
   "name": "python3"
  },
  "language_info": {
   "codemirror_mode": {
    "name": "ipython",
    "version": 3
   },
   "file_extension": ".py",
   "mimetype": "text/x-python",
   "name": "python",
   "nbconvert_exporter": "python",
   "pygments_lexer": "ipython3",
   "version": "3.6.8"
  }
 },
 "nbformat": 4,
 "nbformat_minor": 5
}
