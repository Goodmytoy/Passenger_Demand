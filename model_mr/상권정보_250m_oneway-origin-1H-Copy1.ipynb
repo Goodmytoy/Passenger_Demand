{
 "cells": [
  {
   "cell_type": "code",
   "execution_count": 1,
   "metadata": {},
   "outputs": [
    {
     "data": {
      "text/plain": [
       "'3.6.8 (default, Jan 14 2019, 11:02:34) \\n[GCC 8.0.1 20180414 (experimental) [trunk revision 259383]]'"
      ]
     },
     "execution_count": 1,
     "metadata": {},
     "output_type": "execute_result"
    }
   ],
   "source": [
    "import sys\n",
    "sys.version"
   ]
  },
  {
   "cell_type": "code",
   "execution_count": 2,
   "metadata": {},
   "outputs": [],
   "source": [
    "import os\n",
    "os.chdir(\"/project/work/Passenger_Demand\")"
   ]
  },
  {
   "cell_type": "markdown",
   "metadata": {},
   "source": [
    "## 패키지 설치\n",
    "!pip install seaborn\n",
    "!pip install haversine\n",
    "!pip install pyarrow\n",
    "!pip install multiprocessing_on_dill\n",
    "!pip install statsmodels"
   ]
  },
  {
   "cell_type": "code",
   "execution_count": 3,
   "metadata": {},
   "outputs": [],
   "source": [
    "import pandas as pd\n",
    "import numpy as np\n",
    "import math\n",
    "import numbers\n",
    "\n",
    "from haversine import haversine\n",
    "import seaborn as sns\n",
    "import matplotlib.pyplot as plt"
   ]
  },
  {
   "cell_type": "code",
   "execution_count": 4,
   "metadata": {},
   "outputs": [],
   "source": [
    "pd.set_option('display.max_columns', None)\n",
    "\n",
    "plt.rcParams['font.family'] = 'Nanum Gothic'\n",
    "sns.set(font=\"NanumGothic\")"
   ]
  },
  {
   "cell_type": "code",
   "execution_count": 14,
   "metadata": {},
   "outputs": [
    {
     "name": "stdout",
     "output_type": "stream",
     "text": [
      "CPU times: user 40.9 ms, sys: 54 ms, total: 94.9 ms\n",
      "Wall time: 26 ms\n"
     ]
    }
   ],
   "source": [
    "%%time\n",
    "bus_demand_401 = pd.read_parquet('model_mr/mybicard_401_agg.parquet', engine='pyarrow')"
   ]
  },
  {
   "cell_type": "code",
   "execution_count": 15,
   "metadata": {
    "scrolled": true
   },
   "outputs": [
    {
     "data": {
      "text/html": [
       "<div>\n",
       "<style scoped>\n",
       "    .dataframe tbody tr th:only-of-type {\n",
       "        vertical-align: middle;\n",
       "    }\n",
       "\n",
       "    .dataframe tbody tr th {\n",
       "        vertical-align: top;\n",
       "    }\n",
       "\n",
       "    .dataframe thead th {\n",
       "        text-align: right;\n",
       "    }\n",
       "</style>\n",
       "<table border=\"1\" class=\"dataframe\">\n",
       "  <thead>\n",
       "    <tr style=\"text-align: right;\">\n",
       "      <th></th>\n",
       "      <th>mybi_stop_id</th>\n",
       "      <th>transdate</th>\n",
       "      <th>normalcnt</th>\n",
       "      <th>studentcnt</th>\n",
       "      <th>childcnt</th>\n",
       "      <th>totalcnt</th>\n",
       "    </tr>\n",
       "  </thead>\n",
       "  <tbody>\n",
       "    <tr>\n",
       "      <th>223368</th>\n",
       "      <td>3101482</td>\n",
       "      <td>2020-04-08 00:00:00</td>\n",
       "      <td>1</td>\n",
       "      <td>1</td>\n",
       "      <td>0</td>\n",
       "      <td>2</td>\n",
       "    </tr>\n",
       "    <tr>\n",
       "      <th>16084</th>\n",
       "      <td>3100144</td>\n",
       "      <td>2020-04-08 00:00:00</td>\n",
       "      <td>2</td>\n",
       "      <td>0</td>\n",
       "      <td>0</td>\n",
       "      <td>2</td>\n",
       "    </tr>\n",
       "    <tr>\n",
       "      <th>89825</th>\n",
       "      <td>3101414</td>\n",
       "      <td>2020-04-08 00:00:00</td>\n",
       "      <td>0</td>\n",
       "      <td>1</td>\n",
       "      <td>0</td>\n",
       "      <td>1</td>\n",
       "    </tr>\n",
       "    <tr>\n",
       "      <th>164705</th>\n",
       "      <td>3101446</td>\n",
       "      <td>2020-04-08 00:00:00</td>\n",
       "      <td>1</td>\n",
       "      <td>0</td>\n",
       "      <td>0</td>\n",
       "      <td>1</td>\n",
       "    </tr>\n",
       "    <tr>\n",
       "      <th>156351</th>\n",
       "      <td>3101442</td>\n",
       "      <td>2020-04-08 00:00:00</td>\n",
       "      <td>1</td>\n",
       "      <td>0</td>\n",
       "      <td>0</td>\n",
       "      <td>1</td>\n",
       "    </tr>\n",
       "    <tr>\n",
       "      <th>95714</th>\n",
       "      <td>3101416</td>\n",
       "      <td>2020-04-08 00:00:00</td>\n",
       "      <td>1</td>\n",
       "      <td>0</td>\n",
       "      <td>0</td>\n",
       "      <td>1</td>\n",
       "    </tr>\n",
       "    <tr>\n",
       "      <th>150970</th>\n",
       "      <td>3101440</td>\n",
       "      <td>2020-04-08 00:00:00</td>\n",
       "      <td>1</td>\n",
       "      <td>0</td>\n",
       "      <td>0</td>\n",
       "      <td>1</td>\n",
       "    </tr>\n",
       "    <tr>\n",
       "      <th>278482</th>\n",
       "      <td>3101537</td>\n",
       "      <td>2020-04-08 05:00:00</td>\n",
       "      <td>2</td>\n",
       "      <td>0</td>\n",
       "      <td>0</td>\n",
       "      <td>2</td>\n",
       "    </tr>\n",
       "    <tr>\n",
       "      <th>293924</th>\n",
       "      <td>3101542</td>\n",
       "      <td>2020-04-08 05:00:00</td>\n",
       "      <td>16</td>\n",
       "      <td>0</td>\n",
       "      <td>0</td>\n",
       "      <td>16</td>\n",
       "    </tr>\n",
       "    <tr>\n",
       "      <th>13909</th>\n",
       "      <td>3100101</td>\n",
       "      <td>2020-04-08 05:00:00</td>\n",
       "      <td>1</td>\n",
       "      <td>0</td>\n",
       "      <td>0</td>\n",
       "      <td>1</td>\n",
       "    </tr>\n",
       "    <tr>\n",
       "      <th>167871</th>\n",
       "      <td>3101447</td>\n",
       "      <td>2020-04-08 05:00:00</td>\n",
       "      <td>1</td>\n",
       "      <td>0</td>\n",
       "      <td>0</td>\n",
       "      <td>1</td>\n",
       "    </tr>\n",
       "    <tr>\n",
       "      <th>177211</th>\n",
       "      <td>3101450</td>\n",
       "      <td>2020-04-08 05:00:00</td>\n",
       "      <td>3</td>\n",
       "      <td>0</td>\n",
       "      <td>0</td>\n",
       "      <td>3</td>\n",
       "    </tr>\n",
       "    <tr>\n",
       "      <th>58622</th>\n",
       "      <td>3100440</td>\n",
       "      <td>2020-04-08 05:00:00</td>\n",
       "      <td>1</td>\n",
       "      <td>0</td>\n",
       "      <td>0</td>\n",
       "      <td>1</td>\n",
       "    </tr>\n",
       "    <tr>\n",
       "      <th>291499</th>\n",
       "      <td>3101541</td>\n",
       "      <td>2020-04-08 05:00:00</td>\n",
       "      <td>1</td>\n",
       "      <td>0</td>\n",
       "      <td>0</td>\n",
       "      <td>1</td>\n",
       "    </tr>\n",
       "    <tr>\n",
       "      <th>228496</th>\n",
       "      <td>3101484</td>\n",
       "      <td>2020-04-08 05:00:00</td>\n",
       "      <td>2</td>\n",
       "      <td>0</td>\n",
       "      <td>0</td>\n",
       "      <td>2</td>\n",
       "    </tr>\n",
       "    <tr>\n",
       "      <th>170310</th>\n",
       "      <td>3101448</td>\n",
       "      <td>2020-04-08 05:00:00</td>\n",
       "      <td>2</td>\n",
       "      <td>0</td>\n",
       "      <td>0</td>\n",
       "      <td>2</td>\n",
       "    </tr>\n",
       "    <tr>\n",
       "      <th>29152</th>\n",
       "      <td>3100176</td>\n",
       "      <td>2020-04-08 05:00:00</td>\n",
       "      <td>4</td>\n",
       "      <td>0</td>\n",
       "      <td>0</td>\n",
       "      <td>4</td>\n",
       "    </tr>\n",
       "    <tr>\n",
       "      <th>288858</th>\n",
       "      <td>3101540</td>\n",
       "      <td>2020-04-08 05:00:00</td>\n",
       "      <td>3</td>\n",
       "      <td>0</td>\n",
       "      <td>0</td>\n",
       "      <td>3</td>\n",
       "    </tr>\n",
       "    <tr>\n",
       "      <th>173781</th>\n",
       "      <td>3101449</td>\n",
       "      <td>2020-04-08 05:00:00</td>\n",
       "      <td>2</td>\n",
       "      <td>0</td>\n",
       "      <td>0</td>\n",
       "      <td>2</td>\n",
       "    </tr>\n",
       "    <tr>\n",
       "      <th>267049</th>\n",
       "      <td>3101519</td>\n",
       "      <td>2020-04-08 05:00:00</td>\n",
       "      <td>5</td>\n",
       "      <td>0</td>\n",
       "      <td>0</td>\n",
       "      <td>5</td>\n",
       "    </tr>\n",
       "  </tbody>\n",
       "</table>\n",
       "</div>"
      ],
      "text/plain": [
       "        mybi_stop_id           transdate  normalcnt  studentcnt  childcnt  \\\n",
       "223368       3101482 2020-04-08 00:00:00          1           1         0   \n",
       "16084        3100144 2020-04-08 00:00:00          2           0         0   \n",
       "89825        3101414 2020-04-08 00:00:00          0           1         0   \n",
       "164705       3101446 2020-04-08 00:00:00          1           0         0   \n",
       "156351       3101442 2020-04-08 00:00:00          1           0         0   \n",
       "95714        3101416 2020-04-08 00:00:00          1           0         0   \n",
       "150970       3101440 2020-04-08 00:00:00          1           0         0   \n",
       "278482       3101537 2020-04-08 05:00:00          2           0         0   \n",
       "293924       3101542 2020-04-08 05:00:00         16           0         0   \n",
       "13909        3100101 2020-04-08 05:00:00          1           0         0   \n",
       "167871       3101447 2020-04-08 05:00:00          1           0         0   \n",
       "177211       3101450 2020-04-08 05:00:00          3           0         0   \n",
       "58622        3100440 2020-04-08 05:00:00          1           0         0   \n",
       "291499       3101541 2020-04-08 05:00:00          1           0         0   \n",
       "228496       3101484 2020-04-08 05:00:00          2           0         0   \n",
       "170310       3101448 2020-04-08 05:00:00          2           0         0   \n",
       "29152        3100176 2020-04-08 05:00:00          4           0         0   \n",
       "288858       3101540 2020-04-08 05:00:00          3           0         0   \n",
       "173781       3101449 2020-04-08 05:00:00          2           0         0   \n",
       "267049       3101519 2020-04-08 05:00:00          5           0         0   \n",
       "\n",
       "        totalcnt  \n",
       "223368         2  \n",
       "16084          2  \n",
       "89825          1  \n",
       "164705         1  \n",
       "156351         1  \n",
       "95714          1  \n",
       "150970         1  \n",
       "278482         2  \n",
       "293924        16  \n",
       "13909          1  \n",
       "167871         1  \n",
       "177211         3  \n",
       "58622          1  \n",
       "291499         1  \n",
       "228496         2  \n",
       "170310         2  \n",
       "29152          4  \n",
       "288858         3  \n",
       "173781         2  \n",
       "267049         5  "
      ]
     },
     "execution_count": 15,
     "metadata": {},
     "output_type": "execute_result"
    }
   ],
   "source": [
    "bus_demand_401.sort_values('transdate').head(20)"
   ]
  },
  {
   "cell_type": "code",
   "execution_count": 16,
   "metadata": {},
   "outputs": [
    {
     "data": {
      "text/plain": [
       "Timestamp('2020-04-08 00:00:00')"
      ]
     },
     "execution_count": 16,
     "metadata": {},
     "output_type": "execute_result"
    }
   ],
   "source": [
    "bus_demand_401_10m['transdate'].min()"
   ]
  },
  {
   "cell_type": "code",
   "execution_count": 17,
   "metadata": {},
   "outputs": [
    {
     "data": {
      "text/plain": [
       "Timestamp('2020-11-30 23:00:00')"
      ]
     },
     "execution_count": 17,
     "metadata": {},
     "output_type": "execute_result"
    }
   ],
   "source": [
    "bus_demand_401_10m['transdate'].max()"
   ]
  },
  {
   "cell_type": "code",
   "execution_count": 12,
   "metadata": {},
   "outputs": [
    {
     "data": {
      "text/plain": [
       "2020"
      ]
     },
     "execution_count": 12,
     "metadata": {},
     "output_type": "execute_result"
    }
   ],
   "source": [
    "bus_demand_401_10m['transdate'][0].month"
   ]
  },
  {
   "cell_type": "code",
   "execution_count": null,
   "metadata": {},
   "outputs": [],
   "source": [
    "def get_entire_period(df):\n",
    "    start_date, end_date = df['transdate'].min(), df['transdate'].max()\n",
    "    "
   ]
  },
  {
   "cell_type": "code",
   "execution_count": null,
   "metadata": {},
   "outputs": [],
   "source": [
    "def fill_blank_data():\n",
    "    "
   ]
  },
  {
   "cell_type": "code",
   "execution_count": null,
   "metadata": {},
   "outputs": [],
   "source": [
    "from datetime import datetime, timedelta # 20180501 부터 10일간 데이터 반환 \n",
    "base = datetime.strptime('20180501', '%Y%m%d') numdays = 10 date_list = [(base + timedelta(days=x)).strftime('%Y%m%d') for x in range(0, numdays)] print(date_list)\n",
    "\n",
    "출처: https://118k.tistory.com/686 [개발자로 살아남기]"
   ]
  },
  {
   "cell_type": "code",
   "execution_count": null,
   "metadata": {},
   "outputs": [],
   "source": []
  },
  {
   "cell_type": "code",
   "execution_count": null,
   "metadata": {},
   "outputs": [],
   "source": []
  },
  {
   "cell_type": "markdown",
   "metadata": {},
   "source": [
    "import datetime\n",
    "\n",
    "a=datetime.datetime.now()-datetime.timedelta(days=1)#하루전\n",
    "a=datetime.datetime.now()-datetime.timedelta(hours=1)#한시간전\n",
    "a=datetime.datetime.now()-datetime.timedelta(weeks=1)#일주일전\n",
    "\n",
    " \n",
    "\n",
    "2.달,년\n",
    "\n",
    "import dateutil.relativedelta import relativedelta\n",
    "a=datetime.datetime.now()-relativedelta(months=1)#한달전\n",
    "a=datetime.datetime.now()-relativedelta(years=1)#일년전"
   ]
  },
  {
   "cell_type": "code",
   "execution_count": 7,
   "metadata": {},
   "outputs": [],
   "source": [
    "import datetime\n",
    "from functools import partial\n",
    "from tqdm import tqdm"
   ]
  },
  {
   "cell_type": "code",
   "execution_count": 8,
   "metadata": {},
   "outputs": [],
   "source": [
    "from multiprocessing_on_dill import Pool, cpu_count\n",
    "from functools import partial\n",
    "from tqdm import tqdm\n",
    "import pandas as pd\n",
    "import numpy as np\n",
    "\n",
    "\n",
    "def parallelize_dataframe(df, \n",
    "                          func, \n",
    "                          group_keys = None, \n",
    "                          num_cores = None,\n",
    "                          **params):\n",
    "    \"\"\"\n",
    "        Pandas DataFrame의 apply함수를 병렬처리 하는 함수\n",
    "\n",
    "        Args: \n",
    "            df: 적용 대상 데이터프레임 (Pandas.DataFrame)\n",
    "            group_keys: apply를 적용할 때 기준이되는 group by key\n",
    "\n",
    "        Returns:\n",
    "            df: (Pandas.DataFrame)\n",
    "            \n",
    "        Exception: \n",
    "    \"\"\"\n",
    "\n",
    "    if num_cores is None:\n",
    "        num_cores = cpu_count()\n",
    "\n",
    "    if group_keys is None:\n",
    "        df_list = np.array_split(df, num_cores)\n",
    "    elif group_keys is not None:\n",
    "        gr_df = df.groupby(group_keys)\n",
    "        df_list = [group for name, group in gr_df]\n",
    "    \n",
    "    #func = partial(func, **params)\n",
    "    \n",
    "    def map_func(data):\n",
    "        return data.apply(func, axis = 1, group_data= data.copy() ,**params)\n",
    "        \n",
    "        \n",
    "    with Pool(num_cores) as p:\n",
    "\n",
    "        pd_result = pd.concat(p.map(map_func, df_list))\n",
    "#         pd_result = p.starmap(func, **params)\n",
    "        \n",
    "    return pd_result"
   ]
  },
  {
   "cell_type": "code",
   "execution_count": 35,
   "metadata": {},
   "outputs": [],
   "source": [
    "def period_before_cnt(data, group_data):\n",
    "    data_copy = data.copy()\n",
    "    col_names = ['totalcnt','normalcnt','studentcnt','childcnt']\n",
    "    \n",
    "    subset_df = group_data.sort_values(['transdate']).reset_index(drop=True).copy()\n",
    "    before_1day = subset_df[(subset_df['transdate'] == data_copy['transdate'] - datetime.timedelta(days=1))][col_names].copy()\n",
    "    before_1week = subset_df[(subset_df['transdate'] == data_copy['transdate'] - datetime.timedelta(weeks=1))][col_names].copy()\n",
    "    \n",
    "    j = 0\n",
    "    while len(before_1day) == 0:\n",
    "        j += 1\n",
    "        if subset_df['transdate'].min() >= data_copy['transdate'] - datetime.timedelta(days=j):\n",
    "            before_1day = subset_df[(subset_df['transdate'] == data_copy['transdate'])][col_names].copy()\n",
    "            j = -1\n",
    "            break\n",
    "        before_1day = subset_df[(subset_df['transdate'] == data_copy['transdate'] - datetime.timedelta(days=j))][col_names].copy()\n",
    "    before_1day['check'] = j\n",
    "    \n",
    "    k = 0\n",
    "    while len(before_1week) == 0:\n",
    "        k += 1\n",
    "        if subset_df['transdate'].min() >= data_copy['transdate'] - datetime.timedelta(weeks=k):\n",
    "            before_1week = subset_df[(subset_df['transdate'] == data_copy['transdate'])][col_names].copy()\n",
    "            k = -1\n",
    "            break\n",
    "        before_1week = subset_df[(subset_df['transdate'] == data_copy['transdate'] - datetime.timedelta(weeks=k))][col_names].copy()\n",
    "    before_1week['check'] = k\n",
    "    \n",
    "    for name in col_names + ['check']:\n",
    "        data_copy[name + 'D-1'] = before_1day.reset_index(drop=True).loc[0][name]\n",
    "        data_copy[name + 'W-1'] = before_1week.reset_index(drop=True).loc[0][name]\n",
    "    return data_copy"
   ]
  },
  {
   "cell_type": "code",
   "execution_count": 36,
   "metadata": {},
   "outputs": [
    {
     "data": {
      "text/plain": [
       "(401746, 125)"
      ]
     },
     "execution_count": 36,
     "metadata": {},
     "output_type": "execute_result"
    }
   ],
   "source": [
    "bus_demand_401_10m.shape"
   ]
  },
  {
   "cell_type": "code",
   "execution_count": 37,
   "metadata": {
    "scrolled": false
   },
   "outputs": [
    {
     "name": "stdout",
     "output_type": "stream",
     "text": [
      "CPU times: user 3.34 s, sys: 3.81 s, total: 7.15 s\n",
      "Wall time: 52min 3s\n"
     ]
    }
   ],
   "source": [
    "%%time\n",
    "bb = parallelize_dataframe(df = bus_demand_401_10m[['stop_id', 'transdate', 'totalcnt', 'normalcnt', 'studentcnt', 'childcnt']]\n",
    "                                          , func = period_before_cnt, group_keys = 'stop_id', num_cores = 10)"
   ]
  },
  {
   "cell_type": "code",
   "execution_count": null,
   "metadata": {},
   "outputs": [],
   "source": []
  }
 ],
 "metadata": {
  "kernelspec": {
   "display_name": "Python 3",
   "language": "python",
   "name": "python3"
  },
  "language_info": {
   "codemirror_mode": {
    "name": "ipython",
    "version": 3
   },
   "file_extension": ".py",
   "mimetype": "text/x-python",
   "name": "python",
   "nbconvert_exporter": "python",
   "pygments_lexer": "ipython3",
   "version": "3.6.8"
  }
 },
 "nbformat": 4,
 "nbformat_minor": 2
}
