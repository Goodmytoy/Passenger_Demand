{
 "cells": [
  {
   "cell_type": "code",
   "execution_count": 14,
   "metadata": {
    "scrolled": true
   },
   "outputs": [],
   "source": [
    "from utils.Trading_Data_by_API import *\n",
    "from utils.Geocoding_by_API import *"
   ]
  },
  {
   "cell_type": "markdown",
   "metadata": {},
   "source": [
    "### 울산시 행사 데이터"
   ]
  },
  {
   "cell_type": "markdown",
   "metadata": {},
   "source": [
    "serviceKey = \"G3XY9sAwKNcG9qftnKjQ%2BoBjKtV7nbVrEavi0hQhJuJAqFiXmxtdgZBDigpCHxz0Vmo3s%2BvvTzKFOw%2ByfGNuRA%3D%3D\""
   ]
  },
  {
   "cell_type": "code",
   "execution_count": 15,
   "metadata": {},
   "outputs": [],
   "source": [
    "serviceKey = \"ReOsv=IfT43PVLSiA4vDRjs=40TCqIw97oVP2D9QpmU=\""
   ]
  },
  {
   "cell_type": "code",
   "execution_count": 16,
   "metadata": {},
   "outputs": [],
   "source": [
    "params_dict = {\"authKey\" : 'ReOsv=IfT43PVLSiA4vDRjs=40TCqIw97oVP2D9QpmU=',\n",
    "               \"pageIndex\" : '1',\n",
    "               \"state\" : '01',\n",
    "               \"pageSize\" : '100',\n",
    "               \"resultType\" : \"json\"}"
   ]
  },
  {
   "cell_type": "code",
   "execution_count": 17,
   "metadata": {},
   "outputs": [],
   "source": [
    "trading_api = Trading_Data_by_API(params_dict = params_dict)"
   ]
  },
  {
   "cell_type": "code",
   "execution_count": 18,
   "metadata": {
    "scrolled": true
   },
   "outputs": [
    {
     "name": "stdout",
     "output_type": "stream",
     "text": [
      "n_rows : 100, total_count : 1487, max_page = 15\n"
     ]
    }
   ],
   "source": [
    "trading_data = trading_api.get()"
   ]
  },
  {
   "cell_type": "code",
   "execution_count": 19,
   "metadata": {},
   "outputs": [
    {
     "data": {
      "text/plain": [
       "(1487, 28)"
      ]
     },
     "execution_count": 19,
     "metadata": {},
     "output_type": "execute_result"
    }
   ],
   "source": [
    "trading_data.shape"
   ]
  },
  {
   "cell_type": "code",
   "execution_count": 20,
   "metadata": {},
   "outputs": [],
   "source": [
    "trading_data[\"updateDt\"] = pd.to_datetime(trading_data[\"updateDt\"], format = \"%Y-%m-%d\")"
   ]
  },
  {
   "cell_type": "code",
   "execution_count": 21,
   "metadata": {},
   "outputs": [],
   "source": [
    "trading_data = trading_data.loc[trading_data[\"siteWhlAddr\"].str.contains(\"울산\")].reset_index(drop=True)"
   ]
  },
  {
   "cell_type": "code",
   "execution_count": 22,
   "metadata": {},
   "outputs": [
    {
     "data": {
      "text/plain": [
       "(37, 28)"
      ]
     },
     "execution_count": 22,
     "metadata": {},
     "output_type": "execute_result"
    }
   ],
   "source": [
    "trading_data.shape"
   ]
  },
  {
   "cell_type": "code",
   "execution_count": 9,
   "metadata": {},
   "outputs": [],
   "source": [
    "trading_data = get_geocodeDf(trading_data, \"rdnWhlAddr\")"
   ]
  },
  {
   "cell_type": "code",
   "execution_count": 12,
   "metadata": {},
   "outputs": [
    {
     "data": {
      "text/plain": [
       "(93, 30)"
      ]
     },
     "execution_count": 12,
     "metadata": {},
     "output_type": "execute_result"
    }
   ],
   "source": [
    "trading_data.shape"
   ]
  },
  {
   "cell_type": "markdown",
   "metadata": {},
   "source": [
    "- rowNum : 번호\n",
    "- opnSfTeamCode : 개방자치단체코드필수\n",
    "- mgtNo : 관리번호필수\n",
    "- opnSvcId : 개방서비스ID필수\n",
    "- updateGbn : 데이터갱신구분\n",
    "- updateDt : 데이터갱신일자\n",
    "- opnSvcNm : 개방서비스명\n",
    "- bplcNm : 사업장명\n",
    "- sitePostNo : 지번우편번호\n",
    "- siteWhlAddr : 지번주소\n",
    "- rdnPostNo : 도로명우편번호\n",
    "- rdnWhlAddr : 도로명주소\n",
    "- siteArea : 소재지면적\n",
    "- apvPermYmd : 인허가일자\n",
    "- apvCancelYmd : 인허가취소일자\n",
    "- dcbYmd : 폐업일자\n",
    "- clgStdt : 휴업시작일자\n",
    "- clgEnddt : 휴업종료일자\n",
    "- ropnYmd : 재개업일자\n",
    "- trdStateGbn : 영업상태코드\n",
    "- trdStateNm : 영업상태명\n",
    "- dtlStateGbn : 상세영업상태코드\n",
    "- dtlStateNm : 상세영업상태명\n",
    "- x : 좌표정보(X)\n",
    "- y : 좌표정보(Y)\n",
    "- lastModTs : 최종수정일자\n",
    "- uptaeNm : 업태구분명\n",
    "- siteTel : 전화번호"
   ]
  },
  {
   "cell_type": "code",
   "execution_count": 13,
   "metadata": {},
   "outputs": [
    {
     "data": {
      "text/plain": [
       "array(['축산판매업', '미용업', '통신판매업', '건강기능식품일반판매업', '즉석판매제조가공업', '휴게음식점',\n",
       "       '일반음식점', '출판사', '동물판매업', '담배소매업', '의료기기판매(임대)업', '동물약국', '의원',\n",
       "       '요양보호사교육기관', '병원', '인터넷컴퓨터게임시설제공업', '식품제조가공업', '일반게임제공업',\n",
       "       '대기오염물질배출시설설치사업장', '저수조청소업', '제과점영업', '가축사육업', '건물위생관리업', '고압가스업',\n",
       "       '방문판매업', '집단급식소', '숙박업'], dtype=object)"
      ]
     },
     "execution_count": 13,
     "metadata": {},
     "output_type": "execute_result"
    }
   ],
   "source": [
    "trading_data.opnSvcNm.unique()"
   ]
  },
  {
   "cell_type": "code",
   "execution_count": null,
   "metadata": {},
   "outputs": [],
   "source": [
    "trading_data.to_csv(\"/home/seho/Passenger_Demand/data/trading_data.csv\")"
   ]
  }
 ],
 "metadata": {
  "kernelspec": {
   "display_name": "Python 3",
   "language": "python",
   "name": "python3"
  },
  "language_info": {
   "codemirror_mode": {
    "name": "ipython",
    "version": 3
   },
   "file_extension": ".py",
   "mimetype": "text/x-python",
   "name": "python",
   "nbconvert_exporter": "python",
   "pygments_lexer": "ipython3",
   "version": "3.6.8"
  }
 },
 "nbformat": 4,
 "nbformat_minor": 5
}
