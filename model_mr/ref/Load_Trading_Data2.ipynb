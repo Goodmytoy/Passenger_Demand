{
 "cells": [
  {
   "cell_type": "code",
   "execution_count": 1,
   "id": "completed-police",
   "metadata": {
    "scrolled": true
   },
   "outputs": [],
   "source": [
    "from utils.Trading_Data_by_API2 import *\n",
    "from utils.Geocoding_by_API import *"
   ]
  },
  {
   "cell_type": "markdown",
   "id": "rough-working",
   "metadata": {},
   "source": [
    "### 울산시 행사 데이터"
   ]
  },
  {
   "cell_type": "code",
   "execution_count": 2,
   "id": "honest-client",
   "metadata": {},
   "outputs": [],
   "source": [
    "serviceKey = \"G3XY9sAwKNcG9qftnKjQ%2BoBjKtV7nbVrEavi0hQhJuJAqFiXmxtdgZBDigpCHxz0Vmo3s%2BvvTzKFOw%2ByfGNuRA%3D%3D\""
   ]
  },
  {
   "cell_type": "code",
   "execution_count": 16,
   "id": "norwegian-rental",
   "metadata": {},
   "outputs": [],
   "source": [
    "params_dict1 = {\"serviceKey\" : serviceKey,\n",
    "                \"pageNo\" : 1,\n",
    "                \"numOfRows\" : 1000,\n",
    "                \"radius\" : 100,\n",
    "                \"region\" : '울산',\n",
    "                \"type\" : \"json\"}"
   ]
  },
  {
   "cell_type": "code",
   "execution_count": 17,
   "id": "postal-detection",
   "metadata": {},
   "outputs": [],
   "source": [
    "trading_api = Trading_Data_by_API(params_dict = params_dict1)"
   ]
  },
  {
   "cell_type": "code",
   "execution_count": 18,
   "id": "destroyed-brazilian",
   "metadata": {},
   "outputs": [
    {
     "ename": "SyntaxError",
     "evalue": "invalid syntax (<unknown>, line 1)",
     "output_type": "error",
     "traceback": [
      "Traceback \u001b[0;36m(most recent call last)\u001b[0m:\n",
      "  File \u001b[1;32m\"/usr/local/lib/python3.6/dist-packages/IPython/core/interactiveshell.py\"\u001b[0m, line \u001b[1;32m3325\u001b[0m, in \u001b[1;35mrun_code\u001b[0m\n    exec(code_obj, self.user_global_ns, self.user_ns)\n",
      "  File \u001b[1;32m\"<ipython-input-18-2a918caae4ab>\"\u001b[0m, line \u001b[1;32m1\u001b[0m, in \u001b[1;35m<module>\u001b[0m\n    trading_data = trading_api.get()\n",
      "  File \u001b[1;32m\"/project/work/Passenger_Demand/model_mr/ref/utils/Trading_Data_by_API2.py\"\u001b[0m, line \u001b[1;32m50\u001b[0m, in \u001b[1;35mget\u001b[0m\n    self.request_urls = self.create_request_urls()\n",
      "  File \u001b[1;32m\"/project/work/Passenger_Demand/model_mr/ref/utils/Trading_Data_by_API2.py\"\u001b[0m, line \u001b[1;32m36\u001b[0m, in \u001b[1;35mcreate_request_urls\u001b[0m\n    max_page = self.calculate_max_page(type = self.type)\n",
      "  File \u001b[1;32m\"/project/work/Passenger_Demand/model_mr/ref/utils/Data_by_API.py\"\u001b[0m, line \u001b[1;32m22\u001b[0m, in \u001b[1;35mcalculate_max_page\u001b[0m\n    rq_dict = self.to_dict(txt = rq.text, type = type)\n",
      "  File \u001b[1;32m\"/project/work/Passenger_Demand/model_mr/ref/utils/Data_by_API.py\"\u001b[0m, line \u001b[1;32m98\u001b[0m, in \u001b[1;35mto_dict\u001b[0m\n    rq_dict = ast.literal_eval(txt)\n",
      "  File \u001b[1;32m\"/usr/lib/python3.6/ast.py\"\u001b[0m, line \u001b[1;32m48\u001b[0m, in \u001b[1;35mliteral_eval\u001b[0m\n    node_or_string = parse(node_or_string, mode='eval')\n",
      "\u001b[0;36m  File \u001b[0;32m\"/usr/lib/python3.6/ast.py\"\u001b[0;36m, line \u001b[0;32m35\u001b[0;36m, in \u001b[0;35mparse\u001b[0;36m\u001b[0m\n\u001b[0;31m    return compile(source, filename, mode, PyCF_ONLY_AST)\u001b[0m\n",
      "\u001b[0;36m  File \u001b[0;32m\"<unknown>\"\u001b[0;36m, line \u001b[0;32m1\u001b[0m\n\u001b[0;31m    <OpenAPI_ServiceResponse>\u001b[0m\n\u001b[0m    ^\u001b[0m\n\u001b[0;31mSyntaxError\u001b[0m\u001b[0;31m:\u001b[0m invalid syntax\n"
     ]
    }
   ],
   "source": [
    "trading_data = trading_api.get()"
   ]
  },
  {
   "cell_type": "code",
   "execution_count": 6,
   "id": "original-cannon",
   "metadata": {},
   "outputs": [
    {
     "data": {
      "text/plain": [
       "(6823, 28)"
      ]
     },
     "execution_count": 6,
     "metadata": {},
     "output_type": "execute_result"
    }
   ],
   "source": [
    "\n",
    "trading_data.shape"
   ]
  },
  {
   "cell_type": "code",
   "execution_count": 7,
   "id": "billion-restaurant",
   "metadata": {},
   "outputs": [],
   "source": [
    "trading_data[\"updateDt\"] = pd.to_datetime(trading_data[\"updateDt\"], format = \"%Y-%m-%d\")"
   ]
  },
  {
   "cell_type": "code",
   "execution_count": 8,
   "id": "conscious-closer",
   "metadata": {},
   "outputs": [],
   "source": [
    "trading_data = trading_data.loc[trading_data[\"siteWhlAddr\"].str.contains(\"울산\")].reset_index(drop=True)"
   ]
  },
  {
   "cell_type": "code",
   "execution_count": 9,
   "id": "fitting-suffering",
   "metadata": {},
   "outputs": [],
   "source": [
    "trading_data = get_geocodeDf(trading_data, \"rdnWhlAddr\")"
   ]
  },
  {
   "cell_type": "code",
   "execution_count": 12,
   "id": "secure-addiction",
   "metadata": {},
   "outputs": [
    {
     "data": {
      "text/plain": [
       "(93, 30)"
      ]
     },
     "execution_count": 12,
     "metadata": {},
     "output_type": "execute_result"
    }
   ],
   "source": [
    "trading_data.shape"
   ]
  },
  {
   "cell_type": "code",
   "execution_count": null,
   "id": "conventional-south",
   "metadata": {},
   "outputs": [],
   "source": [
    "trading_data.to_csv(\"/home/seho/Passenger_Demand/data/trading_data.csv\")"
   ]
  }
 ],
 "metadata": {
  "kernelspec": {
   "display_name": "Python 3",
   "language": "python",
   "name": "python3"
  },
  "language_info": {
   "codemirror_mode": {
    "name": "ipython",
    "version": 3
   },
   "file_extension": ".py",
   "mimetype": "text/x-python",
   "name": "python",
   "nbconvert_exporter": "python",
   "pygments_lexer": "ipython3",
   "version": "3.8.8"
  }
 },
 "nbformat": 4,
 "nbformat_minor": 5
}
