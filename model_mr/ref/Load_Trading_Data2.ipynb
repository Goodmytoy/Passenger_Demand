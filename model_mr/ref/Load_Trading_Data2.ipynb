{
 "cells": [
  {
   "cell_type": "code",
   "execution_count": 1,
   "id": "completed-police",
   "metadata": {
    "scrolled": true
   },
   "outputs": [],
   "source": [
    "from utils.Trading_Data_by_API2 import *\n",
    "from utils.Geocoding_by_API import *"
   ]
  },
  {
   "cell_type": "markdown",
   "id": "rough-working",
   "metadata": {},
   "source": [
    "### 울산시 행사 데이터"
   ]
  },
  {
   "cell_type": "code",
   "execution_count": 2,
   "id": "honest-client",
   "metadata": {},
   "outputs": [],
   "source": [
    "serviceKey = \"G3XY9sAwKNcG9qftnKjQ%2BoBjKtV7nbVrEavi0hQhJuJAqFiXmxtdgZBDigpCHxz0Vmo3s%2BvvTzKFOw%2ByfGNuRA%3D%3D\""
   ]
  },
  {
   "cell_type": "code",
   "execution_count": 3,
   "metadata": {},
   "outputs": [],
   "source": [
    "params_dict1 = {\"serviceKey\" : serviceKey,\n",
    "                \"pageNo\" : 1,\n",
    "                \"numOfRows\" : 100,\n",
    "                \"radius\" : 20,\n",
    "                \"region\" : '울산',\n",
    "                \"cx\" : 129.31153125892968127,\n",
    "                \"cy\" : 35.53887490788107,\n",
    "                \"type\" : \"json\"}"
   ]
  },
  {
   "cell_type": "code",
   "execution_count": 4,
   "metadata": {},
   "outputs": [],
   "source": [
    "trading_api = Trading_Data_by_API(params_dict = params_dict1)"
   ]
  },
  {
   "cell_type": "code",
   "execution_count": null,
   "metadata": {},
   "outputs": [],
   "source": [
    "trading_data = trading_api.get()"
   ]
  },
  {
   "cell_type": "code",
   "execution_count": 5,
   "metadata": {},
   "outputs": [
    {
     "name": "stdout",
     "output_type": "stream",
     "text": [
      "{\n",
      "\t\"header\" : {\n",
      "\t\t\"description\" : \"소상공인시장진흥공단 반경내 상가업소정보\"\n",
      "\t\t,\"columns\" : [\"상가업소번호\",\"상호명\",\"지점명\",\"상권업종대분류코드\",\"상권업종대분류명\",\"상권업종중분류코드\",\"상권업종중분류명\",\"상권업종소분류코드\",\"상권업종소분류명\",\"표준산업분류코드\",\"표준산업분류명\",\"시도코드\",\"시도명\",\"시군구코드\",\"시군구명\",\"행정동코드\",\"행정동명\",\"법정동코드\",\"법정동명\",\"PNU코드\",\"대지구분코드\",\"대지구분명\",\"지번본번지\",\"지번부번지\",\"지번주소\",\"도로명코드\",\"도로명\",\"건물본번지\",\"건물부번지\",\"건물관리번호\",\"건물명\",\"도로명주소\",\"구우편번호\",\"신우편번호\",\"동정보\",\"층정보\",\"호정보\",\"경도\",\"위도\"]\n",
      "\t\t,\"stdrYm\" : \"202012\"\n",
      "\t\t,\"resultCode\" : \"00\"\n",
      "\t\t,\"resultMsg\" : \"NORMAL SERVICE\"\n",
      "\t},\n",
      "\t\"body\" : {\n",
      "\t\t\t\"items\" : [\n",
      "\t\t\t\t{\n",
      "\t\t\t\t\"bizesId\" : \"16766325\"\n",
      "\t\t\t\t,\"bizesNm\" : \"아이갓에브리씽울산광역\"\n",
      "\t\t\t\t,\"brchNm\" : \"시청점\"\n",
      "\t\t\t\t,\"indsLclsCd\" : \"Q\"\n",
      "\t\t\t\t,\"indsLclsNm\" : \"음식\"\n",
      "\t\t\t\t,\"indsMclsCd\" : \"Q12\"\n",
      "\t\t\t\t,\"indsMclsNm\" : \"커피점/카페\"\n",
      "\t\t\t\t,\"indsSclsCd\" : \"Q12A01\"\n",
      "\t\t\t\t,\"indsSclsNm\" : \"커피전문점/카페/다방\"\n",
      "\t\t\t\t,\"ksicCd\" : \"I56220\"\n",
      "\t\t\t\t,\"ksicNm\" : \"비알콜 음료점업\"\n",
      "\t\t\t\t,\"ctprvnCd\" : \"31\"\n",
      "\t\t\t\t,\"ctprvnNm\" : \"울산광역시\"\n",
      "\t\t\t\t,\"signguCd\" : \"31140\"\n",
      "\t\t\t\t,\"signguNm\" : \"남구\"\n",
      "\t\t\t\t,\"adongCd\" : \"3114051000\"\n",
      "\t\t\t\t,\"adongNm\" : \"신정1동\"\n",
      "\t\t\t\t,\"ldongCd\" : \"3114010400\"\n",
      "\t\t\t\t,\"ldongNm\" : \"신정동\"\n",
      "\t\t\t\t,\"lnoCd\" : \"3114010400206460004\"\n",
      "\t\t\t\t,\"plotSctCd\" : \"1\"\n",
      "\t\t\t\t,\"plotSctNm\" : \"대지\"\n",
      "\t\t\t\t,\"lnoMnno\" : 646\n",
      "\t\t\t\t,\"lnoSlno\" : 4\n",
      "\t\t\t\t,\"lnoAdr\" : \"울산광역시 남구 신정동 646-4\"\n",
      "\t\t\t\t,\"rdnmCd\" : \"311403170051\"\n",
      "\t\t\t\t,\"rdnm\" : \"울산광역시 남구 중앙로\"\n",
      "\t\t\t\t,\"bldMnno\" : 201\n",
      "\t\t\t\t,\"bldSlno\" : \"\"\n",
      "\t\t\t\t,\"bldMngNo\" : \"3114010400106460004010133\"\n",
      "\t\t\t\t,\"bldNm\" : \"울산광역시청\"\n",
      "\t\t\t\t,\"rdnmAdr\" : \"울산광역시 남구 중앙로 201\"\n",
      "\t\t\t\t,\"oldZipcd\" : \"680701\"\n",
      "\t\t\t\t,\"newZipcd\" : \"44675\"\n",
      "\t\t\t\t,\"dongNo\" : \"\"\n",
      "\t\t\t\t,\"flrNo\" : \"\"\n",
      "\t\t\t\t,\"hoNo\" : \"\"\n",
      "\t\t\t\t,\"lon\" : 129.311278149153\n",
      "\t\t\t\t,\"lat\" : 35.5379649623858\n",
      "\t\t\t\t}\n",
      "\t\t\t\t,{\n",
      "\t\t\t\t\"bizesId\" : \"23114865\"\n",
      "\t\t\t\t,\"bizesNm\" : \"시청구내이용원\"\n",
      "\t\t\t\t,\"brchNm\" : \"\"\n",
      "\t\t\t\t,\"indsLclsCd\" : \"F\"\n",
      "\t\t\t\t,\"indsLclsNm\" : \"생활서비스\"\n",
      "\t\t\t\t,\"indsMclsCd\" : \"F01\"\n",
      "\t\t\t\t,\"indsMclsNm\" : \"이/미용/건강\"\n",
      "\t\t\t\t,\"indsSclsCd\" : \"F01A04\"\n",
      "\t\t\t\t,\"indsSclsNm\" : \"남성미용실\"\n",
      "\t\t\t\t,\"ksicCd\" : \"S96111\"\n",
      "\t\t\t\t,\"ksicNm\" : \"이용업\"\n",
      "\t\t\t\t,\"ctprvnCd\" : \"31\"\n",
      "\t\t\t\t,\"ctprvnNm\" : \"울산광역시\"\n",
      "\t\t\t\t,\"signguCd\" : \"31140\"\n",
      "\t\t\t\t,\"signguNm\" : \"남구\"\n",
      "\t\t\t\t,\"adongCd\" : \"3114051000\"\n",
      "\t\t\t\t,\"adongNm\" : \"신정1동\"\n",
      "\t\t\t\t,\"ldongCd\" : \"3114010400\"\n",
      "\t\t\t\t,\"ldongNm\" : \"신정동\"\n",
      "\t\t\t\t,\"lnoCd\" : \"3114010400206460004\"\n",
      "\t\t\t\t,\"plotSctCd\" : \"1\"\n",
      "\t\t\t\t,\"plotSctNm\" : \"대지\"\n",
      "\t\t\t\t,\"lnoMnno\" : 646\n",
      "\t\t\t\t,\"lnoSlno\" : 4\n",
      "\t\t\t\t,\"lnoAdr\" : \"울산광역시 남구 신정동 646-4\"\n",
      "\t\t\t\t,\"rdnmCd\" : \"311403170051\"\n",
      "\t\t\t\t,\"rdnm\" : \"울산광역시 남구 중앙로\"\n",
      "\t\t\t\t,\"bldMnno\" : 201\n",
      "\t\t\t\t,\"bldSlno\" : \"\"\n",
      "\t\t\t\t,\"bldMngNo\" : \"3114010400106460004010133\"\n",
      "\t\t\t\t,\"bldNm\" : \"울산광역시청\"\n",
      "\t\t\t\t,\"rdnmAdr\" : \"울산광역시 남구 중앙로 201\"\n",
      "\t\t\t\t,\"oldZipcd\" : \"680701\"\n",
      "\t\t\t\t,\"newZipcd\" : \"44675\"\n",
      "\t\t\t\t,\"dongNo\" : \"\"\n",
      "\t\t\t\t,\"flrNo\" : \"\"\n",
      "\t\t\t\t,\"hoNo\" : \"\"\n",
      "\t\t\t\t,\"lon\" : 129.311278149153\n",
      "\t\t\t\t,\"lat\" : 35.5379649623858\n",
      "\t\t\t\t}\n",
      "\t\t\t\t,{\n",
      "\t\t\t\t\"bizesId\" : \"23364095\"\n",
      "\t\t\t\t,\"bizesNm\" : \"울산광역시직원휴게실쉼터\"\n",
      "\t\t\t\t,\"brchNm\" : \"\"\n",
      "\t\t\t\t,\"indsLclsCd\" : \"Q\"\n",
      "\t\t\t\t,\"indsLclsNm\" : \"음식\"\n",
      "\t\t\t\t,\"indsMclsCd\" : \"Q12\"\n",
      "\t\t\t\t,\"indsMclsNm\" : \"커피점/카페\"\n",
      "\t\t\t\t,\"indsSclsCd\" : \"Q12A01\"\n",
      "\t\t\t\t,\"indsSclsNm\" : \"커피전문점/카페/다방\"\n",
      "\t\t\t\t,\"ksicCd\" : \"I56220\"\n",
      "\t\t\t\t,\"ksicNm\" : \"비알콜 음료점업\"\n",
      "\t\t\t\t,\"ctprvnCd\" : \"31\"\n",
      "\t\t\t\t,\"ctprvnNm\" : \"울산광역시\"\n",
      "\t\t\t\t,\"signguCd\" : \"31140\"\n",
      "\t\t\t\t,\"signguNm\" : \"남구\"\n",
      "\t\t\t\t,\"adongCd\" : \"3114051000\"\n",
      "\t\t\t\t,\"adongNm\" : \"신정1동\"\n",
      "\t\t\t\t,\"ldongCd\" : \"3114010400\"\n",
      "\t\t\t\t,\"ldongNm\" : \"신정동\"\n",
      "\t\t\t\t,\"lnoCd\" : \"3114010400206460004\"\n",
      "\t\t\t\t,\"plotSctCd\" : \"1\"\n",
      "\t\t\t\t,\"plotSctNm\" : \"대지\"\n",
      "\t\t\t\t,\"lnoMnno\" : 646\n",
      "\t\t\t\t,\"lnoSlno\" : 4\n",
      "\t\t\t\t,\"lnoAdr\" : \"울산광역시 남구 신정동 646-4\"\n",
      "\t\t\t\t,\"rdnmCd\" : \"311403170051\"\n",
      "\t\t\t\t,\"rdnm\" : \"울산광역시 남구 중앙로\"\n",
      "\t\t\t\t,\"bldMnno\" : 201\n",
      "\t\t\t\t,\"bldSlno\" : \"\"\n",
      "\t\t\t\t,\"bldMngNo\" : \"3114010400106460004010133\"\n",
      "\t\t\t\t,\"bldNm\" : \"울산광역시청\"\n",
      "\t\t\t\t,\"rdnmAdr\" : \"울산광역시 남구 중앙로 201\"\n",
      "\t\t\t\t,\"oldZipcd\" : \"680701\"\n",
      "\t\t\t\t,\"newZipcd\" : \"44675\"\n",
      "\t\t\t\t,\"dongNo\" : \"\"\n",
      "\t\t\t\t,\"flrNo\" : \"1\"\n",
      "\t\t\t\t,\"hoNo\" : \"1\"\n",
      "\t\t\t\t,\"lon\" : 129.311278149153\n",
      "\t\t\t\t,\"lat\" : 35.5379649623858\n",
      "\t\t\t\t}\n",
      "\t\t\t\t,{\n",
      "\t\t\t\t\"bizesId\" : \"16579511\"\n",
      "\t\t\t\t,\"bizesNm\" : \"아이갓에브리싱\"\n",
      "\t\t\t\t,\"brchNm\" : \"\"\n",
      "\t\t\t\t,\"indsLclsCd\" : \"Q\"\n",
      "\t\t\t\t,\"indsLclsNm\" : \"음식\"\n",
      "\t\t\t\t,\"indsMclsCd\" : \"Q12\"\n",
      "\t\t\t\t,\"indsMclsNm\" : \"커피점/카페\"\n",
      "\t\t\t\t,\"indsSclsCd\" : \"Q12A01\"\n",
      "\t\t\t\t,\"indsSclsNm\" : \"커피전문점/카페/다방\"\n",
      "\t\t\t\t,\"ksicCd\" : \"I56220\"\n",
      "\t\t\t\t,\"ksicNm\" : \"비알콜 음료점업\"\n",
      "\t\t\t\t,\"ctprvnCd\" : \"31\"\n",
      "\t\t\t\t,\"ctprvnNm\" : \"울산광역시\"\n",
      "\t\t\t\t,\"signguCd\" : \"31140\"\n",
      "\t\t\t\t,\"signguNm\" : \"남구\"\n",
      "\t\t\t\t,\"adongCd\" : \"3114051000\"\n",
      "\t\t\t\t,\"adongNm\" : \"신정1동\"\n",
      "\t\t\t\t,\"ldongCd\" : \"3114010400\"\n",
      "\t\t\t\t,\"ldongNm\" : \"신정동\"\n",
      "\t\t\t\t,\"lnoCd\" : \"3114010400206460004\"\n",
      "\t\t\t\t,\"plotSctCd\" : \"1\"\n",
      "\t\t\t\t,\"plotSctNm\" : \"대지\"\n",
      "\t\t\t\t,\"lnoMnno\" : 646\n",
      "\t\t\t\t,\"lnoSlno\" : 4\n",
      "\t\t\t\t,\"lnoAdr\" : \"울산광역시 남구 신정동 646-4\"\n",
      "\t\t\t\t,\"rdnmCd\" : \"311403170051\"\n",
      "\t\t\t\t,\"rdnm\" : \"울산광역시 남구 중앙로\"\n",
      "\t\t\t\t,\"bldMnno\" : 201\n",
      "\t\t\t\t,\"bldSlno\" : \"\"\n",
      "\t\t\t\t,\"bldMngNo\" : \"3114010400106460004010133\"\n",
      "\t\t\t\t,\"bldNm\" : \"울산광역시청\"\n",
      "\t\t\t\t,\"rdnmAdr\" : \"울산광역시 남구 중앙로 201\"\n",
      "\t\t\t\t,\"oldZipcd\" : \"680701\"\n",
      "\t\t\t\t,\"newZipcd\" : \"44675\"\n",
      "\t\t\t\t,\"dongNo\" : \"\"\n",
      "\t\t\t\t,\"flrNo\" : \"13\"\n",
      "\t\t\t\t,\"hoNo\" : \"\"\n",
      "\t\t\t\t,\"lon\" : 129.311278149153\n",
      "\t\t\t\t,\"lat\" : 35.5379649623858\n",
      "\t\t\t\t}\n",
      "\t\t\t]\n",
      ",\n",
      "\t\t\"numOfRows\" : 100,\n",
      "\t\t\"pageNo\" : 1,\n",
      "\t\t\"totalCount\" : 4\t}\n",
      "}\n",
      "\n",
      "{'header': {'description': '소상공인시장진흥공단 반경내 상가업소정보', 'columns': ['상가업소번호', '상호명', '지점명', '상권업종대분류코드', '상권업종대분류명', '상권업종중분류코드', '상권업종중분류명', '상권업종소분류코드', '상권업종소분류명', '표준산업분류코드', '표준산업분류명', '시도코드', '시도명', '시군구코드', '시군구명', '행정동코드', '행정동명', '법정동코드', '법정동명', 'PNU코드', '대지구분코드', '대지구분명', '지번본번지', '지번부번지', '지번주소', '도로명코드', '도로명', '건물본번지', '건물부번지', '건물관리번호', '건물명', '도로명주소', '구우편번호', '신우편번호', '동정보', '층정보', '호정보', '경도', '위도'], 'stdrYm': '202012', 'resultCode': '00', 'resultMsg': 'NORMAL SERVICE'}, 'body': {'items': [{'bizesId': '16766325', 'bizesNm': '아이갓에브리씽울산광역', 'brchNm': '시청점', 'indsLclsCd': 'Q', 'indsLclsNm': '음식', 'indsMclsCd': 'Q12', 'indsMclsNm': '커피점/카페', 'indsSclsCd': 'Q12A01', 'indsSclsNm': '커피전문점/카페/다방', 'ksicCd': 'I56220', 'ksicNm': '비알콜 음료점업', 'ctprvnCd': '31', 'ctprvnNm': '울산광역시', 'signguCd': '31140', 'signguNm': '남구', 'adongCd': '3114051000', 'adongNm': '신정1동', 'ldongCd': '3114010400', 'ldongNm': '신정동', 'lnoCd': '3114010400206460004', 'plotSctCd': '1', 'plotSctNm': '대지', 'lnoMnno': 646, 'lnoSlno': 4, 'lnoAdr': '울산광역시 남구 신정동 646-4', 'rdnmCd': '311403170051', 'rdnm': '울산광역시 남구 중앙로', 'bldMnno': 201, 'bldSlno': '', 'bldMngNo': '3114010400106460004010133', 'bldNm': '울산광역시청', 'rdnmAdr': '울산광역시 남구 중앙로 201', 'oldZipcd': '680701', 'newZipcd': '44675', 'dongNo': '', 'flrNo': '', 'hoNo': '', 'lon': 129.311278149153, 'lat': 35.5379649623858}, {'bizesId': '23114865', 'bizesNm': '시청구내이용원', 'brchNm': '', 'indsLclsCd': 'F', 'indsLclsNm': '생활서비스', 'indsMclsCd': 'F01', 'indsMclsNm': '이/미용/건강', 'indsSclsCd': 'F01A04', 'indsSclsNm': '남성미용실', 'ksicCd': 'S96111', 'ksicNm': '이용업', 'ctprvnCd': '31', 'ctprvnNm': '울산광역시', 'signguCd': '31140', 'signguNm': '남구', 'adongCd': '3114051000', 'adongNm': '신정1동', 'ldongCd': '3114010400', 'ldongNm': '신정동', 'lnoCd': '3114010400206460004', 'plotSctCd': '1', 'plotSctNm': '대지', 'lnoMnno': 646, 'lnoSlno': 4, 'lnoAdr': '울산광역시 남구 신정동 646-4', 'rdnmCd': '311403170051', 'rdnm': '울산광역시 남구 중앙로', 'bldMnno': 201, 'bldSlno': '', 'bldMngNo': '3114010400106460004010133', 'bldNm': '울산광역시청', 'rdnmAdr': '울산광역시 남구 중앙로 201', 'oldZipcd': '680701', 'newZipcd': '44675', 'dongNo': '', 'flrNo': '', 'hoNo': '', 'lon': 129.311278149153, 'lat': 35.5379649623858}, {'bizesId': '23364095', 'bizesNm': '울산광역시직원휴게실쉼터', 'brchNm': '', 'indsLclsCd': 'Q', 'indsLclsNm': '음식', 'indsMclsCd': 'Q12', 'indsMclsNm': '커피점/카페', 'indsSclsCd': 'Q12A01', 'indsSclsNm': '커피전문점/카페/다방', 'ksicCd': 'I56220', 'ksicNm': '비알콜 음료점업', 'ctprvnCd': '31', 'ctprvnNm': '울산광역시', 'signguCd': '31140', 'signguNm': '남구', 'adongCd': '3114051000', 'adongNm': '신정1동', 'ldongCd': '3114010400', 'ldongNm': '신정동', 'lnoCd': '3114010400206460004', 'plotSctCd': '1', 'plotSctNm': '대지', 'lnoMnno': 646, 'lnoSlno': 4, 'lnoAdr': '울산광역시 남구 신정동 646-4', 'rdnmCd': '311403170051', 'rdnm': '울산광역시 남구 중앙로', 'bldMnno': 201, 'bldSlno': '', 'bldMngNo': '3114010400106460004010133', 'bldNm': '울산광역시청', 'rdnmAdr': '울산광역시 남구 중앙로 201', 'oldZipcd': '680701', 'newZipcd': '44675', 'dongNo': '', 'flrNo': '1', 'hoNo': '1', 'lon': 129.311278149153, 'lat': 35.5379649623858}, {'bizesId': '16579511', 'bizesNm': '아이갓에브리싱', 'brchNm': '', 'indsLclsCd': 'Q', 'indsLclsNm': '음식', 'indsMclsCd': 'Q12', 'indsMclsNm': '커피점/카페', 'indsSclsCd': 'Q12A01', 'indsSclsNm': '커피전문점/카페/다방', 'ksicCd': 'I56220', 'ksicNm': '비알콜 음료점업', 'ctprvnCd': '31', 'ctprvnNm': '울산광역시', 'signguCd': '31140', 'signguNm': '남구', 'adongCd': '3114051000', 'adongNm': '신정1동', 'ldongCd': '3114010400', 'ldongNm': '신정동', 'lnoCd': '3114010400206460004', 'plotSctCd': '1', 'plotSctNm': '대지', 'lnoMnno': 646, 'lnoSlno': 4, 'lnoAdr': '울산광역시 남구 신정동 646-4', 'rdnmCd': '311403170051', 'rdnm': '울산광역시 남구 중앙로', 'bldMnno': 201, 'bldSlno': '', 'bldMngNo': '3114010400106460004010133', 'bldNm': '울산광역시청', 'rdnmAdr': '울산광역시 남구 중앙로 201', 'oldZipcd': '680701', 'newZipcd': '44675', 'dongNo': '', 'flrNo': '13', 'hoNo': '', 'lon': 129.311278149153, 'lat': 35.5379649623858}], 'numOfRows': 100, 'pageNo': 1, 'totalCount': 4}}\n"
     ]
    },
    {
     "ename": "AttributeError",
     "evalue": "'NoneType' object has no attribute 'text'",
     "output_type": "error",
     "traceback": [
      "\u001b[0;31m---------------------------------------------------------------------------\u001b[0m",
      "\u001b[0;31mKeyError\u001b[0m                                  Traceback (most recent call last)",
      "\u001b[0;32m/project/work/Passenger_Demand/model_mr/ref/utils/Data_by_API.py\u001b[0m in \u001b[0;36mcalculate_max_page\u001b[0;34m(self, type)\u001b[0m\n\u001b[1;32m     26\u001b[0m         \u001b[0;32mtry\u001b[0m\u001b[0;34m:\u001b[0m\u001b[0;34m\u001b[0m\u001b[0;34m\u001b[0m\u001b[0m\n\u001b[0;32m---> 27\u001b[0;31m             \u001b[0mself\u001b[0m\u001b[0;34m.\u001b[0m\u001b[0mtotal_count\u001b[0m \u001b[0;34m=\u001b[0m \u001b[0mint\u001b[0m\u001b[0;34m(\u001b[0m\u001b[0mrq_dict\u001b[0m\u001b[0;34m[\u001b[0m\u001b[0;34m\"response\"\u001b[0m\u001b[0;34m]\u001b[0m\u001b[0;34m[\u001b[0m\u001b[0;34m\"body\"\u001b[0m\u001b[0;34m]\u001b[0m\u001b[0;34m[\u001b[0m\u001b[0;34m\"totalCount\"\u001b[0m\u001b[0;34m]\u001b[0m\u001b[0;34m)\u001b[0m\u001b[0;34m\u001b[0m\u001b[0;34m\u001b[0m\u001b[0m\n\u001b[0m\u001b[1;32m     28\u001b[0m         \u001b[0;32mexcept\u001b[0m\u001b[0;34m:\u001b[0m\u001b[0;34m\u001b[0m\u001b[0;34m\u001b[0m\u001b[0m\n",
      "\u001b[0;31mKeyError\u001b[0m: 'response'",
      "\nDuring handling of the above exception, another exception occurred:\n",
      "\u001b[0;31mAttributeError\u001b[0m                            Traceback (most recent call last)",
      "\u001b[0;32m<ipython-input-5-2a918caae4ab>\u001b[0m in \u001b[0;36m<module>\u001b[0;34m\u001b[0m\n\u001b[0;32m----> 1\u001b[0;31m \u001b[0mtrading_data\u001b[0m \u001b[0;34m=\u001b[0m \u001b[0mtrading_api\u001b[0m\u001b[0;34m.\u001b[0m\u001b[0mget\u001b[0m\u001b[0;34m(\u001b[0m\u001b[0;34m)\u001b[0m\u001b[0;34m\u001b[0m\u001b[0;34m\u001b[0m\u001b[0m\n\u001b[0m",
      "\u001b[0;32m/project/work/Passenger_Demand/model_mr/ref/utils/Trading_Data_by_API2.py\u001b[0m in \u001b[0;36mget\u001b[0;34m(self)\u001b[0m\n\u001b[1;32m     36\u001b[0m     \u001b[0;32mdef\u001b[0m \u001b[0mget\u001b[0m\u001b[0;34m(\u001b[0m\u001b[0mself\u001b[0m\u001b[0;34m)\u001b[0m\u001b[0;34m:\u001b[0m\u001b[0;34m\u001b[0m\u001b[0;34m\u001b[0m\u001b[0m\n\u001b[1;32m     37\u001b[0m \u001b[0;34m\u001b[0m\u001b[0m\n\u001b[0;32m---> 38\u001b[0;31m         \u001b[0mself\u001b[0m\u001b[0;34m.\u001b[0m\u001b[0mrequest_urls\u001b[0m \u001b[0;34m=\u001b[0m \u001b[0mself\u001b[0m\u001b[0;34m.\u001b[0m\u001b[0mcreate_request_urls\u001b[0m\u001b[0;34m(\u001b[0m\u001b[0;34m)\u001b[0m\u001b[0;34m\u001b[0m\u001b[0;34m\u001b[0m\u001b[0m\n\u001b[0m\u001b[1;32m     39\u001b[0m \u001b[0;34m\u001b[0m\u001b[0m\n\u001b[1;32m     40\u001b[0m         \u001b[0mdata_dict\u001b[0m \u001b[0;34m=\u001b[0m \u001b[0mdefaultdict\u001b[0m\u001b[0;34m(\u001b[0m\u001b[0mlist\u001b[0m\u001b[0;34m)\u001b[0m\u001b[0;34m\u001b[0m\u001b[0;34m\u001b[0m\u001b[0m\n",
      "\u001b[0;32m/project/work/Passenger_Demand/model_mr/ref/utils/Data_by_API.py\u001b[0m in \u001b[0;36mcreate_request_urls\u001b[0;34m(self)\u001b[0m\n\u001b[1;32m     49\u001b[0m \u001b[0;34m\u001b[0m\u001b[0m\n\u001b[1;32m     50\u001b[0m     \u001b[0;32mdef\u001b[0m \u001b[0mcreate_request_urls\u001b[0m\u001b[0;34m(\u001b[0m\u001b[0mself\u001b[0m\u001b[0;34m)\u001b[0m\u001b[0;34m:\u001b[0m\u001b[0;34m\u001b[0m\u001b[0;34m\u001b[0m\u001b[0m\n\u001b[0;32m---> 51\u001b[0;31m         \u001b[0mmax_page\u001b[0m \u001b[0;34m=\u001b[0m \u001b[0mself\u001b[0m\u001b[0;34m.\u001b[0m\u001b[0mcalculate_max_page\u001b[0m\u001b[0;34m(\u001b[0m\u001b[0mtype\u001b[0m \u001b[0;34m=\u001b[0m \u001b[0mself\u001b[0m\u001b[0;34m.\u001b[0m\u001b[0mtype\u001b[0m\u001b[0;34m)\u001b[0m\u001b[0;34m\u001b[0m\u001b[0;34m\u001b[0m\u001b[0m\n\u001b[0m\u001b[1;32m     52\u001b[0m \u001b[0;34m\u001b[0m\u001b[0m\n\u001b[1;32m     53\u001b[0m         \u001b[0mparams_dict\u001b[0m \u001b[0;34m=\u001b[0m \u001b[0mself\u001b[0m\u001b[0;34m.\u001b[0m\u001b[0mparams_dict\u001b[0m\u001b[0;34m.\u001b[0m\u001b[0mcopy\u001b[0m\u001b[0;34m(\u001b[0m\u001b[0;34m)\u001b[0m\u001b[0;34m\u001b[0m\u001b[0;34m\u001b[0m\u001b[0m\n",
      "\u001b[0;32m/project/work/Passenger_Demand/model_mr/ref/utils/Data_by_API.py\u001b[0m in \u001b[0;36mcalculate_max_page\u001b[0;34m(self, type)\u001b[0m\n\u001b[1;32m     28\u001b[0m         \u001b[0;32mexcept\u001b[0m\u001b[0;34m:\u001b[0m\u001b[0;34m\u001b[0m\u001b[0;34m\u001b[0m\u001b[0m\n\u001b[1;32m     29\u001b[0m             \u001b[0mxmlsoup\u001b[0m \u001b[0;34m=\u001b[0m \u001b[0mBeautifulSoup\u001b[0m\u001b[0;34m(\u001b[0m\u001b[0mrq\u001b[0m\u001b[0;34m.\u001b[0m\u001b[0mtext\u001b[0m\u001b[0;34m,\u001b[0m\u001b[0;34m'html.parser'\u001b[0m\u001b[0;34m)\u001b[0m\u001b[0;34m\u001b[0m\u001b[0;34m\u001b[0m\u001b[0m\n\u001b[0;32m---> 30\u001b[0;31m             \u001b[0mself\u001b[0m\u001b[0;34m.\u001b[0m\u001b[0mtotal_count\u001b[0m \u001b[0;34m=\u001b[0m \u001b[0mint\u001b[0m\u001b[0;34m(\u001b[0m\u001b[0mxmlsoup\u001b[0m\u001b[0;34m.\u001b[0m\u001b[0mfind\u001b[0m\u001b[0;34m(\u001b[0m\u001b[0;34m\"totalcount\"\u001b[0m\u001b[0;34m)\u001b[0m\u001b[0;34m.\u001b[0m\u001b[0mtext\u001b[0m\u001b[0;34m)\u001b[0m\u001b[0;34m\u001b[0m\u001b[0;34m\u001b[0m\u001b[0m\n\u001b[0m\u001b[1;32m     31\u001b[0m \u001b[0;34m\u001b[0m\u001b[0m\n\u001b[1;32m     32\u001b[0m         \u001b[0mmax_page\u001b[0m \u001b[0;34m=\u001b[0m \u001b[0mint\u001b[0m\u001b[0;34m(\u001b[0m\u001b[0mnp\u001b[0m\u001b[0;34m.\u001b[0m\u001b[0mceil\u001b[0m\u001b[0;34m(\u001b[0m\u001b[0mself\u001b[0m\u001b[0;34m.\u001b[0m\u001b[0mtotal_count\u001b[0m \u001b[0;34m/\u001b[0m \u001b[0mself\u001b[0m\u001b[0;34m.\u001b[0m\u001b[0mn_rows\u001b[0m\u001b[0;34m)\u001b[0m\u001b[0;34m)\u001b[0m\u001b[0;34m\u001b[0m\u001b[0;34m\u001b[0m\u001b[0m\n",
      "\u001b[0;31mAttributeError\u001b[0m: 'NoneType' object has no attribute 'text'"
     ]
    }
   ],
   "source": [
    "trading_data = trading_api.get()"
   ]
  },
  {
   "cell_type": "code",
   "execution_count": 5,
   "metadata": {
    "scrolled": true
   },
   "outputs": [
    {
     "ename": "AttributeError",
     "evalue": "'NoneType' object has no attribute 'text'",
     "output_type": "error",
     "traceback": [
      "\u001b[0;31m---------------------------------------------------------------------------\u001b[0m",
      "\u001b[0;31mKeyError\u001b[0m                                  Traceback (most recent call last)",
      "\u001b[0;32m/project/work/Passenger_Demand/model_mr/ref/utils/Data_by_API.py\u001b[0m in \u001b[0;36mcalculate_max_page\u001b[0;34m(self, type)\u001b[0m\n\u001b[1;32m     26\u001b[0m         \u001b[0;32mtry\u001b[0m\u001b[0;34m:\u001b[0m\u001b[0;34m\u001b[0m\u001b[0;34m\u001b[0m\u001b[0m\n\u001b[0;32m---> 27\u001b[0;31m             \u001b[0mself\u001b[0m\u001b[0;34m.\u001b[0m\u001b[0mtotal_count\u001b[0m \u001b[0;34m=\u001b[0m \u001b[0mint\u001b[0m\u001b[0;34m(\u001b[0m\u001b[0mrq_dict\u001b[0m\u001b[0;34m[\u001b[0m\u001b[0;34m\"response\"\u001b[0m\u001b[0;34m]\u001b[0m\u001b[0;34m[\u001b[0m\u001b[0;34m\"body\"\u001b[0m\u001b[0;34m]\u001b[0m\u001b[0;34m[\u001b[0m\u001b[0;34m\"totalCount\"\u001b[0m\u001b[0;34m]\u001b[0m\u001b[0;34m)\u001b[0m\u001b[0;34m\u001b[0m\u001b[0;34m\u001b[0m\u001b[0m\n\u001b[0m\u001b[1;32m     28\u001b[0m         \u001b[0;32mexcept\u001b[0m\u001b[0;34m:\u001b[0m\u001b[0;34m\u001b[0m\u001b[0;34m\u001b[0m\u001b[0m\n",
      "\u001b[0;31mKeyError\u001b[0m: 'response'",
      "\nDuring handling of the above exception, another exception occurred:\n",
      "\u001b[0;31mAttributeError\u001b[0m                            Traceback (most recent call last)",
      "\u001b[0;32m<ipython-input-5-2a918caae4ab>\u001b[0m in \u001b[0;36m<module>\u001b[0;34m\u001b[0m\n\u001b[0;32m----> 1\u001b[0;31m \u001b[0mtrading_data\u001b[0m \u001b[0;34m=\u001b[0m \u001b[0mtrading_api\u001b[0m\u001b[0;34m.\u001b[0m\u001b[0mget\u001b[0m\u001b[0;34m(\u001b[0m\u001b[0;34m)\u001b[0m\u001b[0;34m\u001b[0m\u001b[0;34m\u001b[0m\u001b[0m\n\u001b[0m",
      "\u001b[0;32m/project/work/Passenger_Demand/model_mr/ref/utils/Trading_Data_by_API2.py\u001b[0m in \u001b[0;36mget\u001b[0;34m(self)\u001b[0m\n\u001b[1;32m     26\u001b[0m     \u001b[0;32mdef\u001b[0m \u001b[0mget\u001b[0m\u001b[0;34m(\u001b[0m\u001b[0mself\u001b[0m\u001b[0;34m)\u001b[0m\u001b[0;34m:\u001b[0m\u001b[0;34m\u001b[0m\u001b[0;34m\u001b[0m\u001b[0m\n\u001b[1;32m     27\u001b[0m \u001b[0;34m\u001b[0m\u001b[0m\n\u001b[0;32m---> 28\u001b[0;31m         \u001b[0mself\u001b[0m\u001b[0;34m.\u001b[0m\u001b[0mrequest_urls\u001b[0m \u001b[0;34m=\u001b[0m \u001b[0mself\u001b[0m\u001b[0;34m.\u001b[0m\u001b[0mcreate_request_urls\u001b[0m\u001b[0;34m(\u001b[0m\u001b[0;34m)\u001b[0m\u001b[0;34m\u001b[0m\u001b[0;34m\u001b[0m\u001b[0m\n\u001b[0m\u001b[1;32m     29\u001b[0m \u001b[0;34m\u001b[0m\u001b[0m\n\u001b[1;32m     30\u001b[0m         \u001b[0mdata_dict\u001b[0m \u001b[0;34m=\u001b[0m \u001b[0mdefaultdict\u001b[0m\u001b[0;34m(\u001b[0m\u001b[0mlist\u001b[0m\u001b[0;34m)\u001b[0m\u001b[0;34m\u001b[0m\u001b[0;34m\u001b[0m\u001b[0m\n",
      "\u001b[0;32m/project/work/Passenger_Demand/model_mr/ref/utils/Data_by_API.py\u001b[0m in \u001b[0;36mcreate_request_urls\u001b[0;34m(self)\u001b[0m\n\u001b[1;32m     49\u001b[0m \u001b[0;34m\u001b[0m\u001b[0m\n\u001b[1;32m     50\u001b[0m     \u001b[0;32mdef\u001b[0m \u001b[0mcreate_request_urls\u001b[0m\u001b[0;34m(\u001b[0m\u001b[0mself\u001b[0m\u001b[0;34m)\u001b[0m\u001b[0;34m:\u001b[0m\u001b[0;34m\u001b[0m\u001b[0;34m\u001b[0m\u001b[0m\n\u001b[0;32m---> 51\u001b[0;31m         \u001b[0mmax_page\u001b[0m \u001b[0;34m=\u001b[0m \u001b[0mself\u001b[0m\u001b[0;34m.\u001b[0m\u001b[0mcalculate_max_page\u001b[0m\u001b[0;34m(\u001b[0m\u001b[0mtype\u001b[0m \u001b[0;34m=\u001b[0m \u001b[0mself\u001b[0m\u001b[0;34m.\u001b[0m\u001b[0mtype\u001b[0m\u001b[0;34m)\u001b[0m\u001b[0;34m\u001b[0m\u001b[0;34m\u001b[0m\u001b[0m\n\u001b[0m\u001b[1;32m     52\u001b[0m \u001b[0;34m\u001b[0m\u001b[0m\n\u001b[1;32m     53\u001b[0m         \u001b[0mparams_dict\u001b[0m \u001b[0;34m=\u001b[0m \u001b[0mself\u001b[0m\u001b[0;34m.\u001b[0m\u001b[0mparams_dict\u001b[0m\u001b[0;34m.\u001b[0m\u001b[0mcopy\u001b[0m\u001b[0;34m(\u001b[0m\u001b[0;34m)\u001b[0m\u001b[0;34m\u001b[0m\u001b[0;34m\u001b[0m\u001b[0m\n",
      "\u001b[0;32m/project/work/Passenger_Demand/model_mr/ref/utils/Data_by_API.py\u001b[0m in \u001b[0;36mcalculate_max_page\u001b[0;34m(self, type)\u001b[0m\n\u001b[1;32m     28\u001b[0m         \u001b[0;32mexcept\u001b[0m\u001b[0;34m:\u001b[0m\u001b[0;34m\u001b[0m\u001b[0;34m\u001b[0m\u001b[0m\n\u001b[1;32m     29\u001b[0m             \u001b[0mxmlsoup\u001b[0m \u001b[0;34m=\u001b[0m \u001b[0mBeautifulSoup\u001b[0m\u001b[0;34m(\u001b[0m\u001b[0mrq\u001b[0m\u001b[0;34m.\u001b[0m\u001b[0mtext\u001b[0m\u001b[0;34m,\u001b[0m\u001b[0;34m'html.parser'\u001b[0m\u001b[0;34m)\u001b[0m\u001b[0;34m\u001b[0m\u001b[0;34m\u001b[0m\u001b[0m\n\u001b[0;32m---> 30\u001b[0;31m             \u001b[0mself\u001b[0m\u001b[0;34m.\u001b[0m\u001b[0mtotal_count\u001b[0m \u001b[0;34m=\u001b[0m \u001b[0mint\u001b[0m\u001b[0;34m(\u001b[0m\u001b[0mxmlsoup\u001b[0m\u001b[0;34m.\u001b[0m\u001b[0mfind\u001b[0m\u001b[0;34m(\u001b[0m\u001b[0;34m\"totalcount\"\u001b[0m\u001b[0;34m)\u001b[0m\u001b[0;34m.\u001b[0m\u001b[0mtext\u001b[0m\u001b[0;34m)\u001b[0m\u001b[0;34m\u001b[0m\u001b[0;34m\u001b[0m\u001b[0m\n\u001b[0m\u001b[1;32m     31\u001b[0m \u001b[0;34m\u001b[0m\u001b[0m\n\u001b[1;32m     32\u001b[0m         \u001b[0mmax_page\u001b[0m \u001b[0;34m=\u001b[0m \u001b[0mint\u001b[0m\u001b[0;34m(\u001b[0m\u001b[0mnp\u001b[0m\u001b[0;34m.\u001b[0m\u001b[0mceil\u001b[0m\u001b[0;34m(\u001b[0m\u001b[0mself\u001b[0m\u001b[0;34m.\u001b[0m\u001b[0mtotal_count\u001b[0m \u001b[0;34m/\u001b[0m \u001b[0mself\u001b[0m\u001b[0;34m.\u001b[0m\u001b[0mn_rows\u001b[0m\u001b[0;34m)\u001b[0m\u001b[0;34m)\u001b[0m\u001b[0;34m\u001b[0m\u001b[0;34m\u001b[0m\u001b[0m\n",
      "\u001b[0;31mAttributeError\u001b[0m: 'NoneType' object has no attribute 'text'"
     ]
    }
   ],
   "source": [
    "trading_data = trading_api.get()"
   ]
  },
  {
   "cell_type": "code",
   "execution_count": 10,
   "metadata": {
    "scrolled": true
   },
   "outputs": [
    {
     "name": "stdout",
     "output_type": "stream",
     "text": [
      "<OpenAPI_ServiceResponse>\n",
      "\t<cmmMsgHeader>\n",
      "\t\t<errMsg>SERVICE ERROR</errMsg>\n",
      "\t\t<returnAuthMsg>HTTP_ERROR</returnAuthMsg>\n",
      "\t\t<returnReasonCode>04</returnReasonCode>\n",
      "\t</cmmMsgHeader>\n",
      "</OpenAPI_ServiceResponse>\n",
      "OrderedDict([('OpenAPI_ServiceResponse', OrderedDict([('cmmMsgHeader', OrderedDict([('errMsg', 'SERVICE ERROR'), ('returnAuthMsg', 'HTTP_ERROR'), ('returnReasonCode', '04')]))]))])\n"
     ]
    },
    {
     "ename": "AttributeError",
     "evalue": "'NoneType' object has no attribute 'text'",
     "output_type": "error",
     "traceback": [
      "\u001b[0;31m---------------------------------------------------------------------------\u001b[0m",
      "\u001b[0;31mKeyError\u001b[0m                                  Traceback (most recent call last)",
      "\u001b[0;32m/project/work/Passenger_Demand/model_mr/ref/utils/Data_by_API.py\u001b[0m in \u001b[0;36mcalculate_max_page\u001b[0;34m(self, type)\u001b[0m\n\u001b[1;32m     26\u001b[0m         \u001b[0;32mtry\u001b[0m\u001b[0;34m:\u001b[0m\u001b[0;34m\u001b[0m\u001b[0;34m\u001b[0m\u001b[0m\n\u001b[0;32m---> 27\u001b[0;31m             \u001b[0mself\u001b[0m\u001b[0;34m.\u001b[0m\u001b[0mtotal_count\u001b[0m \u001b[0;34m=\u001b[0m \u001b[0mint\u001b[0m\u001b[0;34m(\u001b[0m\u001b[0mrq_dict\u001b[0m\u001b[0;34m[\u001b[0m\u001b[0;34m\"response\"\u001b[0m\u001b[0;34m]\u001b[0m\u001b[0;34m[\u001b[0m\u001b[0;34m\"body\"\u001b[0m\u001b[0;34m]\u001b[0m\u001b[0;34m[\u001b[0m\u001b[0;34m\"totalCount\"\u001b[0m\u001b[0;34m]\u001b[0m\u001b[0;34m)\u001b[0m\u001b[0;34m\u001b[0m\u001b[0;34m\u001b[0m\u001b[0m\n\u001b[0m\u001b[1;32m     28\u001b[0m         \u001b[0;32mexcept\u001b[0m\u001b[0;34m:\u001b[0m\u001b[0;34m\u001b[0m\u001b[0;34m\u001b[0m\u001b[0m\n",
      "\u001b[0;31mKeyError\u001b[0m: 'response'",
      "\nDuring handling of the above exception, another exception occurred:\n",
      "\u001b[0;31mAttributeError\u001b[0m                            Traceback (most recent call last)",
      "\u001b[0;32m<ipython-input-10-2a918caae4ab>\u001b[0m in \u001b[0;36m<module>\u001b[0;34m\u001b[0m\n\u001b[0;32m----> 1\u001b[0;31m \u001b[0mtrading_data\u001b[0m \u001b[0;34m=\u001b[0m \u001b[0mtrading_api\u001b[0m\u001b[0;34m.\u001b[0m\u001b[0mget\u001b[0m\u001b[0;34m(\u001b[0m\u001b[0;34m)\u001b[0m\u001b[0;34m\u001b[0m\u001b[0;34m\u001b[0m\u001b[0m\n\u001b[0m",
      "\u001b[0;32m/project/work/Passenger_Demand/model_mr/ref/utils/Trading_Data_by_API2.py\u001b[0m in \u001b[0;36mget\u001b[0;34m(self)\u001b[0m\n\u001b[1;32m     59\u001b[0m     \u001b[0;32mdef\u001b[0m \u001b[0mget\u001b[0m\u001b[0;34m(\u001b[0m\u001b[0mself\u001b[0m\u001b[0;34m)\u001b[0m\u001b[0;34m:\u001b[0m\u001b[0;34m\u001b[0m\u001b[0;34m\u001b[0m\u001b[0m\n\u001b[1;32m     60\u001b[0m \u001b[0;34m\u001b[0m\u001b[0m\n\u001b[0;32m---> 61\u001b[0;31m         \u001b[0mself\u001b[0m\u001b[0;34m.\u001b[0m\u001b[0mrequest_urls\u001b[0m \u001b[0;34m=\u001b[0m \u001b[0mself\u001b[0m\u001b[0;34m.\u001b[0m\u001b[0mcreate_request_urls\u001b[0m\u001b[0;34m(\u001b[0m\u001b[0;34m)\u001b[0m\u001b[0;34m\u001b[0m\u001b[0;34m\u001b[0m\u001b[0m\n\u001b[0m\u001b[1;32m     62\u001b[0m \u001b[0;34m\u001b[0m\u001b[0m\n\u001b[1;32m     63\u001b[0m         \u001b[0mdata_dict\u001b[0m \u001b[0;34m=\u001b[0m \u001b[0mdefaultdict\u001b[0m\u001b[0;34m(\u001b[0m\u001b[0mlist\u001b[0m\u001b[0;34m)\u001b[0m\u001b[0;34m\u001b[0m\u001b[0;34m\u001b[0m\u001b[0m\n",
      "\u001b[0;32m/project/work/Passenger_Demand/model_mr/ref/utils/Trading_Data_by_API2.py\u001b[0m in \u001b[0;36mcreate_request_urls\u001b[0;34m(self)\u001b[0m\n\u001b[1;32m     45\u001b[0m \u001b[0;34m\u001b[0m\u001b[0m\n\u001b[1;32m     46\u001b[0m     \u001b[0;32mdef\u001b[0m \u001b[0mcreate_request_urls\u001b[0m\u001b[0;34m(\u001b[0m\u001b[0mself\u001b[0m\u001b[0;34m)\u001b[0m\u001b[0;34m:\u001b[0m\u001b[0;34m\u001b[0m\u001b[0;34m\u001b[0m\u001b[0m\n\u001b[0;32m---> 47\u001b[0;31m         \u001b[0mmax_page\u001b[0m \u001b[0;34m=\u001b[0m \u001b[0mself\u001b[0m\u001b[0;34m.\u001b[0m\u001b[0mcalculate_max_page\u001b[0m\u001b[0;34m(\u001b[0m\u001b[0mtype\u001b[0m \u001b[0;34m=\u001b[0m \u001b[0mself\u001b[0m\u001b[0;34m.\u001b[0m\u001b[0mtype\u001b[0m\u001b[0;34m)\u001b[0m\u001b[0;34m\u001b[0m\u001b[0;34m\u001b[0m\u001b[0m\n\u001b[0m\u001b[1;32m     48\u001b[0m \u001b[0;34m\u001b[0m\u001b[0m\n\u001b[1;32m     49\u001b[0m         \u001b[0mparams_dict\u001b[0m \u001b[0;34m=\u001b[0m \u001b[0mself\u001b[0m\u001b[0;34m.\u001b[0m\u001b[0mparams_dict\u001b[0m\u001b[0;34m.\u001b[0m\u001b[0mcopy\u001b[0m\u001b[0;34m(\u001b[0m\u001b[0;34m)\u001b[0m\u001b[0;34m\u001b[0m\u001b[0;34m\u001b[0m\u001b[0m\n",
      "\u001b[0;32m/project/work/Passenger_Demand/model_mr/ref/utils/Data_by_API.py\u001b[0m in \u001b[0;36mcalculate_max_page\u001b[0;34m(self, type)\u001b[0m\n\u001b[1;32m     28\u001b[0m         \u001b[0;32mexcept\u001b[0m\u001b[0;34m:\u001b[0m\u001b[0;34m\u001b[0m\u001b[0;34m\u001b[0m\u001b[0m\n\u001b[1;32m     29\u001b[0m             \u001b[0mxmlsoup\u001b[0m \u001b[0;34m=\u001b[0m \u001b[0mBeautifulSoup\u001b[0m\u001b[0;34m(\u001b[0m\u001b[0mrq\u001b[0m\u001b[0;34m.\u001b[0m\u001b[0mtext\u001b[0m\u001b[0;34m,\u001b[0m\u001b[0;34m'html.parser'\u001b[0m\u001b[0;34m)\u001b[0m\u001b[0;34m\u001b[0m\u001b[0;34m\u001b[0m\u001b[0m\n\u001b[0;32m---> 30\u001b[0;31m             \u001b[0mself\u001b[0m\u001b[0;34m.\u001b[0m\u001b[0mtotal_count\u001b[0m \u001b[0;34m=\u001b[0m \u001b[0mint\u001b[0m\u001b[0;34m(\u001b[0m\u001b[0mxmlsoup\u001b[0m\u001b[0;34m.\u001b[0m\u001b[0mfind\u001b[0m\u001b[0;34m(\u001b[0m\u001b[0;34m\"totalcount\"\u001b[0m\u001b[0;34m)\u001b[0m\u001b[0;34m.\u001b[0m\u001b[0mtext\u001b[0m\u001b[0;34m)\u001b[0m\u001b[0;34m\u001b[0m\u001b[0;34m\u001b[0m\u001b[0m\n\u001b[0m\u001b[1;32m     31\u001b[0m \u001b[0;34m\u001b[0m\u001b[0m\n\u001b[1;32m     32\u001b[0m         \u001b[0mmax_page\u001b[0m \u001b[0;34m=\u001b[0m \u001b[0mint\u001b[0m\u001b[0;34m(\u001b[0m\u001b[0mnp\u001b[0m\u001b[0;34m.\u001b[0m\u001b[0mceil\u001b[0m\u001b[0;34m(\u001b[0m\u001b[0mself\u001b[0m\u001b[0;34m.\u001b[0m\u001b[0mtotal_count\u001b[0m \u001b[0;34m/\u001b[0m \u001b[0mself\u001b[0m\u001b[0;34m.\u001b[0m\u001b[0mn_rows\u001b[0m\u001b[0;34m)\u001b[0m\u001b[0;34m)\u001b[0m\u001b[0;34m\u001b[0m\u001b[0;34m\u001b[0m\u001b[0m\n",
      "\u001b[0;31mAttributeError\u001b[0m: 'NoneType' object has no attribute 'text'"
     ]
    }
   ],
   "source": [
    "trading_data = trading_api.get()"
   ]
  },
  {
   "cell_type": "code",
   "execution_count": 6,
   "id": "original-cannon",
   "metadata": {},
   "outputs": [
    {
     "data": {
      "text/plain": [
       "(6823, 28)"
      ]
     },
     "execution_count": 6,
     "metadata": {},
     "output_type": "execute_result"
    }
   ],
   "source": [
    "\n",
    "trading_data.shape"
   ]
  },
  {
   "cell_type": "code",
   "execution_count": 7,
   "id": "billion-restaurant",
   "metadata": {},
   "outputs": [],
   "source": [
    "trading_data[\"updateDt\"] = pd.to_datetime(trading_data[\"updateDt\"], format = \"%Y-%m-%d\")"
   ]
  },
  {
   "cell_type": "code",
   "execution_count": 8,
   "id": "conscious-closer",
   "metadata": {},
   "outputs": [],
   "source": [
    "trading_data = trading_data.loc[trading_data[\"siteWhlAddr\"].str.contains(\"울산\")].reset_index(drop=True)"
   ]
  },
  {
   "cell_type": "code",
   "execution_count": 9,
   "id": "fitting-suffering",
   "metadata": {},
   "outputs": [],
   "source": [
    "trading_data = get_geocodeDf(trading_data, \"rdnWhlAddr\")"
   ]
  },
  {
   "cell_type": "code",
   "execution_count": 12,
   "id": "secure-addiction",
   "metadata": {},
   "outputs": [
    {
     "data": {
      "text/plain": [
       "(93, 30)"
      ]
     },
     "execution_count": 12,
     "metadata": {},
     "output_type": "execute_result"
    }
   ],
   "source": [
    "trading_data.shape"
   ]
  },
  {
   "cell_type": "code",
   "execution_count": null,
   "id": "conventional-south",
   "metadata": {},
   "outputs": [],
   "source": [
    "trading_data.to_csv(\"/home/seho/Passenger_Demand/data/trading_data.csv\")"
   ]
  }
 ],
 "metadata": {
  "kernelspec": {
   "display_name": "Python 3",
   "language": "python",
   "name": "python3"
  },
  "language_info": {
   "codemirror_mode": {
    "name": "ipython",
    "version": 3
   },
   "file_extension": ".py",
   "mimetype": "text/x-python",
   "name": "python",
   "nbconvert_exporter": "python",
   "pygments_lexer": "ipython3",
   "version": "3.8.8"
  }
 },
 "nbformat": 4,
 "nbformat_minor": 5
}
