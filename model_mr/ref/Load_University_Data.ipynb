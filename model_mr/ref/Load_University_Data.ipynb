{
 "cells": [
  {
   "cell_type": "code",
   "execution_count": 4,
   "metadata": {
    "scrolled": true
   },
   "outputs": [],
   "source": [
    "from utils.University_Data_by_API import *\n",
    "from utils.Geocoding_by_API import *"
   ]
  },
  {
   "cell_type": "markdown",
   "id": "robust-joseph",
   "metadata": {},
   "source": [
    "### 울산시 행사 데이터"
   ]
  },
  {
   "cell_type": "code",
   "execution_count": 5,
   "metadata": {},
   "outputs": [],
   "source": [
    "apiKey = \"24b216ad9062d687e0745d2d847255bc\""
   ]
  },
  {
   "cell_type": "code",
   "execution_count": 6,
   "metadata": {},
   "outputs": [],
   "source": [
    "params_dict1 = {\"apiKey\" : apiKey,\n",
    "                \"svcType\" : 'api',\n",
    "                \"svcCode\" : 'SCHOOL',\n",
    "                \"gubun\" : 'univ_list',\n",
    "                \"thisPage\" : 1,\n",
    "                \"perPage\" : 1000,\n",
    "                \"contentType\" : \"json\"}"
   ]
  },
  {
   "cell_type": "code",
   "execution_count": 12,
   "metadata": {},
   "outputs": [],
   "source": [
    "university_api = University_Data_by_API(params_dict = params_dict1)"
   ]
  },
  {
   "cell_type": "code",
   "execution_count": 13,
   "metadata": {
    "scrolled": false
   },
   "outputs": [],
   "source": [
    "university_data = university_api.get()"
   ]
  },
  {
   "cell_type": "code",
   "execution_count": 14,
   "metadata": {},
   "outputs": [
    {
     "data": {
      "text/plain": [
       "(430, 11)"
      ]
     },
     "execution_count": 14,
     "metadata": {},
     "output_type": "execute_result"
    }
   ],
   "source": [
    "university_data.shape"
   ]
  },
  {
   "cell_type": "code",
   "execution_count": 9,
   "metadata": {},
   "outputs": [],
   "source": [
    "university_data = university_data.loc[university_data[\"region\"].str.contains(\"울산\")].reset_index(drop=True)"
   ]
  },
  {
   "cell_type": "code",
   "execution_count": 11,
   "metadata": {},
   "outputs": [
    {
     "data": {
      "text/plain": [
       "(6, 11)"
      ]
     },
     "execution_count": 11,
     "metadata": {},
     "output_type": "execute_result"
    }
   ],
   "source": [
    "university_data.shape"
   ]
  },
  {
   "cell_type": "code",
   "execution_count": 7,
   "id": "italic-medline",
   "metadata": {},
   "outputs": [],
   "source": [
    "university_data = get_geocodeDf(university_data, \"adres\")"
   ]
  },
  {
   "cell_type": "code",
   "execution_count": 8,
   "id": "configured-occasion",
   "metadata": {},
   "outputs": [
    {
     "data": {
      "text/html": [
       "<div>\n",
       "<style scoped>\n",
       "    .dataframe tbody tr th:only-of-type {\n",
       "        vertical-align: middle;\n",
       "    }\n",
       "\n",
       "    .dataframe tbody tr th {\n",
       "        vertical-align: top;\n",
       "    }\n",
       "\n",
       "    .dataframe thead th {\n",
       "        text-align: right;\n",
       "    }\n",
       "</style>\n",
       "<table border=\"1\" class=\"dataframe\">\n",
       "  <thead>\n",
       "    <tr style=\"text-align: right;\">\n",
       "      <th></th>\n",
       "      <th>campusName</th>\n",
       "      <th>collegeinfourl</th>\n",
       "      <th>schoolType</th>\n",
       "      <th>link</th>\n",
       "      <th>schoolGubun</th>\n",
       "      <th>adres</th>\n",
       "      <th>schoolName</th>\n",
       "      <th>region</th>\n",
       "      <th>totalCount</th>\n",
       "      <th>estType</th>\n",
       "      <th>seq</th>\n",
       "      <th>latitude</th>\n",
       "      <th>longitude</th>\n",
       "    </tr>\n",
       "  </thead>\n",
       "  <tbody>\n",
       "    <tr>\n",
       "      <th>0</th>\n",
       "      <td>본교</td>\n",
       "      <td></td>\n",
       "      <td>일반대학</td>\n",
       "      <td>http://www.unist.ac.kr</td>\n",
       "      <td>대학(4년제)</td>\n",
       "      <td>울산광역시 울주군 언양읍 유니스트길 50 (반연리, 울산과학기술대학교)</td>\n",
       "      <td>울산과학기술원</td>\n",
       "      <td>울산광역시</td>\n",
       "      <td>430</td>\n",
       "      <td>국립</td>\n",
       "      <td>737.0</td>\n",
       "      <td>35.576332</td>\n",
       "      <td>129.189255</td>\n",
       "    </tr>\n",
       "    <tr>\n",
       "      <th>1</th>\n",
       "      <td>본교</td>\n",
       "      <td></td>\n",
       "      <td>전문대학</td>\n",
       "      <td>http://www.uc.ac.kr</td>\n",
       "      <td>전문대학</td>\n",
       "      <td>울산광역시 동구 봉수로 101 (화정동, 울산과학대학동부캠퍼스)</td>\n",
       "      <td>울산과학대학교</td>\n",
       "      <td>울산광역시</td>\n",
       "      <td>430</td>\n",
       "      <td>사립</td>\n",
       "      <td>359.0</td>\n",
       "      <td>35.495789</td>\n",
       "      <td>129.415650</td>\n",
       "    </tr>\n",
       "    <tr>\n",
       "      <th>2</th>\n",
       "      <td>본교</td>\n",
       "      <td></td>\n",
       "      <td>일반대학</td>\n",
       "      <td>http://www.ulsan.ac.kr</td>\n",
       "      <td>대학(4년제)</td>\n",
       "      <td>울산광역시 남구 대학로 93 (무거동, 울산대학교)</td>\n",
       "      <td>울산대학교</td>\n",
       "      <td>울산광역시</td>\n",
       "      <td>430</td>\n",
       "      <td>사립</td>\n",
       "      <td>130.0</td>\n",
       "      <td>35.543741</td>\n",
       "      <td>129.256284</td>\n",
       "    </tr>\n",
       "    <tr>\n",
       "      <th>3</th>\n",
       "      <td>본교</td>\n",
       "      <td></td>\n",
       "      <td>전문대학</td>\n",
       "      <td>http://www.ch.ac.kr</td>\n",
       "      <td>전문대학</td>\n",
       "      <td>울산광역시 울주군 웅촌면 대학길 9 (곡천리, 춘해보건대학)</td>\n",
       "      <td>춘해보건대학교</td>\n",
       "      <td>울산광역시</td>\n",
       "      <td>430</td>\n",
       "      <td>사립</td>\n",
       "      <td>391.0</td>\n",
       "      <td>35.457857</td>\n",
       "      <td>129.196400</td>\n",
       "    </tr>\n",
       "    <tr>\n",
       "      <th>4</th>\n",
       "      <td>울산캠퍼스</td>\n",
       "      <td></td>\n",
       "      <td>기능대학(폴리텍대학)</td>\n",
       "      <td>http://www.kopo.ac.kr</td>\n",
       "      <td>전문대학</td>\n",
       "      <td>울산광역시 중구 산전길 155 (동동, 한국폴리텍7대학울산캠퍼스)</td>\n",
       "      <td>한국폴리텍 VII 대학 울산캠퍼스</td>\n",
       "      <td>울산광역시</td>\n",
       "      <td>430</td>\n",
       "      <td>국립</td>\n",
       "      <td>712.0</td>\n",
       "      <td>35.579623</td>\n",
       "      <td>129.347966</td>\n",
       "    </tr>\n",
       "    <tr>\n",
       "      <th>5</th>\n",
       "      <td>본교</td>\n",
       "      <td></td>\n",
       "      <td>일반대학</td>\n",
       "      <td>http://college.hhi.co.kr</td>\n",
       "      <td>전문대학</td>\n",
       "      <td>울산광역시 동구 방어진순환도로 1000 (전하동, 현대중공업(주))</td>\n",
       "      <td>현대중공업공과대학</td>\n",
       "      <td>울산광역시</td>\n",
       "      <td>430</td>\n",
       "      <td>사립</td>\n",
       "      <td>967.0</td>\n",
       "      <td>35.503284</td>\n",
       "      <td>129.435867</td>\n",
       "    </tr>\n",
       "  </tbody>\n",
       "</table>\n",
       "</div>"
      ],
      "text/plain": [
       "  campusName collegeinfourl   schoolType                      link  \\\n",
       "0         본교                        일반대학    http://www.unist.ac.kr   \n",
       "1         본교                        전문대학       http://www.uc.ac.kr   \n",
       "2         본교                        일반대학    http://www.ulsan.ac.kr   \n",
       "3         본교                        전문대학       http://www.ch.ac.kr   \n",
       "4      울산캠퍼스                 기능대학(폴리텍대학)     http://www.kopo.ac.kr   \n",
       "5         본교                        일반대학  http://college.hhi.co.kr   \n",
       "\n",
       "  schoolGubun                                    adres          schoolName  \\\n",
       "0     대학(4년제)  울산광역시 울주군 언양읍 유니스트길 50 (반연리, 울산과학기술대학교)             울산과학기술원   \n",
       "1        전문대학      울산광역시 동구 봉수로 101 (화정동, 울산과학대학동부캠퍼스)             울산과학대학교   \n",
       "2     대학(4년제)             울산광역시 남구 대학로 93 (무거동, 울산대학교)               울산대학교   \n",
       "3        전문대학        울산광역시 울주군 웅촌면 대학길 9 (곡천리, 춘해보건대학)             춘해보건대학교   \n",
       "4        전문대학     울산광역시 중구 산전길 155 (동동, 한국폴리텍7대학울산캠퍼스)  한국폴리텍 VII 대학 울산캠퍼스   \n",
       "5        전문대학    울산광역시 동구 방어진순환도로 1000 (전하동, 현대중공업(주))           현대중공업공과대학   \n",
       "\n",
       "  region totalCount estType    seq   latitude   longitude  \n",
       "0  울산광역시        430      국립  737.0  35.576332  129.189255  \n",
       "1  울산광역시        430      사립  359.0  35.495789  129.415650  \n",
       "2  울산광역시        430      사립  130.0  35.543741  129.256284  \n",
       "3  울산광역시        430      사립  391.0  35.457857  129.196400  \n",
       "4  울산광역시        430      국립  712.0  35.579623  129.347966  \n",
       "5  울산광역시        430      사립  967.0  35.503284  129.435867  "
      ]
     },
     "execution_count": 8,
     "metadata": {},
     "output_type": "execute_result"
    }
   ],
   "source": [
    "university_data"
   ]
  },
  {
   "cell_type": "code",
   "execution_count": null,
   "id": "spare-membrane",
   "metadata": {},
   "outputs": [],
   "source": [
    "university_data.to_csv(\"/home/seho/Passenger_Demand/data/trading_data.csv\")"
   ]
  }
 ],
 "metadata": {
  "kernelspec": {
   "display_name": "Python 3",
   "language": "python",
   "name": "python3"
  },
  "language_info": {
   "codemirror_mode": {
    "name": "ipython",
    "version": 3
   },
   "file_extension": ".py",
   "mimetype": "text/x-python",
   "name": "python",
   "nbconvert_exporter": "python",
   "pygments_lexer": "ipython3",
   "version": "3.8.8"
  }
 },
 "nbformat": 4,
 "nbformat_minor": 5
}
