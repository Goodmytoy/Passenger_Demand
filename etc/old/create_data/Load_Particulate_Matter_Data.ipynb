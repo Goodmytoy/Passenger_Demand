{
 "cells": [
  {
   "cell_type": "code",
   "execution_count": 1,
   "id": "beneficial-transportation",
   "metadata": {},
   "outputs": [],
   "source": [
    "from utils.Particulate_Matter_Data_by_API import *"
   ]
  },
  {
   "cell_type": "code",
   "execution_count": 2,
   "id": "valid-importance",
   "metadata": {},
   "outputs": [],
   "source": [
    "serviceKey = \"eLWdQyzctRdtv8bEOuewsTtK6sNkoWp1bE74OUBk43jg4tU6AsI6yYt6Z%2B7sOeaqtB5pTH2yHuPRIuEHtu5amQ%3D%3D\""
   ]
  },
  {
   "cell_type": "code",
   "execution_count": 10,
   "id": "viral-interval",
   "metadata": {},
   "outputs": [],
   "source": [
    "params_dict = {\"serviceKey\" : serviceKey,\n",
    "               \"returnType\" : \"json\",\n",
    "               \"numOfRows\" : 1000,\n",
    "               \"pageNo\" : 1,\n",
    "               \"year\" : 2020}"
   ]
  },
  {
   "cell_type": "code",
   "execution_count": 11,
   "id": "specialized-universe",
   "metadata": {},
   "outputs": [],
   "source": [
    "pm_data_api = PM_Data_by_API(params_dict = params_dict)"
   ]
  },
  {
   "cell_type": "code",
   "execution_count": 12,
   "id": "exact-underground",
   "metadata": {},
   "outputs": [
    {
     "name": "stdout",
     "output_type": "stream",
     "text": [
      "n_rows : 1000, total_count : 304, max_page = 1\n",
      "CPU times: user 13.2 ms, sys: 14.1 ms, total: 27.2 ms\n",
      "Wall time: 266 ms\n"
     ]
    }
   ],
   "source": [
    "%%time\n",
    "pm_data = pm_data_api.get()"
   ]
  },
  {
   "cell_type": "code",
   "execution_count": 9,
   "id": "embedded-bunny",
   "metadata": {},
   "outputs": [],
   "source": [
    "pm_data.to_csv(\"/home/seho/Passenger_Demand/data/pm_data.csv\")"
   ]
  }
 ],
 "metadata": {
  "kernelspec": {
   "display_name": "Python 3",
   "language": "python",
   "name": "python3"
  },
  "language_info": {
   "codemirror_mode": {
    "name": "ipython",
    "version": 3
   },
   "file_extension": ".py",
   "mimetype": "text/x-python",
   "name": "python",
   "nbconvert_exporter": "python",
   "pygments_lexer": "ipython3",
   "version": "3.8.6"
  }
 },
 "nbformat": 4,
 "nbformat_minor": 5
}
